{
 "cells": [
  {
   "cell_type": "markdown",
   "metadata": {},
   "source": [
    "# Рекомендательные системы"
   ]
  },
  {
   "cell_type": "markdown",
   "metadata": {},
   "source": [
    "**Описание задачи**\n",
    "\n",
    "Небольшой интернет-магазин попросил вас добавить ранжирование товаров в блок \"Смотрели ранее\" - в нем теперь надо показывать не последние просмотренные пользователем товары, а те товары из просмотренных, которые он наиболее вероятно купит.\n",
    "\n",
    "Качество вашего решения будет оцениваться по количеству покупок в сравнении с прошлым решением в ходе А/В теста, т.к. по доходу от продаж статзначимость будет достигаться дольше из-за разброса цен. Таким образом, ничего заранее не зная про корреляцию оффлайновых и онлайновых метрик качества, в начале проекта вы можете лишь постараться оптимизировать **recall@k** и **precision@k**."
   ]
  },
  {
   "cell_type": "markdown",
   "metadata": {},
   "source": [
    "По имеющимся данным можно построить простые бейзлайны: ранжирование просмотренных товаров по частоте просмотров и по частоте покупок.\n",
    "\n",
    "Эти бейзлайны, с одной стороны, могут помочь грубо оценить возможный эффект от ранжирования товаров в блоке - например, чтобы вписать какие-то числа в коммерческое предложение заказчику, а с другой стороны, могут оказаться самым хорошим вариантом, если данных очень мало (недостаточно для обучения даже простых моделей)."
   ]
  },
  {
   "cell_type": "markdown",
   "metadata": {},
   "source": [
    "**Входные данные**\n",
    "\n",
    "Имеется две выборки с пользовательскими сессиями - **id**-шниками просмотренных и **id**-шниками купленных товаров. Одна выборка будет использоваться для обучения (оценки популярностей товаров), а другая - для теста.\n",
    "\n",
    "В файлах записаны сессии по одной в каждой строке. Формат сессии: **id** просмотренных товаров через *`,`* затем идёт *`;`* после чего следуют **id** купленных товаров (если такие имеются), разделённые запятой. Например, **1,2,3,4;** или **1,2,3,4;5,6**.\n",
    "\n",
    "Гарантируется, что среди **id** купленных товаров все различные."
   ]
  },
  {
   "cell_type": "markdown",
   "metadata": {},
   "source": [
    "**Особенности**\n",
    "\n",
    "- Сессии, в которых пользователь ничего не купил, исключаются из оценки качества.\n",
    "- Если товар не встречался в обучающей выборке, его популярность равна 0.\n",
    "- Число рекомендуемых товаров всегда не больше, чем минимум из двух чисел: количество просмотренных пользователем товаров и **k** в **recall@k** / **precision@k**."
   ]
  },
  {
   "cell_type": "markdown",
   "metadata": {},
   "source": [
    "**Необходимо**\n",
    "\n",
    "1. Реализовать два алгоритма рекомендаций:\n",
    "    - сортировка просмотренных **id** по популярности (частота появления в просмотренных),\n",
    "    - сортировка просмотренных **id** по покупаемости (частота появления в покупках).\n",
    "2. Для данных алгоритмов оценить среднюю полноту и среднюю точность при рекомендации 1 и 5 товаров **AverageRecall@1**, **AveragePrecision@1**, **AverageRecall@5**, **AveragePrecision@5**."
   ]
  },
  {
   "cell_type": "markdown",
   "metadata": {},
   "source": [
    "**1. Загрузка данных.**"
   ]
  },
  {
   "cell_type": "code",
   "execution_count": 1,
   "metadata": {},
   "outputs": [],
   "source": [
    "foldef_path = r'C:\\Users\\Xiaomi\\Desktop\\Data Science\\5. Прикладные задачи анализа данных'\n",
    "train_file_name = 'coursera_sessions_train.txt'\n",
    "test_file_name = 'coursera_sessions_test.txt'\n",
    "\n",
    "train_file = foldef_path + '\\\\' + train_file_name\n",
    "test_file = foldef_path + '\\\\' + test_file_name"
   ]
  },
  {
   "cell_type": "code",
   "execution_count": 2,
   "metadata": {},
   "outputs": [],
   "source": [
    "with open(train_file, 'r', encoding='utf-8') as file:\n",
    "    train_data = file.read()\n",
    "\n",
    "train_data = list(map(lambda x: x.strip(), train_data.strip().split('\\n')))"
   ]
  },
  {
   "cell_type": "code",
   "execution_count": 3,
   "metadata": {},
   "outputs": [],
   "source": [
    "with open(test_file, 'r', encoding='utf-8') as file:\n",
    "    test_data = file.read()\n",
    "\n",
    "test_data = list(map(lambda x: x.strip(), test_data.strip().split('\\n')))"
   ]
  },
  {
   "cell_type": "code",
   "execution_count": 4,
   "metadata": {},
   "outputs": [
    {
     "name": "stdout",
     "output_type": "stream",
     "text": [
      "train_data: 50000\n",
      "test_data: 50000\n"
     ]
    }
   ],
   "source": [
    "print('train_data:', len(train_data))\n",
    "print('test_data:', len(test_data))"
   ]
  },
  {
   "cell_type": "markdown",
   "metadata": {},
   "source": [
    "**2. Определение частоты появления `id` в просмотренных и в купленных.**"
   ]
  },
  {
   "cell_type": "code",
   "execution_count": 5,
   "metadata": {},
   "outputs": [],
   "source": [
    "# Число появления id в просмотренных и в купленных\n",
    "\n",
    "viewed_id = dict()\n",
    "purchased_id = dict()\n",
    "\n",
    "for session_data in train_data:\n",
    "    \n",
    "    viewed_id_list = session_data.split(';')[0].strip()\n",
    "    purchased_id_list = session_data.split(';')[1].strip()\n",
    "    \n",
    "    for items_id in viewed_id_list.split(','):\n",
    "        viewed_id.setdefault(items_id.strip(), 1)\n",
    "        viewed_id[items_id.strip()]+=1\n",
    "    \n",
    "    for items_id in purchased_id_list.split(','):\n",
    "        purchased_id.setdefault(items_id.strip(), 1)\n",
    "        purchased_id[items_id.strip()]+=1\n",
    "\n",
    "del purchased_id['']"
   ]
  },
  {
   "cell_type": "code",
   "execution_count": 6,
   "metadata": {},
   "outputs": [],
   "source": [
    "# Частоты появления id в просмотренных и в купленных\n",
    "\n",
    "viewed_id_frequency = dict()\n",
    "purchased_id_frequency = dict()\n",
    "\n",
    "viewed_id_sum = sum(viewed_id.values())\n",
    "purchased_id_sum = sum(purchased_id.values())\n",
    "\n",
    "for item, count in zip(viewed_id.keys(), viewed_id.values()):\n",
    "    viewed_id_frequency[item] = count / viewed_id_sum\n",
    "\n",
    "for item, count in zip(purchased_id.keys(), purchased_id.values()):\n",
    "    purchased_id_frequency[item] = count / purchased_id_sum"
   ]
  },
  {
   "cell_type": "code",
   "execution_count": 74,
   "metadata": {},
   "outputs": [],
   "source": [
    "# Сортировка просмотренных id по популярности (частота появления в просмотренных)\n",
    "# viewed_id_frequency_sorted_dict = sorted(viewed_id_frequency.items(), key=lambda x: x[1], reverse=True)\n",
    "# viewed_id_frequency_sorted_list = sorted(viewed_id_frequency, key=viewed_id_frequency.get, reverse=True)\n",
    "\n",
    "# Сортировка просмотренных id по покупаемости (частота появления в покупках)\n",
    "# purchased_id_frequency_sorted_dict = sorted(purchased_id_frequency.items(), key=lambda x: x[1], reverse=True)\n",
    "# purchased_id_frequency_sorted_list = sorted(purchased_id_frequency, key=purchased_id_frequency.get, reverse=True)"
   ]
  },
  {
   "cell_type": "markdown",
   "metadata": {},
   "source": [
    "**3. Подготовка рекомендаций и их оценка.**"
   ]
  },
  {
   "cell_type": "code",
   "execution_count": 7,
   "metadata": {
    "code_folding": []
   },
   "outputs": [],
   "source": [
    "# AveragePrecision@k - Доля купленных товаров из числа рекомендованных при показе k рекомендаций\n",
    "# AverageRecall@k - Доля товаров купленных по рекомендации при показе k рекомендаций\n",
    "\n",
    "def get_Average_Precision_and_Recall(k, data, recommended_dict):\n",
    "    \"\"\"Принимает датасет и число рекомендаций k, возвращает AveragePrecision@k и AverageRecall@k\"\"\"\n",
    "\n",
    "    Precision_list = list()\n",
    "    Recall_list = list()\n",
    "\n",
    "    for session_data in data:\n",
    "        \n",
    "        viewed_id_list = session_data.split(';')[0].strip()\n",
    "        purchased_id_list = session_data.split(';')[1].strip()\n",
    "\n",
    "        if not purchased_id_list:\n",
    "            continue\n",
    "        \n",
    "        viewed_id_list = list(map(lambda x: x.strip(), viewed_id_list.split(',')))\n",
    "        purchased_id_list = list(map(lambda x: x.strip(), purchased_id_list.split(',')))\n",
    "        \n",
    "        # Словарь с персональными рекомендациями (id : вероятность покупки)         \n",
    "        personal_recommended_dict = dict()\n",
    "        \n",
    "        for viewed_id in viewed_id_list:\n",
    "            \n",
    "            try:\n",
    "                personal_recommended_dict[viewed_id] = recommended_dict[viewed_id]\n",
    "                \n",
    "            except Exception:\n",
    "                personal_recommended_dict[viewed_id] = 0\n",
    "        \n",
    "        # Отсортированный список персональных рекомендаций        \n",
    "        personal_recommended_sorted_list = sorted(personal_recommended_dict, \n",
    "                                                  key=personal_recommended_dict.get, \n",
    "                                                  reverse=True)\n",
    "        \n",
    "        \n",
    "        count_good_recommendation = 0\n",
    "        \n",
    "        for recommended_id in personal_recommended_sorted_list[:k]:\n",
    "            if recommended_id in purchased_id_list:\n",
    "                count_good_recommendation += 1\n",
    "\n",
    "        Precision = count_good_recommendation / k\n",
    "        Precision_list.append(Precision)\n",
    "\n",
    "        Recall = count_good_recommendation / len(purchased_id_list)\n",
    "        Recall_list.append(Recall)\n",
    "        \n",
    "    AveragePrecision = sum(Precision_list) / len(Precision_list)\n",
    "    AverageRecall = sum(Recall_list) / len(Recall_list)\n",
    "    \n",
    "    return AveragePrecision, AverageRecall"
   ]
  },
  {
   "cell_type": "code",
   "execution_count": 9,
   "metadata": {},
   "outputs": [
    {
     "name": "stdout",
     "output_type": "stream",
     "text": [
      "Рекомендации по частоте просмотров товаров - качество на обучающей выборке\n",
      "\n",
      "AverageRecall@1 = 0.4426343165949593\n",
      "AveragePrecision@1 = 0.5121951219512195\n",
      "AverageRecall@5 = 0.8246918247126122\n",
      "AveragePrecision@5 = 0.21252771618625918\n"
     ]
    }
   ],
   "source": [
    "AveragePrecision_1, AverageRecall_1 = get_Average_Precision_and_Recall(1, train_data, viewed_id_frequency)\n",
    "AveragePrecision_5, AverageRecall_5 = get_Average_Precision_and_Recall(5, train_data, viewed_id_frequency)\n",
    "\n",
    "print('Рекомендации по частоте просмотров товаров - качество на обучающей выборке\\n')\n",
    "\n",
    "print('AverageRecall@1 =', AverageRecall_1)\n",
    "print('AveragePrecision@1 =', AveragePrecision_1)\n",
    "print('AverageRecall@5 =', AverageRecall_5)\n",
    "print('AveragePrecision@5 =', AveragePrecision_5)"
   ]
  },
  {
   "cell_type": "code",
   "execution_count": 10,
   "metadata": {},
   "outputs": [
    {
     "name": "stdout",
     "output_type": "stream",
     "text": [
      "Рекомендации по частоте просмотров товаров - качество на тестовой выборке\n",
      "\n",
      "AverageRecall@1 = 0.41733266203252534\n",
      "AveragePrecision@1 = 0.48130968622100956\n",
      "AverageRecall@5 = 0.8000340663538579\n",
      "AveragePrecision@5 = 0.2037653478854079\n"
     ]
    }
   ],
   "source": [
    "AveragePrecision_1, AverageRecall_1 = get_Average_Precision_and_Recall(1, test_data, viewed_id_frequency)\n",
    "AveragePrecision_5, AverageRecall_5 = get_Average_Precision_and_Recall(5, test_data, viewed_id_frequency)\n",
    "\n",
    "print('Рекомендации по частоте просмотров товаров - качество на тестовой выборке\\n')\n",
    "\n",
    "print('AverageRecall@1 =', AverageRecall_1)\n",
    "print('AveragePrecision@1 =', AveragePrecision_1)\n",
    "print('AverageRecall@5 =', AverageRecall_5)\n",
    "print('AveragePrecision@5 =', AveragePrecision_5)"
   ]
  },
  {
   "cell_type": "code",
   "execution_count": 11,
   "metadata": {},
   "outputs": [
    {
     "name": "stdout",
     "output_type": "stream",
     "text": [
      "Рекомендации по частоте покупок товаров - качество на обучающей выборке\n",
      "\n",
      "AverageRecall@1 = 0.6884494924267653\n",
      "AveragePrecision@1 = 0.8037694013303769\n",
      "AverageRecall@5 = 0.9263073024228787\n",
      "AveragePrecision@5 = 0.2525498891352649\n"
     ]
    }
   ],
   "source": [
    "AveragePrecision_1, AverageRecall_1 = get_Average_Precision_and_Recall(1, train_data, purchased_id_frequency)\n",
    "AveragePrecision_5, AverageRecall_5 = get_Average_Precision_and_Recall(5, train_data, purchased_id_frequency)\n",
    "\n",
    "print('Рекомендации по частоте покупок товаров - качество на обучающей выборке\\n')\n",
    "\n",
    "print('AverageRecall@1 =', AverageRecall_1)\n",
    "print('AveragePrecision@1 =', AveragePrecision_1)\n",
    "print('AverageRecall@5 =', AverageRecall_5)\n",
    "print('AveragePrecision@5 =', AveragePrecision_5)"
   ]
  },
  {
   "cell_type": "code",
   "execution_count": 12,
   "metadata": {},
   "outputs": [
    {
     "name": "stdout",
     "output_type": "stream",
     "text": [
      "Рекомендации по частоте покупок товаров - качество на тестовой выборке\n",
      "\n",
      "AverageRecall@1 = 0.4606201666660294\n",
      "AveragePrecision@1 = 0.5276944065484311\n",
      "AverageRecall@5 = 0.8201874337490194\n",
      "AveragePrecision@5 = 0.21009549795362173\n"
     ]
    }
   ],
   "source": [
    "AveragePrecision_1, AverageRecall_1 = get_Average_Precision_and_Recall(1, test_data, purchased_id_frequency)\n",
    "AveragePrecision_5, AverageRecall_5 = get_Average_Precision_and_Recall(5, test_data, purchased_id_frequency)\n",
    "\n",
    "print('Рекомендации по частоте покупок товаров - качество на тестовой выборке\\n')\n",
    "\n",
    "print('AverageRecall@1 =', AverageRecall_1)\n",
    "print('AveragePrecision@1 =', AveragePrecision_1)\n",
    "print('AverageRecall@5 =', AverageRecall_5)\n",
    "print('AveragePrecision@5 =', AveragePrecision_5))"
   ]
  },
  {
   "cell_type": "markdown",
   "metadata": {},
   "source": [
    "Из полученных данных видно:\n",
    "\n",
    "При построении рекомендаций по частоте просмотров товаров, качество на тесте: \n",
    "    - AverageRecall@1 = 0.417\n",
    "    - AveragePrecision@1 = 0.481\n",
    "    - AverageRecall@5 = 0.800\n",
    "    - AveragePrecision@5 = 0.204\n",
    "\n",
    "Полнота (доля купленных товаров из числа рекомендованных при показе k рекомендаций) растет с увеличением числа рекомендуемых товаров с 1 до 5, точность (доля товаров купленных по рекомендации при показе k рекомендаций) падает. \n",
    "\n",
    "При построении рекомендаций по частоте покупок товаров, качество на тесте: \n",
    "    - AverageRecall@1 = 0.461\n",
    "    - AveragePrecision@1 = 0.528\n",
    "    - AverageRecall@5 = 0.821\n",
    "    - AveragePrecision@5 = 0.210\n",
    "\n",
    "Полнота растет с увеличением числа рекомендуемых товаров с 1 до 5, точность падает.\n",
    "\n",
    "При этом по всем параметрам построение рекомендаций по частоте покупок товаров является выигрышным."
   ]
  }
 ],
 "metadata": {
  "hide_input": false,
  "kernelspec": {
   "display_name": "Python 3",
   "language": "python",
   "name": "python3"
  },
  "language_info": {
   "codemirror_mode": {
    "name": "ipython",
    "version": 3
   },
   "file_extension": ".py",
   "mimetype": "text/x-python",
   "name": "python",
   "nbconvert_exporter": "python",
   "pygments_lexer": "ipython3",
   "version": "3.7.4"
  },
  "toc": {
   "base_numbering": 1,
   "nav_menu": {},
   "number_sections": false,
   "sideBar": true,
   "skip_h1_title": false,
   "title_cell": "Table of Contents",
   "title_sidebar": "Contents",
   "toc_cell": false,
   "toc_position": {},
   "toc_section_display": true,
   "toc_window_display": false
  },
  "varInspector": {
   "cols": {
    "lenName": 16,
    "lenType": 16,
    "lenVar": 40
   },
   "kernels_config": {
    "python": {
     "delete_cmd_postfix": "",
     "delete_cmd_prefix": "del ",
     "library": "var_list.py",
     "varRefreshCmd": "print(var_dic_list())"
    },
    "r": {
     "delete_cmd_postfix": ") ",
     "delete_cmd_prefix": "rm(",
     "library": "var_list.r",
     "varRefreshCmd": "cat(var_dic_list()) "
    }
   },
   "types_to_exclude": [
    "module",
    "function",
    "builtin_function_or_method",
    "instance",
    "_Feature"
   ],
   "window_display": true
  }
 },
 "nbformat": 4,
 "nbformat_minor": 2
}
