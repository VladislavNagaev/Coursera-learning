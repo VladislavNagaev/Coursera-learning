{
 "cells": [
  {
   "cell_type": "markdown",
   "metadata": {},
   "source": [
    "# Метод ближайшего соседа (1NN) с евклидовой метрикой для задачи классификации"
   ]
  },
  {
   "cell_type": "markdown",
   "metadata": {},
   "source": [
    "**Генерация данных** для демонстрации работы метода."
   ]
  },
  {
   "cell_type": "code",
   "execution_count": 1,
   "metadata": {},
   "outputs": [],
   "source": [
    "%matplotlib inline\n",
    "\n",
    "import matplotlib\n",
    "matplotlib.style.use('ggplot')\n",
    "\n",
    "from matplotlib import pyplot\n",
    "from matplotlib.colors import ListedColormap\n",
    "\n",
    "from sklearn import datasets, ensemble, tree, model_selection, metrics\n",
    "import xgboost as xgb\n",
    "\n",
    "import numpy as np\n",
    "import pandas as pd\n",
    "\n",
    "import warnings\n",
    "warnings.filterwarnings('ignore')"
   ]
  },
  {
   "cell_type": "code",
   "execution_count": 126,
   "metadata": {},
   "outputs": [],
   "source": [
    "\"\"\"Выборка с целыми неотрицательными значениями признаков (1797, 65)\"\"\"\n",
    "\n",
    "# Загрузка встроенного \"игрушечного\" набора данных digits\n",
    "digits = datasets.load_digits()"
   ]
  },
  {
   "cell_type": "code",
   "execution_count": 127,
   "metadata": {},
   "outputs": [],
   "source": [
    "# Разделение данных на обучающую и тестовую выборки\n",
    "\n",
    "# Определеим 25% выборки на тест\n",
    "size = int(len(data)*0.25)\n",
    "\n",
    "# Обучающая выборка\n",
    "X_train = digits.data[:-size, :]\n",
    "y_train = digits.target[:-size]\n",
    "\n",
    "# Тестовая выборка\n",
    "X_test = digits.data[-size:, :]\n",
    "y_test = digits.target[-size:]"
   ]
  },
  {
   "cell_type": "code",
   "execution_count": 128,
   "metadata": {},
   "outputs": [
    {
     "name": "stdout",
     "output_type": "stream",
     "text": [
      "Обучающая выборка:\tX=(1348, 64) \t\tТестовая выборка:\tX=(449, 64)\n",
      "\t\t\ty=(1348,) \t\t\t\t\ty=(449,)\n"
     ]
    }
   ],
   "source": [
    "print(f'Обучающая выборка:\\tX={X_train.shape} \\t\\tТестовая выборка:\\tX={X_test.shape}')\n",
    "print(f'\\t\\t\\ty={y_train.shape} \\t\\t\\t\\t\\ty={y_test.shape}')"
   ]
  },
  {
   "cell_type": "markdown",
   "metadata": {},
   "source": [
    "**Метод ближайшего соседа (1NN)** - самый простой метрический метод в задаче классификации. Суть метода заключается в том, что новая точка относится к такому же классу, что и ближайшая к ней точка из обучающей выборки.\n",
    "<img src=\"1NN.png\" width=350 height=350>"
   ]
  },
  {
   "cell_type": "markdown",
   "metadata": {},
   "source": [
    "Метрика является функцией, задающей расстояние в метрическом пространстве, и должна удовлетворять следующим аксиомам:\n",
    "1. $\\rho\\left(x,\\ y\\right)\\geq0$, причем $\\rho\\left(x,\\ y\\right)=0\\ \\ \\Longleftrightarrow\\ \\ x=y$.\n",
    "2. $\\rho\\left(x,\\ y\\right)=\\rho\\left(y,\\ x\\right)$,\n",
    "3. $\\rho\\left(x,\\ y\\right)\\le\\rho\\left(x,\\ z\\right)+\\rho\\left(z,\\ y\\right)$.\n",
    "\n",
    "В данном примере будет реализована __Евклидова метрика__:\n",
    "\n",
    "$$\\rho\\left(x,\\ y\\right)=\\sqrt{\\sum_{i=1}^{n}\\left(x_i-y_i\\right)^2}$$"
   ]
  },
  {
   "cell_type": "code",
   "execution_count": 156,
   "metadata": {},
   "outputs": [],
   "source": [
    "def classifer_1NN(X):\n",
    "    \"\"\"Функция принимает вектор признаков объекта и возвращает оценку класса объекта, которому он соотвествует,\n",
    "    полученную по обучающей выборке\"\"\"\n",
    "    # Расстояние от объекта X до каждого из обучающей выборки в n-мерном пространстве по Евклидовой метрике:\n",
    "    # Поскольку корень из суммы квадратов отклонений — монотонное преобразование и не влияет на результат работы \n",
    "    # алгоритма, можно его не извлекать.\n",
    "    d = [np.sum((X - X_train[i,:])**2) for i in range(X_train.shape[0])]\n",
    "    \n",
    "    # Индекс ближайшего оьбъекта\n",
    "    ind = d.index(min(d))\n",
    "\n",
    "    # Соответствующий класс ближайшего объекта\n",
    "    return(y_train[ind])"
   ]
  },
  {
   "cell_type": "code",
   "execution_count": 158,
   "metadata": {},
   "outputs": [
    {
     "name": "stdout",
     "output_type": "stream",
     "text": [
      "Wall time: 7.49 s\n"
     ]
    }
   ],
   "source": [
    "%%time\n",
    "# Предсказание ответов на отложенном тесте\n",
    "predictions = [classifer_1NN(X = X_test[i,:]) for i in range(X_test.shape[0])]"
   ]
  },
  {
   "cell_type": "code",
   "execution_count": 163,
   "metadata": {},
   "outputs": [
    {
     "data": {
      "text/plain": [
       "0.03786191536748329"
      ]
     },
     "execution_count": 163,
     "metadata": {},
     "output_type": "execute_result"
    }
   ],
   "source": [
    "# Функция accuracy_score принимает метки тестовой выборки и предсказанные метки predictions\n",
    "1- metrics.accuracy_score(y_test, predictions)"
   ]
  },
  {
   "cell_type": "code",
   "execution_count": null,
   "metadata": {},
   "outputs": [],
   "source": []
  },
  {
   "cell_type": "markdown",
   "metadata": {},
   "source": [
    "## Сравнение метода ближайшего соседа (1NN) и случайного леса"
   ]
  },
  {
   "cell_type": "code",
   "execution_count": 160,
   "metadata": {},
   "outputs": [
    {
     "data": {
      "text/plain": [
       "RandomForestClassifier(bootstrap=True, class_weight=None, criterion='gini',\n",
       "                       max_depth=None, max_features='auto', max_leaf_nodes=None,\n",
       "                       min_impurity_decrease=0.0, min_impurity_split=None,\n",
       "                       min_samples_leaf=1, min_samples_split=2,\n",
       "                       min_weight_fraction_leaf=0.0, n_estimators=1000,\n",
       "                       n_jobs=None, oob_score=False, random_state=None,\n",
       "                       verbose=0, warm_start=False)"
      ]
     },
     "execution_count": 160,
     "metadata": {},
     "output_type": "execute_result"
    }
   ],
   "source": [
    "# Модель случайного леса с 1000-ю деревьями, каждое глубиной не более 2\n",
    "rf_classifier = ensemble.RandomForestClassifier(n_estimators = 1000)\n",
    "rf_classifier.fit(X_train, y_train)"
   ]
  },
  {
   "cell_type": "code",
   "execution_count": 161,
   "metadata": {},
   "outputs": [],
   "source": [
    "rf_predictions = rf_classifier.predict(X_test)"
   ]
  },
  {
   "cell_type": "code",
   "execution_count": 164,
   "metadata": {},
   "outputs": [
    {
     "data": {
      "text/plain": [
       "0.06904231625835189"
      ]
     },
     "execution_count": 164,
     "metadata": {},
     "output_type": "execute_result"
    }
   ],
   "source": [
    "# Функция accuracy_score принимает метки тестовой выборки и предсказанные метки predictions\n",
    "1 - metrics.accuracy_score(y_test, rf_predictions)"
   ]
  }
 ],
 "metadata": {
  "hide_input": false,
  "kernelspec": {
   "display_name": "Python 3",
   "language": "python",
   "name": "python3"
  },
  "language_info": {
   "codemirror_mode": {
    "name": "ipython",
    "version": 3
   },
   "file_extension": ".py",
   "mimetype": "text/x-python",
   "name": "python",
   "nbconvert_exporter": "python",
   "pygments_lexer": "ipython3",
   "version": "3.7.4"
  },
  "toc": {
   "base_numbering": 1,
   "nav_menu": {},
   "number_sections": false,
   "sideBar": true,
   "skip_h1_title": false,
   "title_cell": "Table of Contents",
   "title_sidebar": "Contents",
   "toc_cell": false,
   "toc_position": {},
   "toc_section_display": true,
   "toc_window_display": false
  },
  "varInspector": {
   "cols": {
    "lenName": 16,
    "lenType": 16,
    "lenVar": 40
   },
   "kernels_config": {
    "python": {
     "delete_cmd_postfix": "",
     "delete_cmd_prefix": "del ",
     "library": "var_list.py",
     "varRefreshCmd": "print(var_dic_list())"
    },
    "r": {
     "delete_cmd_postfix": ") ",
     "delete_cmd_prefix": "rm(",
     "library": "var_list.r",
     "varRefreshCmd": "cat(var_dic_list()) "
    }
   },
   "position": {
    "height": "447px",
    "left": "1543px",
    "right": "20px",
    "top": "79px",
    "width": "350px"
   },
   "types_to_exclude": [
    "module",
    "function",
    "builtin_function_or_method",
    "instance",
    "_Feature"
   ],
   "window_display": true
  }
 },
 "nbformat": 4,
 "nbformat_minor": 2
}
