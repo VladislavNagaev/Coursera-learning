{
 "cells": [
  {
   "cell_type": "markdown",
   "metadata": {},
   "source": [
    "# Простой вариант градиентного бустинга над регрессионными деревьями для случая квадратичной функции потерь"
   ]
  },
  {
   "cell_type": "code",
   "execution_count": 8,
   "metadata": {},
   "outputs": [],
   "source": [
    "%matplotlib inline\n",
    "\n",
    "import matplotlib\n",
    "matplotlib.style.use('ggplot')\n",
    "\n",
    "from matplotlib import pyplot\n",
    "from matplotlib.colors import ListedColormap\n",
    "\n",
    "from sklearn import datasets, ensemble, tree, model_selection, metrics\n",
    "import xgboost as xgb\n",
    "\n",
    "import numpy as np\n",
    "import pandas as pd\n",
    "\n",
    "from math import sqrt\n",
    "\n",
    "import warnings\n",
    "warnings.filterwarnings('ignore')"
   ]
  },
  {
   "cell_type": "markdown",
   "metadata": {},
   "source": [
    "В качестве данных для демонстрации работы метода будет использоваться встроенный датасет `boston` из `sklearn.datasets`.\n",
    "25% объектов выборки будет использовано для контроля качества."
   ]
  },
  {
   "cell_type": "code",
   "execution_count": 2,
   "metadata": {},
   "outputs": [],
   "source": [
    "# Загрузка датасета\n",
    "boston = datasets.load_boston()\n",
    "\n",
    "# Признаковое описание\n",
    "X = boston.data\n",
    "\n",
    "# Целевая функция\n",
    "y = boston.target\n",
    "\n",
    "# Разделение данных на обучающую и тестовую выборки\n",
    "X_train, X_test, y_train, y_test = model_selection.train_test_split(X, y, test_size=0.25, random_state=0)"
   ]
  },
  {
   "cell_type": "code",
   "execution_count": 3,
   "metadata": {},
   "outputs": [
    {
     "name": "stdout",
     "output_type": "stream",
     "text": [
      "(506, 13) (506,)\n"
     ]
    }
   ],
   "source": [
    "# Размер исходного датасета\n",
    "print(X.shape, y.shape)"
   ]
  },
  {
   "cell_type": "code",
   "execution_count": 4,
   "metadata": {},
   "outputs": [
    {
     "name": "stdout",
     "output_type": "stream",
     "text": [
      "Обучающая выборка:\tX=(379, 13) \t\tТестовая выборка:\tX=(127, 13)\n",
      "\t\t\ty=(379,) \t\t\t\t\ty=(127,)\n"
     ]
    }
   ],
   "source": [
    "# Размер обучающей и тестовой выборок\n",
    "print(f'Обучающая выборка:\\tX={X_train.shape} \\t\\tТестовая выборка:\\tX={X_test.shape}')\n",
    "print(f'\\t\\t\\ty={y_train.shape} \\t\\t\\t\\t\\ty={y_test.shape}')"
   ]
  },
  {
   "cell_type": "markdown",
   "metadata": {},
   "source": [
    "## 1. Случайный лес - описание, недостатки"
   ]
  },
  {
   "cell_type": "markdown",
   "metadata": {},
   "source": [
    "`Случайный лес` — композиция глубоких деревьев, которые строятся независимо друг от друга. Но такой подход имеет следующую проблему. `Обучение глубоких деревьев требует очень много вычислительных ресурсов`, особенно в случае большой выборки или большого числа признаков.\n",
    "\n",
    "Если ограничить глубину решающих деревьев в случайном лесе, то они уже не смогут улавливать сложные закономерности в данных. Это приведет к тому, что сдвиг будет слишком большим.\n",
    "\n",
    "<img src=\"13.png\" width=350 height=350>\n",
    "\n",
    "В данном случае синий класс состоит из двух групп объектов, но неглубокое дерево смогло уловить только центральную группу. На объектах из второй группы такое дерево ошибается\n",
    "\n",
    "Вторая проблема со случайным лесом состоит в том, что `процесс построения деревьев является ненаправленным`: каждое следующее дерево в композиции никак не зависит от предыдущих. Из-за этого для решения сложных задач необходимо огромное количество деревьев.\n",
    "\n",
    "Решить данные проблемы можно с помощью так называемого _бустинга_."
   ]
  },
  {
   "cell_type": "markdown",
   "metadata": {},
   "source": [
    "## 2. Градиентный бустинг - описание"
   ]
  },
  {
   "cell_type": "markdown",
   "metadata": {},
   "source": [
    "__Бустинг__ — это подход к построению композиций, в рамках которого:\n",
    "* Базовые алгоритмы строятся последовательно, один за другим.\n",
    "* Каждый следующий алгоритм строится таким образом, чтобы исправлять ошибки уже построенной композиции.\n",
    "\n",
    "Благодаря тому, что построение композиций в бустинге является направленным, достаточно использовать простые базовые алгоритмы, например неглубокие деревья."
   ]
  },
  {
   "cell_type": "markdown",
   "metadata": {},
   "source": [
    "## 3. Градиентный бустинг - алгоритм"
   ]
  },
  {
   "cell_type": "markdown",
   "metadata": {},
   "source": [
    "**Описание алгоритма градиентного бустинга**\n",
    "1. __Инициализация__: инициализация композиции $a_0\\left(x\\right)=b_0\\left(x\\right)$, то есть построение простого алгоритма $b_0$.\n",
    "\n",
    "\n",
    "2. __Шаг итерации__:\n",
    "\n",
    "   2.1 __Вычисляется вектор сдвига__\n",
    "$$s=-\\nabla F=\\left(\\begin{matrix}{-L\\prime}_z\\left(y_1,\\ a_{n-1}\\left(x_1\\right)\\right)\\\\\\cdots\\\\{-L\\prime}_z\\left(y_\\ell,\\ a_{n-1}\\left(x_\\ell\\right)\\right)\\\\\\end{matrix}\\right)$$\n",
    "\t2.2 __Строится алгоритм__\n",
    "$$b_n\\left(x\\right)={argmin}_b\\frac{1}{\\ell}\\sum_{i=1}^{\\ell}\\left(b\\left(x_i\\right)-s_i\\right)^2$$\n",
    "\t2.3 __Алгоритм__ $b_n\\left(x\\right)$ __добавляется в композицию__\n",
    "$$a_N\\left(x\\right)=a_{n-1}\\left(x\\right)+\\eta b_n\\left(x\\right)$$\n",
    "\n",
    "      где $\\eta\\in\\left(\\left.0,\\ 1\\right]\\right.$ — длина шага. \n",
    "    \n",
    "    \n",
    "3. Если не выполнен критерий останова, то выполнить еще один шаг итерации. Если критерий останова выполнен, остановить итерационный процесс.\n"
   ]
  },
  {
   "cell_type": "markdown",
   "metadata": {},
   "source": [
    "## 4. Градиентный бустинг в задаче регрессии"
   ]
  },
  {
   "cell_type": "markdown",
   "metadata": {},
   "source": [
    "**Пусть дана задача регрессии, которую необходимо решить при помощи метода машинного обучения - градиентного бустинга**"
   ]
  },
  {
   "cell_type": "markdown",
   "metadata": {},
   "source": [
    "__Функционал ошибки__ $Q\\left(a,X\\right)$ — ошибка прогноза $z$ некоторого алгоритма $a\\left(x\\right)$ на выборке из $\\ell$ объектов $X=\\left(x_i,\\ y_i\\right)_{i=1}^\\ell$ относительно правильного ответа $y$.\n",
    "\n",
    "Задача машинного обучения состоит в подборе такого алгоритма $a\\left(x\\right)$ из некоторого семейства алгоритмов $\\mathbb{A}$, для которого достигается минимум функционала ошибки $Q\\left(a,X\\right)\\rightarrow\\min_{a\\in\\mathbb{A}}$\n",
    "\n",
    "$$a\\left(x\\right)={argmin}_{a\\in\\mathbb{A}}Q\\left(a,X\\right)$$\n",
    "\n",
    "Функционал ошибки измеряется функцией потерь, которая измеряет ошибку для одного объекта:\n",
    "\n",
    "$$L\\left(z,\\ y\\right) = L\\left(a\\left(x\\right),\\ y\\right)$$\n",
    "\n",
    "где: \n",
    "* $z$ — это прогноз алгоритма $a\\left(x\\right)$, \n",
    "* $y$ — истинный ответ на данном объекте. \n",
    "\n",
    "$$Q\\left(a,x\\right)=\\frac{1}{\\ell}\\sum_{i=1}^{\\ell}L\\left(z_i,\\ y_i\\right)$$"
   ]
  },
  {
   "cell_type": "markdown",
   "metadata": {},
   "source": [
    "Типичная функция ошибки в задачах регрессии — это среднеквадратичная ошибка алгоритма:\n",
    "\n",
    "$$L\\left(z,\\ y\\right) = \\left(z-y\\right)^2 = \\left(a\\left(x\\right)-y\\right)^2$$\n",
    "\n",
    "Тогда функционал ошибки примет вид:\n",
    "\n",
    "$$Q\\left(a,X\\right) = \\frac{1}{\\ell}\\sum_{i=1}^{\\ell}L\\left(z_i,\\ y_i\\right) = \\frac{1}{\\ell}\\sum_{i=1}^{\\ell}\\left(a\\left(x_i\\right)-y_i\\right)^2$$"
   ]
  },
  {
   "cell_type": "markdown",
   "metadata": {},
   "source": [
    "Для нахождения оптимальных параметров алгоритма $a\\left(x\\right)$ применим метод градиентного спуска, для чего необходимо сначала вычислить частные производные функции потерь:"
   ]
  },
  {
   "cell_type": "markdown",
   "metadata": {},
   "source": [
    "$${L\\prime}_z\\left(y,\\ z\\right) = 2\\left(z-y\\right) = 2\\left(a\\left(x\\right)-y\\right)$$"
   ]
  },
  {
   "cell_type": "markdown",
   "metadata": {},
   "source": [
    "Вычислим вектор сдвигов, каждая компонента которого показывает, как нужно модифицировать ответ на каждом объекте обучающей выборки, чтобы уменьшить среднеквадратичную ошибку:\n",
    "\n",
    "$$s=-\\nabla F=\\left(\\begin{matrix}{-L\\prime}_z\\left(y_1,\\ a_{n-1}\\left(x_1\\right)\\right)\\\\\\cdots\\\\{-L\\prime}_z\\left(y_\\ell,\\ a_{n-1}\\left(x_\\ell\\right)\\right)\\\\\\end{matrix}\\right) = \\left(\\begin{matrix}- 2\\left(a_{n-1}\\left(x_1\\right)-y_1\\right)\\\\\\cdots\\\\- 2\\left(a_{n-1}\\left(x_\\ell\\right)-y_\\ell\\right)\\\\\\end{matrix}\\right)$$"
   ]
  },
  {
   "cell_type": "markdown",
   "metadata": {},
   "source": [
    "Для начала алгоритма градиентного бустинга необходимо обучить первый простой алгоритм (неглубокое решающее дерево):\n",
    "\n",
    "$$b_0\\left(x\\right)={argmin}_b\\frac{1}{\\ell}\\sum_{i=1}^{\\ell}\\left(b\\left(x_i\\right)-y_i\\right)^2$$"
   ]
  },
  {
   "cell_type": "code",
   "execution_count": 9,
   "metadata": {},
   "outputs": [],
   "source": [
    "def move_vector(z, y):\n",
    "    \"\"\"Возвращает частную производную для градиента функции\"\"\"\n",
    "    return (- 1 * (z - y))\n",
    "\n",
    "\n",
    "def dtc(X, y):\n",
    "    \"\"\"Возвращает обученный алгоритм\"\"\"\n",
    "    return tree.DecisionTreeRegressor(max_depth=5, random_state=42).fit(X, y)\n",
    "\n",
    "\n",
    "def gbm_predict(X):\n",
    "    predictions = 0\n",
    "    for coeff, algorithm in zip(coefficients_list, base_algorithms_list):\n",
    "        predictions += coeff * algorithm.predict(X)\n",
    "    return predictions"
   ]
  },
  {
   "cell_type": "markdown",
   "metadata": {},
   "source": [
    "Вес перед каждым алгоритмом с каждой следующей итерацией уменьшается по формуле `0.9 / (1.0 + i)`, где `i` - номер итерации.\n",
    "\n",
    "В реальности часто применяется следующая стратегия выбора шага: как только выбран алгоритм, подберем коэффициент перед ним численным методом оптимизации таким образом, чтобы отклонение от правильных ответов было минимальным."
   ]
  },
  {
   "cell_type": "code",
   "execution_count": 12,
   "metadata": {},
   "outputs": [
    {
     "name": "stdout",
     "output_type": "stream",
     "text": [
      "train 1.0974978799443273\n",
      "test 4.968891286623323\n"
     ]
    },
    {
     "data": {
      "image/png": "[encoded data removed]",
      "text/plain": [
       "<Figure size 2000x1000 with 1 Axes>"
      ]
     },
     "metadata": {},
     "output_type": "display_data"
    },
    {
     "name": "stdout",
     "output_type": "stream",
     "text": [
      "Wall time: 455 ms\n"
     ]
    }
   ],
   "source": [
    "%%time\n",
    "\n",
    "base_algorithms_list = []\n",
    "coefficients_list = []\n",
    "\n",
    "train_quality = []\n",
    "test_quality = []\n",
    "\n",
    "n_trees = 50\n",
    "s = y_train\n",
    "\n",
    "for i in range(n_trees):\n",
    "\n",
    "    # Смещенный алгоритм\n",
    "    base_algorithm = dtc(X=X_train, y=s)\n",
    "    base_algorithms_list.append(base_algorithm)\n",
    "    \n",
    "    # Коэффициент доверия базовому алгоритму \n",
    "    coeff = 0.9 / (1 + i)\n",
    "    coefficients_list.append(coeff)\n",
    "    \n",
    "    # Предсказания композиции базовых алгоритмов  \n",
    "    predictions = gbm_predict(X=X_train)\n",
    "        \n",
    "    # Вектор сдвига\n",
    "    s = [move_vector(z, y) for z, y in zip(predictions, y_train)]\n",
    "        \n",
    "    # Оценка качества на обучающей выборке\n",
    "    train_quality.append(sqrt(metrics.mean_squared_error(y_train, predictions)))\n",
    "        \n",
    "    # Оценка качества на тестовой выборке\n",
    "    test_predictions = gbm_predict(X=X_test)\n",
    "    test_quality.append(sqrt(metrics.mean_squared_error(y_test, test_predictions)))\n",
    "\n",
    "# Оценка качества на обучающей выборке\n",
    "predictions = gbm_predict(X=X_train)\n",
    "print('train', sqrt(metrics.mean_squared_error(y_train, predictions)))\n",
    "        \n",
    "# Оценка качества на тестовой выборке\n",
    "test_predictions = gbm_predict(X=X_test)\n",
    "print('test', sqrt(metrics.mean_squared_error(y_test, test_predictions)))\n",
    "\n",
    "# График распределения ошибки от количества деревьев в композиции\n",
    "fig, nx = pyplot.subplots(figsize=(20,10), dpi=100)\n",
    "pyplot.grid(True)\n",
    "pyplot.plot(range(n_trees), train_quality, 'g-', marker='o', label='train')\n",
    "pyplot.plot(range(n_trees), test_quality, 'r-', marker='o', label='test')\n",
    "pyplot.legend(loc='lower right')\n",
    "pyplot.show()"
   ]
  },
  {
   "cell_type": "markdown",
   "metadata": {},
   "source": [
    "Реализованный метод - градиентный бустинг над деревьями - очень популярен в машинном обучении. Он представлен как в самой библиотеке `sklearn`, так и в сторонней библиотеке `XGBoost`, которая имеет свой питоновский интерфейс. На практике `XGBoost` работает заметно лучше `GradientBoostingRegressor` из `sklearn`."
   ]
  },
  {
   "cell_type": "markdown",
   "metadata": {},
   "source": [
    "### Зависимость качества работы алгоритма `sklearn.GradientBoostingRegressor` от количества деревьев"
   ]
  },
  {
   "cell_type": "code",
   "execution_count": 13,
   "metadata": {},
   "outputs": [],
   "source": [
    "estimator = ensemble.GradientBoostingRegressor(max_depth=5, random_state=42, n_estimators=n_trees).fit(X=X_train, y=y_train)"
   ]
  },
  {
   "cell_type": "code",
   "execution_count": 14,
   "metadata": {},
   "outputs": [
    {
     "name": "stdout",
     "output_type": "stream",
     "text": [
      "test 0.6644574928139211\n",
      "test 3.8260937629958525\n"
     ]
    }
   ],
   "source": [
    "print('test', sqrt(metrics.mean_squared_error(y_train, estimator.predict(X_train))))\n",
    "print('test', sqrt(metrics.mean_squared_error(y_test, estimator.predict(X_test))))"
   ]
  },
  {
   "cell_type": "code",
   "execution_count": 15,
   "metadata": {
    "scrolled": false
   },
   "outputs": [
    {
     "data": {
      "image/png": "[encoded data removed]",
      "text/plain": [
       "<Figure size 432x288 with 1 Axes>"
      ]
     },
     "metadata": {},
     "output_type": "display_data"
    }
   ],
   "source": [
    "n_trees = [1] + list(range(10, 75, 5))\n",
    "\n",
    "train_quality_list = []\n",
    "test_quality_list = []\n",
    "\n",
    "\n",
    "for n_tree in n_trees:\n",
    "    # Модель градиентного бустинга\n",
    "    estimator = ensemble.GradientBoostingRegressor(max_depth=5, random_state=42, n_estimators=n_tree)\n",
    "    estimator.fit(X=X_train, y=y_train)\n",
    "    \n",
    "    # Качество на обучающей выборке\n",
    "    train_quality = sqrt(metrics.mean_squared_error(y_train, estimator.predict(X_train)))\n",
    "    train_quality_list.append(train_quality)\n",
    "    \n",
    "    # Качество на тестовой выборке\n",
    "    test_quality = sqrt(metrics.mean_squared_error(y_test, estimator.predict(X_test)))\n",
    "    test_quality_list.append(test_quality)\n",
    "    \n",
    "\n",
    "# График распределения ошибки от количества деревьев в композиции\n",
    "\n",
    "pyplot.plot(n_trees, train_quality_list, 'g-', marker='o', label='train')\n",
    "pyplot.plot(n_trees, test_quality_list, 'r-', marker='o', label='test')\n",
    "pyplot.grid(True)\n",
    "pyplot.xlabel('n_trees')\n",
    "pyplot.ylabel('sqrt(mean_squared_error)')\n",
    "pyplot.title('GradientBoostingRegressor')\n",
    "pyplot.legend(loc='lower right')\n",
    "pyplot.show()"
   ]
  },
  {
   "cell_type": "markdown",
   "metadata": {},
   "source": [
    "С увеличением числа деревьев, начиная с некоторого момента, градиентный бустинг начинает переобучаться."
   ]
  },
  {
   "cell_type": "markdown",
   "metadata": {},
   "source": [
    "### Зависимость качества работы алгоритма `sklearn.GradientBoostingRegressor` от максимальной глубины деревьев"
   ]
  },
  {
   "cell_type": "code",
   "execution_count": 16,
   "metadata": {},
   "outputs": [
    {
     "data": {
      "image/png": "[encoded data removed]",
      "text/plain": [
       "<Figure size 432x288 with 1 Axes>"
      ]
     },
     "metadata": {},
     "output_type": "display_data"
    }
   ],
   "source": [
    "max_depths = list(range(1, 31, 1))\n",
    "\n",
    "train_quality_list = []\n",
    "test_quality_list = []\n",
    "\n",
    "\n",
    "for max_depth in max_depths:\n",
    "    # Модель градиентного бустинга\n",
    "    estimator = ensemble.GradientBoostingRegressor(max_depth=max_depth, random_state=42, n_estimators=50)\n",
    "    estimator.fit(X=X_train, y=y_train)\n",
    "    \n",
    "    # Качество на обучающей выборке\n",
    "    train_quality = sqrt(metrics.mean_squared_error(y_train, estimator.predict(X_train)))\n",
    "    train_quality_list.append(train_quality)\n",
    "    \n",
    "    # Качество на тестовой выборке\n",
    "    test_quality = sqrt(metrics.mean_squared_error(y_test, estimator.predict(X_test)))\n",
    "    test_quality_list.append(test_quality)\n",
    "    \n",
    "\n",
    "# График распределения ошибки от максимальной глубины деревьев в композиции\n",
    "\n",
    "pyplot.plot(max_depths, train_quality_list, 'g-', marker='o', label='train')\n",
    "pyplot.plot(max_depths, test_quality_list, 'r-', marker='o', label='test')\n",
    "pyplot.grid(True)\n",
    "pyplot.xlabel('max_depth')\n",
    "pyplot.ylabel('sqrt(mean_squared_error)')\n",
    "pyplot.title('GradientBoostingRegressor')\n",
    "pyplot.legend(loc='lower right')\n",
    "pyplot.show()"
   ]
  },
  {
   "cell_type": "markdown",
   "metadata": {},
   "source": [
    "С ростом глубины деревьев, начиная с некоторого момента, качество работы градиентного бустинга на тестовой выборке начинает ухудшаться."
   ]
  },
  {
   "cell_type": "markdown",
   "metadata": {},
   "source": [
    "### Сравнение качества работы алгоритма градиентного бустинга качество с качеством работы линейной регрессии"
   ]
  },
  {
   "cell_type": "code",
   "execution_count": 17,
   "metadata": {},
   "outputs": [],
   "source": [
    "from sklearn.linear_model import LinearRegression"
   ]
  },
  {
   "cell_type": "code",
   "execution_count": 18,
   "metadata": {},
   "outputs": [
    {
     "name": "stdout",
     "output_type": "stream",
     "text": [
      "test 5.457311159564066\n"
     ]
    }
   ],
   "source": [
    "# Создание объекта - модели линейной регресии\n",
    "linear_regressor = LinearRegression()\n",
    "\n",
    "# Обучение модели линейной регрессии\n",
    "linear_regressor.fit(X_train, y_train)\n",
    "\n",
    "# Предсказание значений целевой функции с помощью обученной модели\n",
    "linear_predictions = linear_regressor.predict(X_test)\n",
    "\n",
    "# Оценка качества на тестовой выборке\n",
    "print('test', sqrt(metrics.mean_squared_error(y_test, linear_predictions)))"
   ]
  }
 ],
 "metadata": {
  "hide_input": false,
  "kernelspec": {
   "display_name": "Python 3",
   "language": "python",
   "name": "python3"
  },
  "language_info": {
   "codemirror_mode": {
    "name": "ipython",
    "version": 3
   },
   "file_extension": ".py",
   "mimetype": "text/x-python",
   "name": "python",
   "nbconvert_exporter": "python",
   "pygments_lexer": "ipython3",
   "version": "3.7.4"
  },
  "toc": {
   "base_numbering": 1,
   "nav_menu": {},
   "number_sections": false,
   "sideBar": true,
   "skip_h1_title": false,
   "title_cell": "Table of Contents",
   "title_sidebar": "Contents",
   "toc_cell": false,
   "toc_position": {},
   "toc_section_display": true,
   "toc_window_display": true
  },
  "varInspector": {
   "cols": {
    "lenName": 16,
    "lenType": 16,
    "lenVar": 40
   },
   "kernels_config": {
    "python": {
     "delete_cmd_postfix": "",
     "delete_cmd_prefix": "del ",
     "library": "var_list.py",
     "varRefreshCmd": "print(var_dic_list())"
    },
    "r": {
     "delete_cmd_postfix": ") ",
     "delete_cmd_prefix": "rm(",
     "library": "var_list.r",
     "varRefreshCmd": "cat(var_dic_list()) "
    }
   },
   "oldHeight": 704,
   "position": {
    "height": "40px",
    "left": "1541px",
    "right": "20px",
    "top": "86px",
    "width": "350px"
   },
   "types_to_exclude": [
    "module",
    "function",
    "builtin_function_or_method",
    "instance",
    "_Feature"
   ],
   "varInspector_section_display": "none",
   "window_display": true
  }
 },
 "nbformat": 4,
 "nbformat_minor": 1
}
