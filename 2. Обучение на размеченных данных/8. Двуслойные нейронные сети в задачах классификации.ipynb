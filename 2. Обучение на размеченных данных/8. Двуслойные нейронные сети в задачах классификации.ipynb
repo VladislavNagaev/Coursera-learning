{
 "cells": [
  {
   "cell_type": "markdown",
   "metadata": {},
   "source": [
    "## Нейронные сети: зависимость ошибки и обучающей способности от числа нейронов"
   ]
  },
  {
   "cell_type": "markdown",
   "metadata": {},
   "source": [
    "Для решения задачи многоклассовой классификации при помощи двуслойной нейронной сети будет использована библиотека построения нейронных сетей [pybrain](http://pybrain.org/). Библиотека содержит основные модули инициализации двуслойной нейронной сети прямого распространения, оценки ее параметров с помощью метода обратного распространения ошибки (backpropagation) и подсчета ошибки."
   ]
  },
  {
   "cell_type": "markdown",
   "metadata": {},
   "source": [
    "###  Используемые данные\n",
    "\n",
    "Рассматривается задача оценки качества вина по его физико-химическим свойствам [1]. Данные размещены в [открытом доступе](https://archive.ics.uci.edu/ml/machine-learning-databases/wine-quality/winequality-red.csv) в репозитории UCI  и содержат 1599 образцов красного вина, описанных 11 признаками, среди которых -- кислотность, процентное содержание сахара, алкоголя и пр. Кроме того, каждому объекту поставлена в соответствие оценка качества по шкале от 0 до 10. Требуется восстановить оценку качества вина по исходному признаковому описанию.\n",
    "\n",
    "[1] P. Cortez, A. Cerdeira, F. Almeida, T. Matos and J. Reis. Modeling wine preferences by data mining from physicochemical properties.  In Decision Support Systems, Elsevier, 47(4):547-553, 2009. "
   ]
  },
  {
   "cell_type": "code",
   "execution_count": 23,
   "metadata": {},
   "outputs": [],
   "source": [
    "# Выполним инициализацию основных используемых модулей\n",
    "%matplotlib inline\n",
    "\n",
    "import random\n",
    "import matplotlib.pyplot as plt\n",
    "from sklearn.preprocessing import normalize\n",
    "from sklearn.model_selection import train_test_split\n",
    "import numpy as np"
   ]
  },
  {
   "cell_type": "markdown",
   "metadata": {},
   "source": [
    "Выполним загрузку данных"
   ]
  },
  {
   "cell_type": "code",
   "execution_count": 9,
   "metadata": {},
   "outputs": [],
   "source": [
    "with open('8. Двуслойные нейронные сети в задачах классификации.csv') as f:\n",
    "    f.readline()  # пропуск заголовочной строки\n",
    "    data = np.loadtxt(f, delimiter=';')"
   ]
  },
  {
   "cell_type": "markdown",
   "metadata": {},
   "source": [
    "В качестве альтернативного варианта, можно выполнить загрузку данных напрямую из репозитория UCI, воспользовавшись библиотекой urllib."
   ]
  },
  {
   "cell_type": "code",
   "execution_count": 7,
   "metadata": {},
   "outputs": [],
   "source": [
    "import urllib\n",
    "# URL for the Wine Quality Data Set (UCI Machine Learning Repository)\n",
    "url = \"https://archive.ics.uci.edu/ml/machine-learning-databases/wine-quality/winequality-red.csv\"\n",
    "# загрузка файла\n",
    "f = urllib.request.urlopen(url)\n",
    "f.readline()  # пропуск заголовочной строки\n",
    "data = np.loadtxt(f, delimiter=';')"
   ]
  },
  {
   "cell_type": "code",
   "execution_count": 18,
   "metadata": {},
   "outputs": [
    {
     "name": "stdout",
     "output_type": "stream",
     "text": [
      "3.0 - 0.63%\n",
      "4.0 - 3.31%\n",
      "5.0 - 42.59%\n",
      "6.0 - 39.90%\n",
      "7.0 - 12.45%\n",
      "8.0 - 1.13%\n"
     ]
    }
   ],
   "source": [
    "# Соотношение классов целевой переменной\n",
    "for i in sorted(set(data[:, -1])):\n",
    "    print(f'{i} - {(data[:, -1][data[:, -1] == i].shape[0] / data[:, -1].shape[0] * 100):.2f}%')"
   ]
  },
  {
   "cell_type": "markdown",
   "metadata": {},
   "source": [
    "Выделим из данных целевую переменную. Классы в задаче являются несбалинсированными: основной доле объектов поставлена оценка качества от 5 до 7. Приведем задачу к трехклассовой: объектам с оценкой качества меньше пяти поставим оценку 5, а объектам с оценкой качества больше семи поставим 7. "
   ]
  },
  {
   "cell_type": "code",
   "execution_count": 24,
   "metadata": {},
   "outputs": [],
   "source": [
    "TRAIN_SIZE = 0.7 # Разделение данных на обучающую и контрольную части в пропорции 70/30%\n",
    "\n",
    "# Целевая переменная\n",
    "y = data[:, -1]\n",
    "\n",
    "# Заменить в массиве y все объекты, удовлетворяющие условию y < 5 на значение 5\n",
    "np.place(y, y < 5, 5)\n",
    "\n",
    "# Заменить в массиве y все объекты, удовлетворяющие условию y > 7 на значение 7\n",
    "np.place(y, y > 7, 7)\n",
    "\n",
    "# Вычесть из каждого значения в массиве y минимальное значение в массиве (отнормировать значения от 0 до max(y)-min(y))\n",
    "y -= min(y)\n",
    "\n",
    "# Пространство признаков\n",
    "X = data[:, :-1]\n",
    "\n",
    "# Нормировка пространства признаков\n",
    "X = normalize(X)\n",
    "\n",
    "# Разбиение на обучающую и тестовую выборки\n",
    "X_train, X_test, y_train, y_test = train_test_split(X, y, train_size=TRAIN_SIZE, random_state=0)"
   ]
  },
  {
   "cell_type": "code",
   "execution_count": 26,
   "metadata": {},
   "outputs": [
    {
     "name": "stdout",
     "output_type": "stream",
     "text": [
      "0.0 - 46.53%\n",
      "1.0 - 39.90%\n",
      "2.0 - 13.57%\n"
     ]
    }
   ],
   "source": [
    "# Соотношение классов нормированной целевой переменной\n",
    "for i in sorted(set(y)):\n",
    "    print(f'{i} - {(y[y == i].shape[0] / y.shape[0] * 100):.2f}%')"
   ]
  },
  {
   "cell_type": "code",
   "execution_count": 28,
   "metadata": {},
   "outputs": [
    {
     "name": "stdout",
     "output_type": "stream",
     "text": [
      "0.0 - 46.29%\n",
      "1.0 - 38.78%\n",
      "2.0 - 14.92%\n"
     ]
    }
   ],
   "source": [
    "# Соотношение классов нормированной целевой переменной в обучающей выборке\n",
    "for i in sorted(set(y_train)):\n",
    "    print(f'{i} - {(y_train[y_train == i].shape[0] / y_train.shape[0] * 100):.2f}%')"
   ]
  },
  {
   "cell_type": "code",
   "execution_count": 29,
   "metadata": {},
   "outputs": [
    {
     "name": "stdout",
     "output_type": "stream",
     "text": [
      "0.0 - 47.08%\n",
      "1.0 - 42.50%\n",
      "2.0 - 10.42%\n"
     ]
    }
   ],
   "source": [
    "# Соотношение классов нормированной целевой переменной в тестовой выборке\n",
    "for i in sorted(set(y_test)):\n",
    "    print(f'{i} - {(y_test[y_test == i].shape[0] / y_test.shape[0] * 100):.2f}%')"
   ]
  },
  {
   "cell_type": "markdown",
   "metadata": {},
   "source": [
    "### Двуслойная нейронная сеть\n",
    "\n",
    "Двуслойная нейронная сеть представляет собой функцию распознавания, которая може быть записана в виде следующей суперпозиции:\n",
    "\n",
    "$$f(x,W)=h^{(2)}\\left(\\sum\\limits_{i=1}^D w_i^{(2)}h^{(1)}\\left(\\sum\\limits_{j=1}^n w_{ji}^{(1)}x_j+b_i^{(1)}\\right)+b^{(2)}\\right)$$\n",
    "\n",
    "где\n",
    "\n",
    "* $x$ - исходный объект (сорт вина, описанный 11 признаками), \n",
    "\n",
    "* $x_j$ - соответствующий признак,\n",
    "\n",
    "* $n$ -  количество нейронов во входном слое сети, совпадающее с количеством признаков,\n",
    "\n",
    "* $D$ -  количество нейронов в скрытом слое сети,\n",
    "\n",
    "* $w_i^{(2)}, w_{ji}^{(1)}, b_i^{(1)}, b^{(2)}$ -  параметры сети, соответствующие весам нейронов,\n",
    "\n",
    "* $h^{(1)}, h^{(2)}$ - функции активации.\n",
    "\n",
    "В качестве функции активации на скрытом слое сети используется линейная функция. На выходном слое сети используется функция активации softmax, являющаяся обобщением сигмоидной функции на многоклассовый случай:\n",
    "\n",
    "$$y_k=\\text{softmax}_k(a_1,...,a_k)=\\frac{\\exp(a_k)}{\\sum_{k=1}^K\\exp(a_k)}$$\n",
    "\n"
   ]
  },
  {
   "cell_type": "markdown",
   "metadata": {},
   "source": [
    "### Настройка параметров сети\n",
    "\n",
    "Оптимальные параметры сети $W_{opt}$ определяются путем минимизации функции ошибки:\n",
    "\n",
    "$$W_{opt}=\\arg\\min\\limits_{W}L(W)+\\lambda\\|W\\|^2$$\n",
    "\n",
    "Здесь $L(W)$ является функцией ошибки многоклассовой классификации,\n",
    "\n",
    "$$L(W)=- \\sum^N_{n=1}\\sum^K_{k=1} t_{kn} log(y_{kn})$$\n",
    "\n",
    "* $t_{kn}$ - бинарно закодированные метки классов, \n",
    "\n",
    "* $K$ - количество меток, \n",
    "\n",
    "* $N$ - количество объектов,\n",
    "\n",
    "* $\\lambda\\|W\\|^2$ - регуляризующее слагаемое, контролирующее суммарный вес параметров сети и предотвращающее эффект переобучения.\n",
    "\n",
    "Оптимизация параметров выполняется методом обратного распространения ошибки (backpropagation)."
   ]
  },
  {
   "cell_type": "markdown",
   "metadata": {},
   "source": [
    "Выполним загрузку основных модулей: \n",
    "* ClassificationDataSet - структура данных pybrain, \n",
    "* buildNetwork - инициализация нейронной сети, \n",
    "* BackpropTrainer - оптимизация параметров сети методом backpropagation, \n",
    "* SoftmaxLayer - функция softmax, соответствующая выходному слою сети, \n",
    "* LinearLayer - линейная функция активации, оотвествующая скрытому слою,\n",
    "* percentError - функция подсчета ошибки классификации (доля неправильных ответов). "
   ]
  },
  {
   "cell_type": "code",
   "execution_count": 87,
   "metadata": {},
   "outputs": [],
   "source": [
    "from pybrain.datasets import ClassificationDataSet\n",
    "from pybrain.tools.shortcuts import buildNetwork\n",
    "from pybrain.supervised.trainers import BackpropTrainer\n",
    "from pybrain.structure.modules import SoftmaxLayer, LinearLayer\n",
    "from pybrain.utilities import percentError"
   ]
  },
  {
   "cell_type": "markdown",
   "metadata": {},
   "source": [
    "Инициализируем основные параметры задачи: \n",
    "* HIDDEN_NEURONS_NUM - количество нейронов скрытого слоя, \n",
    "* MAX_EPOCHS - максимальное количество итераций алгоритма оптимизации"
   ]
  },
  {
   "cell_type": "code",
   "execution_count": 88,
   "metadata": {},
   "outputs": [],
   "source": [
    "# Определение основных констант\n",
    "HIDDEN_NEURONS_NUM = 100 # Количество нейронов, содержащееся в скрытом слое сети\n",
    "MAX_EPOCHS = 100 # Максимальное число итераций алгоритма оптимизации параметров сети"
   ]
  },
  {
   "cell_type": "markdown",
   "metadata": {},
   "source": [
    "Инициализируем структуру данных ClassificationDataSet, используемую библиотекой pybrain. Для инициализации структура принимает два аргумента: \n",
    "* количество признаков *np.shape(X)[1]* \n",
    "* количество различных меток классов *len(np.unique(y))*.\n",
    "\n",
    "Кроме того, произведем бинаризацию целевой переменной с помощью функции *_convertToOneOfMany( )* и разбиение данных на обучающую и контрольную части."
   ]
  },
  {
   "cell_type": "code",
   "execution_count": 89,
   "metadata": {},
   "outputs": [],
   "source": [
    "# Конвертация данных в структуру ClassificationDataSet\n",
    "# Обучающая часть\n",
    "ds_train = ClassificationDataSet(np.shape(X)[1], nb_classes=len(np.unique(y_train)))\n",
    "# Первый аргумент -- количество признаков np.shape(X)[1], второй аргумент -- количество меток классов len(np.unique(y_train)))\n",
    "ds_train.setField('input', X_train) # Инициализация объектов\n",
    "ds_train.setField('target', y_train[:, np.newaxis]) # Инициализация ответов; np.newaxis создает вектор-столбец\n",
    "ds_train._convertToOneOfMany( ) # Бинаризация вектора ответов\n",
    "# Контрольная часть\n",
    "ds_test = ClassificationDataSet(np.shape(X)[1], nb_classes=len(np.unique(y_train)))\n",
    "ds_test.setField('input', X_test)\n",
    "ds_test.setField('target', y_test[:, np.newaxis])\n",
    "ds_test._convertToOneOfMany( )"
   ]
  },
  {
   "cell_type": "markdown",
   "metadata": {},
   "source": [
    "Инициализируем двуслойную сеть и произведем оптимизацию ее параметров. Аргументами для инициализации являются:\n",
    "\n",
    "* ds.indim - количество нейронов на входном слое сети, совпадает с количеством признаков (в нашем случае 11),\n",
    "\n",
    "* HIDDEN_NEURONS_NUM - количество нейронов в скрытом слое сети,\n",
    "\n",
    "* ds.outdim - количество нейронов на выходном слое сети, совпадает с количеством различных меток классов (в нашем случае 3),\n",
    "\n",
    "* SoftmaxLayer - функция softmax, используемая на выходном слое для решения задачи многоклассовой классификации."
   ]
  },
  {
   "cell_type": "code",
   "execution_count": 91,
   "metadata": {
    "scrolled": true
   },
   "outputs": [],
   "source": [
    "np.random.seed(0) # Зафиксируем seed для получения воспроизводимого результата\n",
    "\n",
    "# Построение сети прямого распространения (Feedforward network)\n",
    "net = buildNetwork(ds_train.indim, HIDDEN_NEURONS_NUM, ds_train.outdim, outclass=SoftmaxLayer, hiddenclass = LinearLayer)\n",
    "# ds.indim -- количество нейронов входного слоя, равне количеству признаков\n",
    "# ds.outdim -- количество нейронов выходного слоя, равное количеству меток классов\n",
    "# SoftmaxLayer -- функция активации, пригодная для решения задачи многоклассовой классификации\n",
    "\n",
    "init_params = np.random.random((len(net.params))) # Инициализируем веса сети для получения воспроизводимого результата\n",
    "net._setParameters(init_params)"
   ]
  },
  {
   "cell_type": "markdown",
   "metadata": {},
   "source": [
    " Выполним оптимизацию параметров сети. График ниже показывает сходимость функции ошибки на обучающей/контрольной части."
   ]
  },
  {
   "cell_type": "code",
   "execution_count": 92,
   "metadata": {},
   "outputs": [
    {
     "data": {
      "image/png": "[encoded data removed]",
      "text/plain": [
       "<Figure size 432x288 with 1 Axes>"
      ]
     },
     "metadata": {
      "needs_background": "light"
     },
     "output_type": "display_data"
    }
   ],
   "source": [
    "random.seed(0)\n",
    "# Модуль настройки параметров pybrain использует модуль random; зафиксируем seed для получения воспроизводимого результата\n",
    "trainer = BackpropTrainer(net, dataset=ds_train) # Инициализируем модуль оптимизации\n",
    "err_train, err_val = trainer.trainUntilConvergence(maxEpochs=MAX_EPOCHS)\n",
    "line_train = plt.plot(err_train, 'b', err_val, 'r') # Построение графика\n",
    "xlab = plt.xlabel('Iterations')\n",
    "ylab = plt.ylabel('Error')"
   ]
  },
  {
   "cell_type": "markdown",
   "metadata": {},
   "source": [
    "Рассчитаем значение доли неправильных ответов на обучающей и контрольной выборке."
   ]
  },
  {
   "cell_type": "code",
   "execution_count": 93,
   "metadata": {
    "scrolled": true
   },
   "outputs": [
    {
     "name": "stdout",
     "output_type": "stream",
     "text": [
      "Error on train: 44.057 %\n",
      "Error on test: 43.958 %\n"
     ]
    }
   ],
   "source": [
    "# Подсчет результата на обучающей выборке\n",
    "res_train = net.activateOnDataset(ds_train).argmax(axis=1)\n",
    "\n",
    "# Подсчет ошибки\n",
    "print(f'Error on train: {(percentError(res_train, ds_train[\"target\"].argmax(axis=1))):.3f} %')\n",
    "\n",
    "# Подсчет результата на тестовой выборке\n",
    "res_test = net.activateOnDataset(ds_test).argmax(axis=1) \n",
    "\n",
    "# Подсчет ошибки\n",
    "print(f'Error on test: {(percentError(res_test, ds_test[\"target\"].argmax(axis=1))):.3f} %') "
   ]
  },
  {
   "cell_type": "markdown",
   "metadata": {},
   "source": [
    "### Определение оптимального числа нейронов.\n",
    "Исследуем зависимость ошибки на контрольной выборке в зависимости от числа нейронов в скрытом слое сети. \n",
    "\n",
    "Исследуемое количество нейронов, по которому предполагается провести перебор, записано в векторе:\n",
    "```\n",
    "hidden_neurons_num = [50, 100, 200, 500, 700, 1000]\n",
    "```"
   ]
  },
  {
   "cell_type": "code",
   "execution_count": 94,
   "metadata": {},
   "outputs": [
    {
     "data": {
      "image/png": "[encoded data removed]",
      "text/plain": [
       "<Figure size 432x288 with 1 Axes>"
      ]
     },
     "metadata": {
      "needs_background": "light"
     },
     "output_type": "display_data"
    }
   ],
   "source": [
    "random.seed(0) # Зафиксируем seed для получния воспроизводимого результата\n",
    "np.random.seed(0)\n",
    "\n",
    "# Массив, содержащий количество нейронов, по которому предполагается провести перебор\n",
    "hidden_neurons_num = [50, 100, 200, 500, 700, 1000]\n",
    "\n",
    "# Массив, содержащий значения доли неправильных ответов классификации на обучении\n",
    "res_train_vec = list()\n",
    "# Массив, содержащий значения доли неправильных ответов классификации на контроле\n",
    "res_test_vec = list()\n",
    "\n",
    "for nnum in hidden_neurons_num:\n",
    "    net = buildNetwork(ds_train.indim, nnum, ds_train.outdim, outclass=SoftmaxLayer, hiddenclass = LinearLayer)\n",
    "    init_params = np.random.random((len(net.params)))\n",
    "    net._setParameters(init_params)\n",
    "    \n",
    "    # Модуль настройки параметров pybrain использует модуль random;\n",
    "    trainer = BackpropTrainer(net, dataset=ds_train) # Инициализируем модуль оптимизации\n",
    "    err_train, err_val = trainer.trainUntilConvergence(maxEpochs=MAX_EPOCHS)\n",
    "    \n",
    "    # Подсчет результата на обучающей выборке\n",
    "    res_train = net.activateOnDataset(ds_train).argmax(axis=1)\n",
    "    # Подсчет ошибки\n",
    "    res_train_vec.append(percentError(res_train, ds_train[\"target\"].argmax(axis=1)))\n",
    "\n",
    "    # Подсчет результата на тестовой выборке\n",
    "    res_test = net.activateOnDataset(ds_test).argmax(axis=1) \n",
    "    # Подсчет ошибки \n",
    "    res_test_vec.append(percentError(res_test, ds_test[\"target\"].argmax(axis=1)))      "
   ]
  },
  {
   "cell_type": "code",
   "execution_count": 95,
   "metadata": {},
   "outputs": [
    {
     "name": "stdout",
     "output_type": "stream",
     "text": [
      "50 newrons: \ttrain error - 47.900%, \n",
      "\t\ttest error - 43.125%\n",
      "100 newrons: \ttrain error - 44.325%, \n",
      "\t\ttest error - 41.042%\n",
      "200 newrons: \ttrain error - 43.521%, \n",
      "\t\ttest error - 42.083%\n",
      "500 newrons: \ttrain error - 39.946%, \n",
      "\t\ttest error - 37.708%\n",
      "700 newrons: \ttrain error - 42.002%, \n",
      "\t\ttest error - 35.000%\n",
      "1000 newrons: \ttrain error - 41.197%, \n",
      "\t\ttest error - 35.625%\n"
     ]
    }
   ],
   "source": [
    "for x, y, z in zip(hidden_neurons_num, res_train_vec, res_test_vec):\n",
    "    print(f'{x} newrons: \\ttrain error - {y:.3f}%, \\n\\t\\ttest error - {z:.3f}%')"
   ]
  },
  {
   "cell_type": "code",
   "execution_count": 96,
   "metadata": {},
   "outputs": [
    {
     "data": {
      "image/png": "[encoded data removed]",
      "text/plain": [
       "<Figure size 432x288 with 1 Axes>"
      ]
     },
     "metadata": {
      "needs_background": "light"
     },
     "output_type": "display_data"
    }
   ],
   "source": [
    "def plot_classification_error(hidden_neurons_num, res_train_vec, res_test_vec):\n",
    "    plt.figure()\n",
    "    plt.plot(hidden_neurons_num, res_train_vec)\n",
    "    plt.plot(hidden_neurons_num, res_test_vec, '-r')\n",
    "\n",
    "\n",
    "# График зависимости ошибок на обучении и контроле в зависимости от количества нейронов\n",
    "plot_classification_error(hidden_neurons_num, res_train_vec, res_test_vec)  "
   ]
  },
  {
   "cell_type": "code",
   "execution_count": 98,
   "metadata": {},
   "outputs": [
    {
     "data": {
      "text/plain": [
       "700"
      ]
     },
     "execution_count": 98,
     "metadata": {},
     "output_type": "execute_result"
    }
   ],
   "source": [
    "#  Количество нейронов, при котором достигается минимум ошибки на контроле\n",
    "hidden_neurons_num[res_test_vec.index(min(res_test_vec))]"
   ]
  }
 ],
 "metadata": {
  "hide_input": false,
  "kernelspec": {
   "display_name": "Python 3",
   "language": "python",
   "name": "python3"
  },
  "language_info": {
   "codemirror_mode": {
    "name": "ipython",
    "version": 3
   },
   "file_extension": ".py",
   "mimetype": "text/x-python",
   "name": "python",
   "nbconvert_exporter": "python",
   "pygments_lexer": "ipython3",
   "version": "3.7.4"
  },
  "toc": {
   "base_numbering": 1,
   "nav_menu": {},
   "number_sections": false,
   "sideBar": true,
   "skip_h1_title": false,
   "title_cell": "Table of Contents",
   "title_sidebar": "Contents",
   "toc_cell": false,
   "toc_position": {},
   "toc_section_display": true,
   "toc_window_display": false
  },
  "varInspector": {
   "cols": {
    "lenName": 16,
    "lenType": 16,
    "lenVar": 40
   },
   "kernels_config": {
    "python": {
     "delete_cmd_postfix": "",
     "delete_cmd_prefix": "del ",
     "library": "var_list.py",
     "varRefreshCmd": "print(var_dic_list())"
    },
    "r": {
     "delete_cmd_postfix": ") ",
     "delete_cmd_prefix": "rm(",
     "library": "var_list.r",
     "varRefreshCmd": "cat(var_dic_list()) "
    }
   },
   "types_to_exclude": [
    "module",
    "function",
    "builtin_function_or_method",
    "instance",
    "_Feature"
   ],
   "window_display": false
  }
 },
 "nbformat": 4,
 "nbformat_minor": 1
}
