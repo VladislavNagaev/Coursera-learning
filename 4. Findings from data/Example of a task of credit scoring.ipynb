{
 "cells": [
  {
   "cell_type": "markdown",
   "metadata": {},
   "source": [
    "# Задача кредитного скоринга"
   ]
  },
  {
   "cell_type": "markdown",
   "metadata": {},
   "source": [
    "Имеются следующие данные о кредитных историях клиентов одного из банков:\n",
    "\n",
    "* LIMIT_BAL: размер кредитного лимита (в том числе и на семью клиента)\n",
    "* SEX: пол клиента (1 = мужской, 2 = женский)\n",
    "* EDUCATION: образование (0 = доктор, 1 = магистр; 2 = бакалавр; 3 = выпускник школы; 4 = начальное образование; 5 = прочее; 6 = нет данных).\n",
    "* MARRIAGE: (0 = отказываюсь отвечать; 1 = замужем/женат; 2 = холост; 3 = нет данных).\n",
    "* AGE: возраст в годах\n",
    "* PAY_0 - PAY_6 : История прошлых платежей по кредиту. PAY_6 - платеж в апреле, ... Pay_0 - платеж в сентябре. Платеж = (0 = исправный платеж, 1=задержка в один месяц, 2=задержка в 2 месяца ...)\n",
    "* BILL_AMT1 - BILL_AMT6: задолженность, BILL_AMT6 - на апрель, BILL_AMT1 - на сентябрь\n",
    "* PAY_AMT1 - PAY_AMT6: сумма уплаченная в PAY_AMT6 - апреле, ..., PAY_AMT1 - сентябре\n",
    "* default - индикатор невозврата денежных средств"
   ]
  },
  {
   "cell_type": "markdown",
   "metadata": {},
   "source": [
    "**Необходимо:**\n",
    "\n",
    "    1. В двух группах, тех людей, кто вернул кредит (default = 0) и тех, кто его не вернул (default = 1) проверить гипотезы: \n",
    "        a) о равенстве медианных значений кредитного лимита (`LIMIT_BAL`) с помощью подходящей интервальной оценки \n",
    "        b) о равенстве распределений с помощью одного из подходящих непараметрических критериев проверки равенства средних\n",
    "    2. Проверить гипотезу о том, что гендерный состав группы людей (`SEX`) вернувших и не вернувших кредит отличается.\n",
    "    3. Проверить гипотезу о том, что образование (`EDUCATION`) не влияет на то, вернет ли человек долг.\n",
    "    4. Проверить, как связан семейный статус (`MARRIAGE`) с индикатором дефолта.\n",
    "    5. Относительно двух групп людей вернувших и не вернувших кредит проверить следующие гипотезы: \n",
    "        a) о равенстве медианных значений возрастов людей (`AGE`)\n",
    "        b) о равенстве распределений с помощью одного из подходящих непараметрических критериев проверки равенства средних"
   ]
  },
  {
   "cell_type": "markdown",
   "metadata": {},
   "source": [
    "**Подготовим данные**"
   ]
  },
  {
   "cell_type": "code",
   "execution_count": 1,
   "metadata": {},
   "outputs": [],
   "source": [
    "default = {0:'кредит возвращен', \n",
    "           1:'кредит не возвращен'}\n",
    "\n",
    "SEX = {1:'мужчины', \n",
    "       2:'женщины'}\n",
    "\n",
    "EDUCATION = {0:'доктор',\n",
    "             1:'магистр',\n",
    "             2:'бакалавр',\n",
    "             3:'выпускник школы',\n",
    "             4:'начальное образование',\n",
    "             5:'прочее',\n",
    "             6:'нет данных'}\n",
    "\n",
    "MARRIAGE = {0:'отказ отвечать',\n",
    "            1:'замужем/женат',\n",
    "            2:'холост',\n",
    "            3:'нет данных'}"
   ]
  },
  {
   "cell_type": "code",
   "execution_count": 2,
   "metadata": {},
   "outputs": [],
   "source": [
    "%matplotlib inline\n",
    "\n",
    "import matplotlib\n",
    "matplotlib.style.use('ggplot')\n",
    "\n",
    "from matplotlib import pyplot\n",
    "\n",
    "import numpy as np\n",
    "import pandas as pd\n",
    "import seaborn as sns\n",
    "\n",
    "import scipy\n",
    "\n",
    "import warnings\n",
    "warnings.filterwarnings('ignore')"
   ]
  },
  {
   "cell_type": "code",
   "execution_count": 3,
   "metadata": {},
   "outputs": [],
   "source": [
    "data = pd.read_csv(\"credit_card_default_analysis.csv\", header=0, index_col='ID') "
   ]
  },
  {
   "cell_type": "code",
   "execution_count": 4,
   "metadata": {},
   "outputs": [
    {
     "data": {
      "text/html": [
       "<div>\n",
       "<style scoped>\n",
       "    .dataframe tbody tr th:only-of-type {\n",
       "        vertical-align: middle;\n",
       "    }\n",
       "\n",
       "    .dataframe tbody tr th {\n",
       "        vertical-align: top;\n",
       "    }\n",
       "\n",
       "    .dataframe thead th {\n",
       "        text-align: right;\n",
       "    }\n",
       "</style>\n",
       "<table border=\"1\" class=\"dataframe\">\n",
       "  <thead>\n",
       "    <tr style=\"text-align: right;\">\n",
       "      <th></th>\n",
       "      <th>LIMIT_BAL</th>\n",
       "      <th>SEX</th>\n",
       "      <th>EDUCATION</th>\n",
       "      <th>MARRIAGE</th>\n",
       "      <th>AGE</th>\n",
       "      <th>PAY_0</th>\n",
       "      <th>PAY_2</th>\n",
       "      <th>PAY_3</th>\n",
       "      <th>PAY_4</th>\n",
       "      <th>PAY_5</th>\n",
       "      <th>...</th>\n",
       "      <th>BILL_AMT4</th>\n",
       "      <th>BILL_AMT5</th>\n",
       "      <th>BILL_AMT6</th>\n",
       "      <th>PAY_AMT1</th>\n",
       "      <th>PAY_AMT2</th>\n",
       "      <th>PAY_AMT3</th>\n",
       "      <th>PAY_AMT4</th>\n",
       "      <th>PAY_AMT5</th>\n",
       "      <th>PAY_AMT6</th>\n",
       "      <th>default</th>\n",
       "    </tr>\n",
       "    <tr>\n",
       "      <th>ID</th>\n",
       "      <th></th>\n",
       "      <th></th>\n",
       "      <th></th>\n",
       "      <th></th>\n",
       "      <th></th>\n",
       "      <th></th>\n",
       "      <th></th>\n",
       "      <th></th>\n",
       "      <th></th>\n",
       "      <th></th>\n",
       "      <th></th>\n",
       "      <th></th>\n",
       "      <th></th>\n",
       "      <th></th>\n",
       "      <th></th>\n",
       "      <th></th>\n",
       "      <th></th>\n",
       "      <th></th>\n",
       "      <th></th>\n",
       "      <th></th>\n",
       "      <th></th>\n",
       "    </tr>\n",
       "  </thead>\n",
       "  <tbody>\n",
       "    <tr>\n",
       "      <td>1</td>\n",
       "      <td>20000</td>\n",
       "      <td>2</td>\n",
       "      <td>2</td>\n",
       "      <td>1</td>\n",
       "      <td>24</td>\n",
       "      <td>2</td>\n",
       "      <td>2</td>\n",
       "      <td>0</td>\n",
       "      <td>0</td>\n",
       "      <td>0</td>\n",
       "      <td>...</td>\n",
       "      <td>0</td>\n",
       "      <td>0</td>\n",
       "      <td>0</td>\n",
       "      <td>0</td>\n",
       "      <td>689</td>\n",
       "      <td>0</td>\n",
       "      <td>0</td>\n",
       "      <td>0</td>\n",
       "      <td>0</td>\n",
       "      <td>1</td>\n",
       "    </tr>\n",
       "    <tr>\n",
       "      <td>2</td>\n",
       "      <td>120000</td>\n",
       "      <td>2</td>\n",
       "      <td>2</td>\n",
       "      <td>2</td>\n",
       "      <td>26</td>\n",
       "      <td>0</td>\n",
       "      <td>2</td>\n",
       "      <td>0</td>\n",
       "      <td>0</td>\n",
       "      <td>0</td>\n",
       "      <td>...</td>\n",
       "      <td>3272</td>\n",
       "      <td>3455</td>\n",
       "      <td>3261</td>\n",
       "      <td>0</td>\n",
       "      <td>1000</td>\n",
       "      <td>1000</td>\n",
       "      <td>1000</td>\n",
       "      <td>0</td>\n",
       "      <td>2000</td>\n",
       "      <td>1</td>\n",
       "    </tr>\n",
       "    <tr>\n",
       "      <td>3</td>\n",
       "      <td>90000</td>\n",
       "      <td>2</td>\n",
       "      <td>2</td>\n",
       "      <td>2</td>\n",
       "      <td>34</td>\n",
       "      <td>0</td>\n",
       "      <td>0</td>\n",
       "      <td>0</td>\n",
       "      <td>0</td>\n",
       "      <td>0</td>\n",
       "      <td>...</td>\n",
       "      <td>14331</td>\n",
       "      <td>14948</td>\n",
       "      <td>15549</td>\n",
       "      <td>1518</td>\n",
       "      <td>1500</td>\n",
       "      <td>1000</td>\n",
       "      <td>1000</td>\n",
       "      <td>1000</td>\n",
       "      <td>5000</td>\n",
       "      <td>0</td>\n",
       "    </tr>\n",
       "    <tr>\n",
       "      <td>4</td>\n",
       "      <td>50000</td>\n",
       "      <td>2</td>\n",
       "      <td>2</td>\n",
       "      <td>1</td>\n",
       "      <td>37</td>\n",
       "      <td>0</td>\n",
       "      <td>0</td>\n",
       "      <td>0</td>\n",
       "      <td>0</td>\n",
       "      <td>0</td>\n",
       "      <td>...</td>\n",
       "      <td>28314</td>\n",
       "      <td>28959</td>\n",
       "      <td>29547</td>\n",
       "      <td>2000</td>\n",
       "      <td>2019</td>\n",
       "      <td>1200</td>\n",
       "      <td>1100</td>\n",
       "      <td>1069</td>\n",
       "      <td>1000</td>\n",
       "      <td>0</td>\n",
       "    </tr>\n",
       "    <tr>\n",
       "      <td>5</td>\n",
       "      <td>50000</td>\n",
       "      <td>1</td>\n",
       "      <td>2</td>\n",
       "      <td>1</td>\n",
       "      <td>57</td>\n",
       "      <td>0</td>\n",
       "      <td>0</td>\n",
       "      <td>0</td>\n",
       "      <td>0</td>\n",
       "      <td>0</td>\n",
       "      <td>...</td>\n",
       "      <td>20940</td>\n",
       "      <td>19146</td>\n",
       "      <td>19131</td>\n",
       "      <td>2000</td>\n",
       "      <td>36681</td>\n",
       "      <td>10000</td>\n",
       "      <td>9000</td>\n",
       "      <td>689</td>\n",
       "      <td>679</td>\n",
       "      <td>0</td>\n",
       "    </tr>\n",
       "    <tr>\n",
       "      <td>...</td>\n",
       "      <td>...</td>\n",
       "      <td>...</td>\n",
       "      <td>...</td>\n",
       "      <td>...</td>\n",
       "      <td>...</td>\n",
       "      <td>...</td>\n",
       "      <td>...</td>\n",
       "      <td>...</td>\n",
       "      <td>...</td>\n",
       "      <td>...</td>\n",
       "      <td>...</td>\n",
       "      <td>...</td>\n",
       "      <td>...</td>\n",
       "      <td>...</td>\n",
       "      <td>...</td>\n",
       "      <td>...</td>\n",
       "      <td>...</td>\n",
       "      <td>...</td>\n",
       "      <td>...</td>\n",
       "      <td>...</td>\n",
       "      <td>...</td>\n",
       "    </tr>\n",
       "    <tr>\n",
       "      <td>29996</td>\n",
       "      <td>220000</td>\n",
       "      <td>1</td>\n",
       "      <td>3</td>\n",
       "      <td>1</td>\n",
       "      <td>39</td>\n",
       "      <td>0</td>\n",
       "      <td>0</td>\n",
       "      <td>0</td>\n",
       "      <td>0</td>\n",
       "      <td>0</td>\n",
       "      <td>...</td>\n",
       "      <td>88004</td>\n",
       "      <td>31237</td>\n",
       "      <td>15980</td>\n",
       "      <td>8500</td>\n",
       "      <td>20000</td>\n",
       "      <td>5003</td>\n",
       "      <td>3047</td>\n",
       "      <td>5000</td>\n",
       "      <td>1000</td>\n",
       "      <td>0</td>\n",
       "    </tr>\n",
       "    <tr>\n",
       "      <td>29997</td>\n",
       "      <td>150000</td>\n",
       "      <td>1</td>\n",
       "      <td>3</td>\n",
       "      <td>2</td>\n",
       "      <td>43</td>\n",
       "      <td>0</td>\n",
       "      <td>0</td>\n",
       "      <td>0</td>\n",
       "      <td>0</td>\n",
       "      <td>0</td>\n",
       "      <td>...</td>\n",
       "      <td>8979</td>\n",
       "      <td>5190</td>\n",
       "      <td>0</td>\n",
       "      <td>1837</td>\n",
       "      <td>3526</td>\n",
       "      <td>8998</td>\n",
       "      <td>129</td>\n",
       "      <td>0</td>\n",
       "      <td>0</td>\n",
       "      <td>0</td>\n",
       "    </tr>\n",
       "    <tr>\n",
       "      <td>29998</td>\n",
       "      <td>30000</td>\n",
       "      <td>1</td>\n",
       "      <td>2</td>\n",
       "      <td>2</td>\n",
       "      <td>37</td>\n",
       "      <td>4</td>\n",
       "      <td>3</td>\n",
       "      <td>2</td>\n",
       "      <td>0</td>\n",
       "      <td>0</td>\n",
       "      <td>...</td>\n",
       "      <td>20878</td>\n",
       "      <td>20582</td>\n",
       "      <td>19357</td>\n",
       "      <td>0</td>\n",
       "      <td>0</td>\n",
       "      <td>22000</td>\n",
       "      <td>4200</td>\n",
       "      <td>2000</td>\n",
       "      <td>3100</td>\n",
       "      <td>1</td>\n",
       "    </tr>\n",
       "    <tr>\n",
       "      <td>29999</td>\n",
       "      <td>80000</td>\n",
       "      <td>1</td>\n",
       "      <td>3</td>\n",
       "      <td>1</td>\n",
       "      <td>41</td>\n",
       "      <td>1</td>\n",
       "      <td>0</td>\n",
       "      <td>0</td>\n",
       "      <td>0</td>\n",
       "      <td>0</td>\n",
       "      <td>...</td>\n",
       "      <td>52774</td>\n",
       "      <td>11855</td>\n",
       "      <td>48944</td>\n",
       "      <td>85900</td>\n",
       "      <td>3409</td>\n",
       "      <td>1178</td>\n",
       "      <td>1926</td>\n",
       "      <td>52964</td>\n",
       "      <td>1804</td>\n",
       "      <td>1</td>\n",
       "    </tr>\n",
       "    <tr>\n",
       "      <td>30000</td>\n",
       "      <td>50000</td>\n",
       "      <td>1</td>\n",
       "      <td>2</td>\n",
       "      <td>1</td>\n",
       "      <td>46</td>\n",
       "      <td>0</td>\n",
       "      <td>0</td>\n",
       "      <td>0</td>\n",
       "      <td>0</td>\n",
       "      <td>0</td>\n",
       "      <td>...</td>\n",
       "      <td>36535</td>\n",
       "      <td>32428</td>\n",
       "      <td>15313</td>\n",
       "      <td>2078</td>\n",
       "      <td>1800</td>\n",
       "      <td>1430</td>\n",
       "      <td>1000</td>\n",
       "      <td>1000</td>\n",
       "      <td>1000</td>\n",
       "      <td>1</td>\n",
       "    </tr>\n",
       "  </tbody>\n",
       "</table>\n",
       "<p>30000 rows × 24 columns</p>\n",
       "</div>"
      ],
      "text/plain": [
       "       LIMIT_BAL  SEX  EDUCATION  MARRIAGE  AGE  PAY_0  PAY_2  PAY_3  PAY_4  \\\n",
       "ID                                                                            \n",
       "1          20000    2          2         1   24      2      2      0      0   \n",
       "2         120000    2          2         2   26      0      2      0      0   \n",
       "3          90000    2          2         2   34      0      0      0      0   \n",
       "4          50000    2          2         1   37      0      0      0      0   \n",
       "5          50000    1          2         1   57      0      0      0      0   \n",
       "...          ...  ...        ...       ...  ...    ...    ...    ...    ...   \n",
       "29996     220000    1          3         1   39      0      0      0      0   \n",
       "29997     150000    1          3         2   43      0      0      0      0   \n",
       "29998      30000    1          2         2   37      4      3      2      0   \n",
       "29999      80000    1          3         1   41      1      0      0      0   \n",
       "30000      50000    1          2         1   46      0      0      0      0   \n",
       "\n",
       "       PAY_5  ...  BILL_AMT4  BILL_AMT5  BILL_AMT6  PAY_AMT1  PAY_AMT2  \\\n",
       "ID            ...                                                        \n",
       "1          0  ...          0          0          0         0       689   \n",
       "2          0  ...       3272       3455       3261         0      1000   \n",
       "3          0  ...      14331      14948      15549      1518      1500   \n",
       "4          0  ...      28314      28959      29547      2000      2019   \n",
       "5          0  ...      20940      19146      19131      2000     36681   \n",
       "...      ...  ...        ...        ...        ...       ...       ...   \n",
       "29996      0  ...      88004      31237      15980      8500     20000   \n",
       "29997      0  ...       8979       5190          0      1837      3526   \n",
       "29998      0  ...      20878      20582      19357         0         0   \n",
       "29999      0  ...      52774      11855      48944     85900      3409   \n",
       "30000      0  ...      36535      32428      15313      2078      1800   \n",
       "\n",
       "       PAY_AMT3  PAY_AMT4  PAY_AMT5  PAY_AMT6  default  \n",
       "ID                                                      \n",
       "1             0         0         0         0        1  \n",
       "2          1000      1000         0      2000        1  \n",
       "3          1000      1000      1000      5000        0  \n",
       "4          1200      1100      1069      1000        0  \n",
       "5         10000      9000       689       679        0  \n",
       "...         ...       ...       ...       ...      ...  \n",
       "29996      5003      3047      5000      1000        0  \n",
       "29997      8998       129         0         0        0  \n",
       "29998     22000      4200      2000      3100        1  \n",
       "29999      1178      1926     52964      1804        1  \n",
       "30000      1430      1000      1000      1000        1  \n",
       "\n",
       "[30000 rows x 24 columns]"
      ]
     },
     "execution_count": 4,
     "metadata": {},
     "output_type": "execute_result"
    }
   ],
   "source": [
    "data"
   ]
  },
  {
   "cell_type": "code",
   "execution_count": 5,
   "metadata": {},
   "outputs": [
    {
     "name": "stdout",
     "output_type": "stream",
     "text": [
      "<class 'pandas.core.frame.DataFrame'>\n",
      "Int64Index: 30000 entries, 1 to 30000\n",
      "Data columns (total 24 columns):\n",
      "LIMIT_BAL    30000 non-null int64\n",
      "SEX          30000 non-null int64\n",
      "EDUCATION    30000 non-null int64\n",
      "MARRIAGE     30000 non-null int64\n",
      "AGE          30000 non-null int64\n",
      "PAY_0        30000 non-null int64\n",
      "PAY_2        30000 non-null int64\n",
      "PAY_3        30000 non-null int64\n",
      "PAY_4        30000 non-null int64\n",
      "PAY_5        30000 non-null int64\n",
      "PAY_6        30000 non-null int64\n",
      "BILL_AMT1    30000 non-null int64\n",
      "BILL_AMT2    30000 non-null int64\n",
      "BILL_AMT3    30000 non-null int64\n",
      "BILL_AMT4    30000 non-null int64\n",
      "BILL_AMT5    30000 non-null int64\n",
      "BILL_AMT6    30000 non-null int64\n",
      "PAY_AMT1     30000 non-null int64\n",
      "PAY_AMT2     30000 non-null int64\n",
      "PAY_AMT3     30000 non-null int64\n",
      "PAY_AMT4     30000 non-null int64\n",
      "PAY_AMT5     30000 non-null int64\n",
      "PAY_AMT6     30000 non-null int64\n",
      "default      30000 non-null int64\n",
      "dtypes: int64(24)\n",
      "memory usage: 5.7 MB\n"
     ]
    }
   ],
   "source": [
    "# Сводная информация о датасете\n",
    "data.info()"
   ]
  },
  {
   "cell_type": "code",
   "execution_count": 6,
   "metadata": {},
   "outputs": [],
   "source": [
    "# Категориальные признаки\n",
    "categorical_features = ['EDUCATION', 'MARRIAGE', 'PAY_0', 'PAY_2', 'PAY_3', 'PAY_4', 'PAY_5', 'PAY_6']\n",
    "\n",
    "# Бинарные признаки\n",
    "binary_features = ['SEX', 'default']\n",
    "\n",
    "# Вещественные признаки\n",
    "real_features = ['LIMIT_BAL', 'AGE', 'BILL_AMT1', 'BILL_AMT2', 'BILL_AMT3', 'BILL_AMT4', 'BILL_AMT5', \n",
    "                 'BILL_AMT6', 'PAY_AMT1', 'PAY_AMT2', 'PAY_AMT3', 'PAY_AMT4', 'PAY_AMT5', 'PAY_AMT6']"
   ]
  },
  {
   "cell_type": "code",
   "execution_count": 7,
   "metadata": {},
   "outputs": [
    {
     "name": "stdout",
     "output_type": "stream",
     "text": [
      "SEX\n",
      "___________________________________________\n",
      "category\tcount\t\tpercentage\n",
      "2\t\t18112\t\t60.373%\n",
      "1\t\t11888\t\t39.627%\n",
      "\n",
      "default\n",
      "___________________________________________\n",
      "category\tcount\t\tpercentage\n",
      "0\t\t23364\t\t77.880%\n",
      "1\t\t6636\t\t22.120%\n",
      "\n"
     ]
    }
   ],
   "source": [
    "# Сбалансированность бинарных признаков\n",
    "for feature in binary_features:\n",
    "    print(feature)\n",
    "    print('___________________________________________')\n",
    "    print(f'category\\tcount\\t\\tpercentage')\n",
    "    for index, value in zip(data[feature].value_counts().index, data[feature].value_counts().values):\n",
    "        print(f'{index}\\t\\t{value}\\t\\t{(value/np.sum(data[feature].value_counts().values)*100):.3f}%')\n",
    "    print()"
   ]
  },
  {
   "cell_type": "markdown",
   "metadata": {},
   "source": [
    "Бинарные признаки сбалансированы"
   ]
  },
  {
   "cell_type": "code",
   "execution_count": 8,
   "metadata": {
    "scrolled": false
   },
   "outputs": [
    {
     "name": "stdout",
     "output_type": "stream",
     "text": [
      "EDUCATION\n",
      "___________________________________________\n",
      "category\tcount\t\tpercentage\n",
      "2\t\t14030\t\t46.767%\n",
      "1\t\t10585\t\t35.283%\n",
      "3\t\t4917\t\t16.390%\n",
      "5\t\t280\t\t0.933%\n",
      "4\t\t123\t\t0.410%\n",
      "6\t\t51\t\t0.170%\n",
      "0\t\t14\t\t0.047%\n",
      "\n",
      "MARRIAGE\n",
      "___________________________________________\n",
      "category\tcount\t\tpercentage\n",
      "2\t\t15964\t\t53.213%\n",
      "1\t\t13659\t\t45.530%\n",
      "3\t\t323\t\t1.077%\n",
      "0\t\t54\t\t0.180%\n",
      "\n",
      "PAY_0\n",
      "___________________________________________\n",
      "category\tcount\t\tpercentage\n",
      "0\t\t23182\t\t77.273%\n",
      "1\t\t3688\t\t12.293%\n",
      "2\t\t2667\t\t8.890%\n",
      "3\t\t322\t\t1.073%\n",
      "4\t\t76\t\t0.253%\n",
      "5\t\t26\t\t0.087%\n",
      "8\t\t19\t\t0.063%\n",
      "6\t\t11\t\t0.037%\n",
      "7\t\t9\t\t0.030%\n",
      "\n",
      "PAY_2\n",
      "___________________________________________\n",
      "category\tcount\t\tpercentage\n",
      "0\t\t25562\t\t85.207%\n",
      "2\t\t3927\t\t13.090%\n",
      "3\t\t326\t\t1.087%\n",
      "4\t\t99\t\t0.330%\n",
      "1\t\t28\t\t0.093%\n",
      "5\t\t25\t\t0.083%\n",
      "7\t\t20\t\t0.067%\n",
      "6\t\t12\t\t0.040%\n",
      "8\t\t1\t\t0.003%\n",
      "\n",
      "PAY_3\n",
      "___________________________________________\n",
      "category\tcount\t\tpercentage\n",
      "0\t\t25787\t\t85.957%\n",
      "2\t\t3819\t\t12.730%\n",
      "3\t\t240\t\t0.800%\n",
      "4\t\t76\t\t0.253%\n",
      "7\t\t27\t\t0.090%\n",
      "6\t\t23\t\t0.077%\n",
      "5\t\t21\t\t0.070%\n",
      "1\t\t4\t\t0.013%\n",
      "8\t\t3\t\t0.010%\n",
      "\n",
      "PAY_4\n",
      "___________________________________________\n",
      "category\tcount\t\tpercentage\n",
      "0\t\t26490\t\t88.300%\n",
      "2\t\t3159\t\t10.530%\n",
      "3\t\t180\t\t0.600%\n",
      "4\t\t69\t\t0.230%\n",
      "7\t\t58\t\t0.193%\n",
      "5\t\t35\t\t0.117%\n",
      "6\t\t5\t\t0.017%\n",
      "8\t\t2\t\t0.007%\n",
      "1\t\t2\t\t0.007%\n",
      "\n",
      "PAY_5\n",
      "___________________________________________\n",
      "category\tcount\t\tpercentage\n",
      "0\t\t27032\t\t90.107%\n",
      "2\t\t2626\t\t8.753%\n",
      "3\t\t178\t\t0.593%\n",
      "4\t\t84\t\t0.280%\n",
      "7\t\t58\t\t0.193%\n",
      "5\t\t17\t\t0.057%\n",
      "6\t\t4\t\t0.013%\n",
      "8\t\t1\t\t0.003%\n",
      "\n",
      "PAY_6\n",
      "___________________________________________\n",
      "category\tcount\t\tpercentage\n",
      "0\t\t26921\t\t89.737%\n",
      "2\t\t2766\t\t9.220%\n",
      "3\t\t184\t\t0.613%\n",
      "4\t\t49\t\t0.163%\n",
      "7\t\t46\t\t0.153%\n",
      "6\t\t19\t\t0.063%\n",
      "5\t\t13\t\t0.043%\n",
      "8\t\t2\t\t0.007%\n",
      "\n"
     ]
    }
   ],
   "source": [
    "# Сбалансированность категориальных признаков\n",
    "for feature in categorical_features:\n",
    "    print(feature)\n",
    "    print('___________________________________________')\n",
    "    print(f'category\\tcount\\t\\tpercentage')\n",
    "    for index, value in zip(data[feature].value_counts().index, data[feature].value_counts().values):\n",
    "        print(f'{index}\\t\\t{value}\\t\\t{(value/np.sum(data[feature].value_counts().values)*100):.3f}%')\n",
    "    print()"
   ]
  },
  {
   "cell_type": "markdown",
   "metadata": {},
   "source": [
    "В категориальных признаках наблюдается сильная разнородность: на 1-3 наиболее распространенных признака приходится более 98% выборки, на 4-6 наименее распространенных признака приходится менее 2% выборки."
   ]
  },
  {
   "cell_type": "markdown",
   "metadata": {},
   "source": [
    "### Задача 1"
   ]
  },
  {
   "cell_type": "markdown",
   "metadata": {},
   "source": [
    "В двух группах, тех людей, кто вернул кредит (default = 0) и тех, кто его не вернул (default = 1) проверить гипотезы: \n",
    "\n",
    "    a) о равенстве медианных значений кредитного лимита (`LIMIT_BAL`) с помощью подходящей интервальной оценки \n",
    "    b) о равенстве распределений с помощью одного из подходящих непараметрических критериев проверки равенства средних"
   ]
  },
  {
   "cell_type": "markdown",
   "metadata": {},
   "source": [
    "#### 1.1 Точечная оценка"
   ]
  },
  {
   "cell_type": "code",
   "execution_count": 14,
   "metadata": {},
   "outputs": [
    {
     "data": {
      "image/png": "[encoded data removed]",
      "text/plain": [
       "<Figure size 1440x432 with 1 Axes>"
      ]
     },
     "metadata": {
      "needs_background": "light"
     },
     "output_type": "display_data"
    }
   ],
   "source": [
    "fig, nx = pyplot.subplots(figsize=(20,6))\n",
    "\n",
    "sns.boxplot(y='default', x='LIMIT_BAL', data=data, orient='h')\n",
    "\n",
    "pyplot.title(f'Распределение размеров кредитных лимитов при выплаченном и невыплаченном кредитах')\n",
    "pyplot.ylabel('Возврат кредита')\n",
    "pyplot.xlabel('Размер кредитного лимита')\n",
    "pyplot.yticks(list(default.keys()), list(default.values()))\n",
    "pyplot.ylim(1.5, -0.5)\n",
    "    \n",
    "pyplot.show()"
   ]
  },
  {
   "cell_type": "markdown",
   "metadata": {},
   "source": [
    "По boxplot видно: \n",
    "* области интерквантильных размахов [25%-й квантиль, 75%-й квантиль] пересекаются и лежат в одном диапазоне;\n",
    "* медиана рамзмера кредитного лимита при выплаченных кредитах больше таковой при невыплаченных;\n",
    "* размер крединтных лимитов в обоих случаях выплаты имеет тяжелые хвосты, выходящие за  1.5-ый интерквартильный размах в большую сторону "
   ]
  },
  {
   "cell_type": "code",
   "execution_count": 31,
   "metadata": {},
   "outputs": [
    {
     "data": {
      "image/png": "[encoded data removed]",
      "text/plain": [
       "<Figure size 1440x432 with 2 Axes>"
      ]
     },
     "metadata": {
      "needs_background": "light"
     },
     "output_type": "display_data"
    }
   ],
   "source": [
    "fig, nx = pyplot.subplots(1, 2, figsize=(20,6))\n",
    "\n",
    "pyplot.subplot(1,2,1)\n",
    "pyplot.hist(data[data['default'] == 0]['LIMIT_BAL'], bins=50, color = 'g')\n",
    "pyplot.axvline(np.median(data[data['default'] == 0]['LIMIT_BAL']), color='y', linestyle='dashed', linewidth=3)\n",
    "pyplot.title(f'Распределение размеров кредитных лимитов \\nпри ВЫПЛАЧЕННОМ кредите')\n",
    "pyplot.ylabel('Число случаев выплаченных кредитов')\n",
    "pyplot.xlabel('Размер кредитного лимита')\n",
    "\n",
    "pyplot.subplot(1,2,2)\n",
    "pyplot.hist(data[data['default'] == 1]['LIMIT_BAL'], bins=50, color = 'r')\n",
    "pyplot.axvline(np.median(data[data['default'] == 1]['LIMIT_BAL']), color='y', linestyle='dashed', linewidth=3)\n",
    "pyplot.title(f'Распределение размеров кредитных лимитов \\nпри НЕВЫПЛАЧЕННОМ кредите')\n",
    "pyplot.ylabel('Число случаев невыплаченных кредитов')\n",
    "pyplot.xlabel('Размер кредитного лимита')\n",
    "\n",
    "pyplot.show()"
   ]
  },
  {
   "cell_type": "markdown",
   "metadata": {},
   "source": [
    "По гистограммам размеров кредитных лимитов при обоих вариантах выплыт видно:\n",
    "* наиболее часто невыплачиваемый размер кредита составляет менее 100 тыс.\n",
    "* величина невозвратных кредитов не превосходит 750 тыс.\n",
    "* число невыплаченных кридитов нелинейной падает с ростом размера крединтого лимита"
   ]
  },
  {
   "cell_type": "markdown",
   "metadata": {},
   "source": [
    "#### 1.2 Проверка гипотезы о равенстве медианных значений кредитного лимита в группах людей, кто вернул кредит и тех, кто его не вернул"
   ]
  },
  {
   "cell_type": "markdown",
   "metadata": {},
   "source": [
    "$H_0$: $med_{default=0}=med_{default=1}$\n",
    "\n",
    "$H_1$: $med_{default=0}\\neq med_{default=1}$"
   ]
  },
  {
   "cell_type": "markdown",
   "metadata": {},
   "source": [
    "**Применим интервальную оценку медианы для каждой из двух выборок**"
   ]
  },
  {
   "cell_type": "code",
   "execution_count": 21,
   "metadata": {
    "code_folding": [
     2,
     15
    ]
   },
   "outputs": [],
   "source": [
    "# Bootstrap\n",
    "\n",
    "def get_bootstrap_samples(data, n_samples):\n",
    "    \n",
    "    \"\"\"Возвращает заданное количество подвыборок n_samples сгенерированных на основе генеральной выборки data\"\"\"\n",
    "    \n",
    "    # Генерируется n_samples наборов индексов из доступного (исходного) диапазона. \n",
    "    indices = np.random.randint(0, len(data), (n_samples, len(data)))\n",
    "    \n",
    "    # Набор индексов применяется к исходным данным для получения непосредственных подвыборок.\n",
    "    samples = data[indices]\n",
    "    \n",
    "    return samples\n",
    "\n",
    "\n",
    "def stat_intervals(stat, alpha):\n",
    "    \"\"\"Возвращает границы доверительного интервала по значению статистики stat и уровня значимости alpha\"\"\"\n",
    "    boundaries = np.percentile(stat, [100 * alpha / 2, 100 * (1 - alpha / 2)])\n",
    "    return boundaries"
   ]
  },
  {
   "cell_type": "code",
   "execution_count": 78,
   "metadata": {
    "code_folding": []
   },
   "outputs": [
    {
     "name": "stdout",
     "output_type": "stream",
     "text": [
      "95% confidence interval for data_0: [150000. 150000.]\n",
      "95% confidence interval for data_1: [80000. 90000.]\n"
     ]
    }
   ],
   "source": [
    "# В качестве статистики используется медиана (np.median)\n",
    "np.random.seed(0)\n",
    "\n",
    "data_0 = data[data['default'] == 0]['LIMIT_BAL'].values\n",
    "data_1 = data[data['default'] == 1]['LIMIT_BAL'].values\n",
    "\n",
    "# Получение списков статистик (медиан)\n",
    "# Количество подвыборок задается одинаковым не смотря на разницу в объемах данных для различных групп\n",
    "data_0_median_scores = list(map(np.median, get_bootstrap_samples(data_0, 10000)))\n",
    "data_1_median_scores = list(map(np.median, get_bootstrap_samples(data_1, 10000)))\n",
    "\n",
    "# По набору статистик строится 95%-ый доверительный интервал статистики\n",
    "print(\"95% confidence interval for data_0:\",  stat_intervals(data_0_median_scores, 0.05))\n",
    "print(\"95% confidence interval for data_1:\",  stat_intervals(data_1_median_scores, 0.05))"
   ]
  },
  {
   "cell_type": "markdown",
   "metadata": {},
   "source": [
    "По полученным оценкам видно, что медианная величина кредитного лимита в группах людей, выплативших кредит, выше, чем таковая для людей, не выплативших кредит."
   ]
  },
  {
   "cell_type": "markdown",
   "metadata": {},
   "source": [
    "**Для получения более точных данных применим интервальную оценку разности медиан двух выборок**"
   ]
  },
  {
   "cell_type": "markdown",
   "metadata": {},
   "source": [
    "Алгоритм:\n",
    "\n",
    "1. Генерируется по $n$ подвыборок из исходной генеральной выборки для каждой группы при помощи бустрепа.\n",
    "\n",
    "2. Для каждой подвыборки для каждой группы вычисляется статистика.\n",
    "\n",
    "3. Вычисляется попарная разность статистик (медиан) для списков медиан каждой группы.\n",
    "\n",
    "4. По набору разностей статистик строится 95%-ый доверительный интервал статистики."
   ]
  },
  {
   "cell_type": "code",
   "execution_count": 23,
   "metadata": {},
   "outputs": [],
   "source": [
    "delta_median_scores = list(map(lambda x: x[0] - x[1], zip(data_0_median_scores, data_1_median_scores)))"
   ]
  },
  {
   "cell_type": "code",
   "execution_count": 24,
   "metadata": {
    "scrolled": true
   },
   "outputs": [
    {
     "name": "stdout",
     "output_type": "stream",
     "text": [
      "95% confidence interval for the difference between medians [60000. 70000.]\n"
     ]
    }
   ],
   "source": [
    "print(\"95% confidence interval for the difference between medians\",  stat_intervals(delta_median_scores, 0.05))"
   ]
  },
  {
   "cell_type": "markdown",
   "metadata": {},
   "source": [
    "**Таким образом видно, что разница между медианными значениями величины кредитного лимита в группах людей, выплативших кредит, и людей, не выплативших кредит, находится в диапазоне [60000. 70000.]. Медиана рамзмера кредитного лимита при выплаченных кредитах больше таковой при невыплаченных.**"
   ]
  },
  {
   "cell_type": "markdown",
   "metadata": {},
   "source": [
    "Вероятнее всего, данная разница является значимой с практической точки зрения."
   ]
  },
  {
   "cell_type": "markdown",
   "metadata": {},
   "source": [
    "#### 1.3 Проверка гипотезы о равенстве распределений значений кредитного лимита в группах людей, кто вернул кредит и тех, кто его не вернул"
   ]
  },
  {
   "cell_type": "markdown",
   "metadata": {},
   "source": [
    "**Перестановочный критерий**"
   ]
  },
  {
   "cell_type": "markdown",
   "metadata": {},
   "source": [
    "Нулевая гипотеза: функции распределения для первой и второй выборки одинаковы.\n",
    "\n",
    "Альтернативная гипотеза: функция распределения одной выборки получается сдвигом на некоторую дельту из функции распределения на другой выборке."
   ]
  },
  {
   "cell_type": "markdown",
   "metadata": {},
   "source": [
    "$H_0\\colon F_{LIMIT-BAL_{default=0}}(x) = F_{LIMIT-BAL_{default=1}}(x)$\n",
    "\n",
    "$H_1\\colon F_{LIMIT-BAL_{default=0}}(x) = F_{LIMIT-BAL_{default=1}}(x + \\Delta), \\Delta\\neq 0$"
   ]
  },
  {
   "cell_type": "code",
   "execution_count": 25,
   "metadata": {
    "code_folding": [
     2,
     7,
     17,
     34
    ]
   },
   "outputs": [],
   "source": [
    "import itertools\n",
    "\n",
    "def permutation_t_stat_ind(sample1, sample2):\n",
    "    \"\"\"Возвращает t-статистику\"\"\"\n",
    "    return np.mean(sample1) - np.mean(sample2)\n",
    "\n",
    "\n",
    "def get_random_combinations(n1, n2, max_combinations):\n",
    "    \"\"\"Возвращает заданное количество случаных комбинаций возможных перестановок\"\"\"\n",
    "    index = np.arange(n1 + n2)\n",
    "    indices = set([tuple(index)])\n",
    "    for i in range(max_combinations - 1):\n",
    "        np.random.shuffle(index)\n",
    "        indices.add(tuple(index))\n",
    "    return [(index[:n1], index[n1:]) for index in indices]\n",
    "\n",
    "\n",
    "def permutation_zero_dist_ind(sample1, sample2, max_combinations = None):\n",
    "    \"\"\"Возвращает нулевое распределение\"\"\"\n",
    "    joined_sample = np.hstack((sample1, sample2))\n",
    "    n1 = len(sample1)\n",
    "    n = len(joined_sample)\n",
    "    \n",
    "    if max_combinations:\n",
    "        indices = get_random_combinations(n1, len(sample2), max_combinations)\n",
    "    else:\n",
    "        indices = [(list(index), filter(lambda i: i not in index, range(n))) \\\n",
    "                    for index in itertools.combinations(range(n), n1)]\n",
    "    \n",
    "    distr = [joined_sample[list(i[0])].mean() - joined_sample[list(i[1])].mean() \\\n",
    "             for i in indices]\n",
    "    return distr\n",
    "\n",
    "\n",
    "def permutation_test(sample, mean, max_permutations = None, alternative = 'two-sided'):\n",
    "    \"\"\"Возвращает значение p-value\"\"\"\n",
    "    if alternative not in ('two-sided', 'less', 'greater'):\n",
    "        raise ValueError(\"alternative not recognized\\n\"\n",
    "                         \"should be 'two-sided', 'less' or 'greater'\")\n",
    "    \n",
    "    t_stat = permutation_t_stat_ind(sample, mean)\n",
    "    \n",
    "    zero_distr = permutation_zero_dist_ind(sample, mean, max_permutations)\n",
    "    \n",
    "    if alternative == 'two-sided':\n",
    "        return sum([1 if abs(x) >= abs(t_stat) else 0 for x in zero_distr]) / len(zero_distr)\n",
    "    \n",
    "    if alternative == 'less':\n",
    "        return sum([1 if x <= t_stat else 0 for x in zero_distr]) / len(zero_distr)\n",
    "\n",
    "    if alternative == 'greater':\n",
    "        return sum([1 if x >= t_stat else 0 for x in zero_distr]) / len(zero_distr)"
   ]
  },
  {
   "cell_type": "code",
   "execution_count": 84,
   "metadata": {},
   "outputs": [
    {
     "name": "stdout",
     "output_type": "stream",
     "text": [
      "p-value: 0.000100\n"
     ]
    }
   ],
   "source": [
    "# p-value при ограничении на количество перестановок в 10000\n",
    "print(\"p-value: %f\" % permutation_test(data_0, data_1, max_permutations = 10000))"
   ]
  },
  {
   "cell_type": "markdown",
   "metadata": {},
   "source": [
    "Значение p-value меньше 0.05, что позволяет отвергнуть нулевую гипотезу на уровне значимости 0.05. **Распределение значений кредитного лимита в группах людей, кто вернул кредит и тех, кто его не вернул отличаются.**"
   ]
  },
  {
   "cell_type": "markdown",
   "metadata": {},
   "source": [
    "**Ранговый критерий Манна-Уитни**"
   ]
  },
  {
   "cell_type": "markdown",
   "metadata": {},
   "source": [
    "Нулевая гипотеза: вероятность того, что значение из первой выборки будет больше, чем значение из второй выборки, равна вероятности того, что значение из второй выборки будет больше, чем значение из первой выборки.\n",
    "\n",
    "Альтернативная гипотеза: не равна.\n",
    "\n",
    "\n",
    "$H_0\\colon F_{X_1}(x) = F_{X_2}(x)$\n",
    "\n",
    "$H_1\\colon F_{X_1}(x) = F_{X_2}(x + \\Delta), \\Delta\\neq 0$"
   ]
  },
  {
   "cell_type": "code",
   "execution_count": 77,
   "metadata": {},
   "outputs": [],
   "source": [
    "from scipy import stats"
   ]
  },
  {
   "cell_type": "code",
   "execution_count": 85,
   "metadata": {},
   "outputs": [
    {
     "data": {
      "text/plain": [
       "MannwhitneyuResult(statistic=59257217.5, pvalue=6.127742909111652e-190)"
      ]
     },
     "execution_count": 85,
     "metadata": {},
     "output_type": "execute_result"
    }
   ],
   "source": [
    "stats.mannwhitneyu(data_0, data_1)"
   ]
  },
  {
   "cell_type": "markdown",
   "metadata": {},
   "source": [
    "p-value меньше 0.05, что позволяет отвергнуть нулевую гипотезу. **Распределение значений кредитного лимита в группах людей, кто вернул кредит и тех, кто его не вернул отличаются.**"
   ]
  },
  {
   "cell_type": "markdown",
   "metadata": {},
   "source": [
    "### Задача 2"
   ]
  },
  {
   "cell_type": "markdown",
   "metadata": {},
   "source": [
    "Проверить гипотезу о том, что гендерный состав группы людей (`SEX`) вернувших и не вернувших кредит отличается."
   ]
  },
  {
   "cell_type": "markdown",
   "metadata": {},
   "source": [
    "#### 2.1 Точечная оценка"
   ]
  },
  {
   "cell_type": "code",
   "execution_count": 28,
   "metadata": {
    "scrolled": false
   },
   "outputs": [
    {
     "data": {
      "image/png": "[encoded data removed]",
      "text/plain": [
       "<Figure size 1440x432 with 2 Axes>"
      ]
     },
     "metadata": {
      "needs_background": "light"
     },
     "output_type": "display_data"
    }
   ],
   "source": [
    "import matplotlib.cm as cm\n",
    "\n",
    "colors = [np.array(cm.rainbow(i)).reshape(1,4) for i in np.linspace(0, 1, len(SEX))]\n",
    "\n",
    "fig, nx = pyplot.subplots(1, 2, figsize=(20,6))\n",
    "\n",
    "for feature, name in zip(default.keys(), default.values()):\n",
    "    pyplot.subplot(1,2,feature+1)\n",
    "    for index, label, color in zip(SEX.keys(), SEX.values(), colors):\n",
    "        pyplot.hist(data[(data['default'] == feature) & (data['SEX'] == index)]['SEX'],\n",
    "                    bins=3, color = color, label=label) \n",
    "    pyplot.title(f'Распределение числа кредитов со статусом\\n {name.upper()} по гендерному признаку')\n",
    "    pyplot.ylabel(f'Число случаев кредитов \\nсо статусом {name.upper()}')\n",
    "    pyplot.xlabel('Гендерный признак')\n",
    "    pyplot.xticks(list(SEX.keys()), list(SEX.values()))\n",
    "    pyplot.legend()\n",
    "    \n",
    "pyplot.show()"
   ]
  },
  {
   "cell_type": "markdown",
   "metadata": {},
   "source": [
    "По графикам видно:\n",
    "* соотношение мужчин в группах людей выплативших и невыплативших кредит, меньше;\n",
    "* в группе выплативших кредит людей соотношение мужчин меньше, чем в группе невыплативших;\n",
    "* женщины чаще берут кредиты."
   ]
  },
  {
   "cell_type": "code",
   "execution_count": 20,
   "metadata": {},
   "outputs": [
    {
     "data": {
      "text/html": [
       "<div>\n",
       "<style scoped>\n",
       "    .dataframe tbody tr th:only-of-type {\n",
       "        vertical-align: middle;\n",
       "    }\n",
       "\n",
       "    .dataframe tbody tr th {\n",
       "        vertical-align: top;\n",
       "    }\n",
       "\n",
       "    .dataframe thead th {\n",
       "        text-align: right;\n",
       "    }\n",
       "</style>\n",
       "<table border=\"1\" class=\"dataframe\">\n",
       "  <thead>\n",
       "    <tr style=\"text-align: right;\">\n",
       "      <th></th>\n",
       "      <th>мужчины</th>\n",
       "      <th>женщины</th>\n",
       "    </tr>\n",
       "  </thead>\n",
       "  <tbody>\n",
       "    <tr>\n",
       "      <td>кредит возвращен</td>\n",
       "      <td>0.385850</td>\n",
       "      <td>0.614150</td>\n",
       "    </tr>\n",
       "    <tr>\n",
       "      <td>кредит не возвращен</td>\n",
       "      <td>0.432942</td>\n",
       "      <td>0.567058</td>\n",
       "    </tr>\n",
       "    <tr>\n",
       "      <td>СУММАРНО</td>\n",
       "      <td>0.396267</td>\n",
       "      <td>0.603733</td>\n",
       "    </tr>\n",
       "  </tbody>\n",
       "</table>\n",
       "</div>"
      ],
      "text/plain": [
       "                      мужчины   женщины\n",
       "кредит возвращен     0.385850  0.614150\n",
       "кредит не возвращен  0.432942  0.567058\n",
       "СУММАРНО             0.396267  0.603733"
      ]
     },
     "execution_count": 20,
     "metadata": {},
     "output_type": "execute_result"
    }
   ],
   "source": [
    "table = pd.crosstab(index=data['default'], \n",
    "                    columns=data['SEX'], \n",
    "                    margins=True, \n",
    "                    margins_name='СУММАРНО', \n",
    "                    normalize='index')\n",
    "\n",
    "table.index = np.append(list(default.values()), 'СУММАРНО')\n",
    "table.columns = list(SEX.values())\n",
    "\n",
    "table"
   ]
  },
  {
   "cell_type": "markdown",
   "metadata": {},
   "source": [
    "Из таблицы видно, что женщины в 1.5 раза чаще берут кредиты."
   ]
  },
  {
   "cell_type": "code",
   "execution_count": 302,
   "metadata": {},
   "outputs": [
    {
     "data": {
      "image/png": "[encoded data removed]",
      "text/plain": [
       "<Figure size 1440x432 with 2 Axes>"
      ]
     },
     "metadata": {
      "needs_background": "light"
     },
     "output_type": "display_data"
    }
   ],
   "source": [
    "fig, nx = pyplot.subplots(1, 2, figsize=(20,6))\n",
    "\n",
    "for index, label in zip(SEX.keys(), SEX.values()):\n",
    "    pyplot.subplot(1,2,index)\n",
    "    pyplot.hist(data[(data['default'] == 0) & (data['SEX'] == index)]['default'],\n",
    "                bins=3, color = 'g', label='Выплаченный кредит')\n",
    "    pyplot.hist(data[(data['default'] == 1) & (data['SEX'] == index)]['default'],\n",
    "                bins=3, color = 'r', label='Невыплаченный кредит')\n",
    "    pyplot.title(f'Распределение кредитных историй среди людей \\nс гендерным признаком {label.upper()}')\n",
    "    pyplot.ylabel('Число кредитов')\n",
    "    pyplot.xlabel('Возврат кредита')\n",
    "    pyplot.xticks(list(default.keys()), list(default.values()))\n",
    "    pyplot.legend()\n",
    "\n",
    "pyplot.show()"
   ]
  },
  {
   "cell_type": "markdown",
   "metadata": {},
   "source": [
    "По графикам видно:\n",
    "* соотношение мужчин, не возвративших кредит, больше, чем соотношение не возвративших кредит женщин;\n",
    "* женщины чаще берут кредиты."
   ]
  },
  {
   "cell_type": "code",
   "execution_count": 21,
   "metadata": {},
   "outputs": [
    {
     "data": {
      "text/html": [
       "<div>\n",
       "<style scoped>\n",
       "    .dataframe tbody tr th:only-of-type {\n",
       "        vertical-align: middle;\n",
       "    }\n",
       "\n",
       "    .dataframe tbody tr th {\n",
       "        vertical-align: top;\n",
       "    }\n",
       "\n",
       "    .dataframe thead th {\n",
       "        text-align: right;\n",
       "    }\n",
       "</style>\n",
       "<table border=\"1\" class=\"dataframe\">\n",
       "  <thead>\n",
       "    <tr style=\"text-align: right;\">\n",
       "      <th></th>\n",
       "      <th>мужчины</th>\n",
       "      <th>женщины</th>\n",
       "      <th>СУММАРНО</th>\n",
       "    </tr>\n",
       "  </thead>\n",
       "  <tbody>\n",
       "    <tr>\n",
       "      <td>кредит возвращен</td>\n",
       "      <td>0.758328</td>\n",
       "      <td>0.792237</td>\n",
       "      <td>0.7788</td>\n",
       "    </tr>\n",
       "    <tr>\n",
       "      <td>кредит не возвращен</td>\n",
       "      <td>0.241672</td>\n",
       "      <td>0.207763</td>\n",
       "      <td>0.2212</td>\n",
       "    </tr>\n",
       "  </tbody>\n",
       "</table>\n",
       "</div>"
      ],
      "text/plain": [
       "                      мужчины   женщины  СУММАРНО\n",
       "кредит возвращен     0.758328  0.792237    0.7788\n",
       "кредит не возвращен  0.241672  0.207763    0.2212"
      ]
     },
     "execution_count": 21,
     "metadata": {},
     "output_type": "execute_result"
    }
   ],
   "source": [
    "table = pd.crosstab(index=data['default'], \n",
    "                    columns=data['SEX'], \n",
    "                    margins=True, \n",
    "                    margins_name='СУММАРНО', \n",
    "                    normalize='columns')\n",
    "\n",
    "table.index = list(default.values())\n",
    "table.columns = np.append(list(SEX.values()), 'СУММАРНО')\n",
    "\n",
    "table"
   ]
  },
  {
   "cell_type": "markdown",
   "metadata": {},
   "source": [
    "Из таблицы видно, что доля мужчины, которые не вернули кредит составляет 0.242. Доля женщин не вернувших кредит составляет 0.208. Исходя из данных соотношений предполагается гипотеза, что мужчины чаще не возвращают кредиты. Однако в данной оценке не учтено общее количество человек среди представителей обоих полов, из чего следует невозможность сделать вывод о влиянии гендерного признака на вероятность возврата кредита. Необходима интервальная оценка."
   ]
  },
  {
   "cell_type": "markdown",
   "metadata": {},
   "source": [
    "#### 2.2 Интервальная оценка"
   ]
  },
  {
   "cell_type": "markdown",
   "metadata": {},
   "source": [
    "$H_0\\colon$ среднее значение вероятности возврата кредита для обоих полов равно.\n",
    "\n",
    "$H_1\\colon$ не равно."
   ]
  },
  {
   "cell_type": "markdown",
   "metadata": {},
   "source": [
    "Воспользуемся Z-критерием для разности долей независимых выборок"
   ]
  },
  {
   "cell_type": "markdown",
   "metadata": {},
   "source": [
    "**Таблица сопряженности**\n",
    "\n",
    "|      |$X_1$|$X_2$|\n",
    "|------|-----|-----|\n",
    "|  1   |  a  |  b  |\n",
    "|  0   |  c  |  d  |\n",
    "|$\\sum$|$n_1$|$n_2$|\n",
    "\n",
    "\n",
    "$$ \\hat{p}_1 = \\frac{a}{n_1}$$\n",
    "\n",
    "$$ \\hat{p}_2 = \\frac{b}{n_2}$$\n",
    "\n",
    "где $a$, $b$ - число успехов в 1-ой и 2-ой выборках, размеров $n_1$ и $n_2$ соответственно.\n",
    "\n",
    "\n",
    "$\\text{Доверительный интервал для }p_1 - p_2\\colon \\;\\; \\hat{p}_1 - \\hat{p}_2 \\pm z_{1-\\frac{\\alpha}{2}}\\sqrt{\\frac{\\hat{p}_1(1 - \\hat{p}_1)}{n_1} + \\frac{\\hat{p}_2(1 - \\hat{p}_2)}{n_2}}$\n",
    "\n",
    "\n",
    "$Z-статистика: Z({X_1, X_2}) =  \\frac{\\hat{p}_1 - \\hat{p}_2}{\\sqrt{P(1 - P)(\\frac{1}{n_1} + \\frac{1}{n_2})}}$\n",
    "$$P = \\frac{\\hat{p}_1{n_1} + \\hat{p}_2{n_2}}{{n_1} + {n_2}} $$"
   ]
  },
  {
   "cell_type": "code",
   "execution_count": 94,
   "metadata": {
    "code_folding": [
     0,
     17,
     30
    ]
   },
   "outputs": [],
   "source": [
    "def proportions_diff_confint_ind(crosstab, alpha = 0.05):  \n",
    "    \"\"\"Возвращает границы доверительного интервала\"\"\"\n",
    "    z = scipy.stats.norm.ppf(1 - alpha / 2)\n",
    "    \n",
    "    n1 = np.array(crosstab)[0,0] + np.array(crosstab)[1,0]\n",
    "    n2 = np.array(crosstab)[0,1] + np.array(crosstab)[1,1]\n",
    "    \n",
    "    p1 = np.array(crosstab)[0,0] / n1\n",
    "    p2 = np.array(crosstab)[0,1] / n2\n",
    "    \n",
    "    \n",
    "    left_boundary = (p1 - p2) - z * np.sqrt(p1 * (1 - p1)/ n1 + p2 * (1 - p2)/ n2)\n",
    "    right_boundary = (p1 - p2) + z * np.sqrt(p1 * (1 - p1)/ n1 + p2 * (1 - p2)/ n2)\n",
    "    \n",
    "    return (left_boundary, right_boundary)\n",
    "\n",
    "\n",
    "def proportions_diff_z_stat_ind(crosstab):\n",
    "    \"\"\"Возвращает Z-статистику\"\"\"\n",
    "    n1 = np.array(crosstab)[0,0] + np.array(crosstab)[1,0]\n",
    "    n2 = np.array(crosstab)[0,1] + np.array(crosstab)[1,1]\n",
    "    \n",
    "    p1 = np.array(crosstab)[0,0] / n1\n",
    "    p2 = np.array(crosstab)[0,1] / n2\n",
    "    \n",
    "    P = float(p1*n1 + p2*n2) / (n1 + n2)\n",
    "    \n",
    "    return (p1 - p2) / np.sqrt(P * (1 - P) * (1 / n1 + 1 / n2))\n",
    "\n",
    "\n",
    "def proportions_diff_z_test(z_stat, alternative = 'two-sided'):\n",
    "    \"\"\"Возвращает значение p-value\"\"\"\n",
    "    if alternative not in ('two-sided', 'less', 'greater'):\n",
    "        raise ValueError(\"alternative not recognized\\n\"\n",
    "                         \"should be 'two-sided', 'less' or 'greater'\")\n",
    "    \n",
    "    if alternative == 'two-sided':\n",
    "        return 2 * (1 - scipy.stats.norm.cdf(np.abs(z_stat)))\n",
    "    \n",
    "    if alternative == 'less':\n",
    "        return scipy.stats.norm.cdf(z_stat)\n",
    "\n",
    "    if alternative == 'greater':\n",
    "        return 1 - scipy.stats.norm.cdf(z_stat)"
   ]
  },
  {
   "cell_type": "code",
   "execution_count": 95,
   "metadata": {},
   "outputs": [
    {
     "data": {
      "text/html": [
       "<div>\n",
       "<style scoped>\n",
       "    .dataframe tbody tr th:only-of-type {\n",
       "        vertical-align: middle;\n",
       "    }\n",
       "\n",
       "    .dataframe tbody tr th {\n",
       "        vertical-align: top;\n",
       "    }\n",
       "\n",
       "    .dataframe thead th {\n",
       "        text-align: right;\n",
       "    }\n",
       "</style>\n",
       "<table border=\"1\" class=\"dataframe\">\n",
       "  <thead>\n",
       "    <tr style=\"text-align: right;\">\n",
       "      <th></th>\n",
       "      <th>мужчины</th>\n",
       "      <th>женщины</th>\n",
       "    </tr>\n",
       "  </thead>\n",
       "  <tbody>\n",
       "    <tr>\n",
       "      <td>кредит возвращен</td>\n",
       "      <td>9015</td>\n",
       "      <td>14349</td>\n",
       "    </tr>\n",
       "    <tr>\n",
       "      <td>кредит не возвращен</td>\n",
       "      <td>2873</td>\n",
       "      <td>3763</td>\n",
       "    </tr>\n",
       "  </tbody>\n",
       "</table>\n",
       "</div>"
      ],
      "text/plain": [
       "                     мужчины  женщины\n",
       "кредит возвращен        9015    14349\n",
       "кредит не возвращен     2873     3763"
      ]
     },
     "execution_count": 95,
     "metadata": {},
     "output_type": "execute_result"
    }
   ],
   "source": [
    "crosstab = pd.crosstab(index=data['default'], \n",
    "                       columns=data['SEX'])\n",
    "\n",
    "crosstab.index = list(default.values())\n",
    "crosstab.columns = list(SEX.values())\n",
    "\n",
    "crosstab"
   ]
  },
  {
   "cell_type": "code",
   "execution_count": 96,
   "metadata": {},
   "outputs": [
    {
     "name": "stdout",
     "output_type": "stream",
     "text": [
      "95% confidence interval for a difference between proportions: [-0.043612, -0.024207]\n"
     ]
    }
   ],
   "source": [
    "print(\"95%% confidence interval for a difference between proportions: [%f, %f]\" %\\\n",
    "      proportions_diff_confint_ind(crosstab))"
   ]
  },
  {
   "cell_type": "markdown",
   "metadata": {},
   "source": [
    "95%-ый доверительный интервал лежит левее нуля, не включая последний, из чего можно сделать вывод, что **мужчины чаще женщин не отдают кредиты**."
   ]
  },
  {
   "cell_type": "code",
   "execution_count": 97,
   "metadata": {},
   "outputs": [
    {
     "name": "stdout",
     "output_type": "stream",
     "text": [
      "p-value: 0.000000\n"
     ]
    }
   ],
   "source": [
    "print(\"p-value: %f\" % proportions_diff_z_test(proportions_diff_z_stat_ind(crosstab)))"
   ]
  },
  {
   "cell_type": "markdown",
   "metadata": {},
   "source": [
    "Значение p-value для двусторонней альтернативы меньше 0.05, что позволяет опровергнуть нулевую гипотезу, о равенстве долей на уровне значимости 0.05. **Влиянии гендерного признака на вероятность возврата кредита статистически значимо.**"
   ]
  },
  {
   "cell_type": "markdown",
   "metadata": {},
   "source": [
    "#### 2.3 Корреляция Мэтьюса"
   ]
  },
  {
   "cell_type": "markdown",
   "metadata": {},
   "source": [
    "Коэффициент корреляции Мэтьюса — это мера силы взаимосвязи между двумя бинарными переменными.\n",
    "\n",
    "Коэффициент корреляции Мэтьюса лежит в диапазоне от −1 до 1. ${MCC}_{X_1X_2}=0$ соответствует случаю полного отсутствия взаимосвязи между переменными. ${MCC}_{X_1X_2}=1$ соответствует ситуации, когда $X_1$ и $X_2$ полностью совпадают, то есть $b=c=0$, в выборке отсутствуют объекты, на которых значения $X_1$ и $X_2$ отличаются. ${MCC}_{X_1X_2}=-1$ — это противоположная ситуация: в выборке нет ни одного объекта, на которых значения двух бинарных признаков совпадают."
   ]
  },
  {
   "cell_type": "markdown",
   "metadata": {},
   "source": [
    "Таблица сопряженности\n",
    "\n",
    "\n",
    "|X1\\X2| 0 | 1 |\n",
    "|-----|---|---|\n",
    "|  0  | a | b |\n",
    "|  1  | c | d |"
   ]
  },
  {
   "cell_type": "markdown",
   "metadata": {},
   "source": [
    "$${MCC}_{X_1X_2}=\\frac{ad-bc}{\\sqrt{\\left(a+b\\right)\\left(a+c\\right)\\left(b+d\\right)\\left(c+d\\right)}}$$"
   ]
  },
  {
   "cell_type": "code",
   "execution_count": 101,
   "metadata": {
    "code_folding": [
     0
    ]
   },
   "outputs": [],
   "source": [
    "def correlation_metyus(crosstab):\n",
    "    \"\"\"Возвращает коэффициент корреляции Мэтьюса\"\"\"\n",
    "    a = np.array(crosstab)[0,0]\n",
    "    b = np.array(crosstab)[0,1]\n",
    "    c = np.array(crosstab)[1,0]\n",
    "    d = np.array(crosstab)[1,1]\n",
    "    \n",
    "    correlation_metyus = (a*d - b*c) / np.sqrt((a+b)*(a+c)*(b+d)*(c+d))\n",
    "    \n",
    "    return correlation_metyus"
   ]
  },
  {
   "cell_type": "code",
   "execution_count": 349,
   "metadata": {},
   "outputs": [
    {
     "data": {
      "text/html": [
       "<div>\n",
       "<style scoped>\n",
       "    .dataframe tbody tr th:only-of-type {\n",
       "        vertical-align: middle;\n",
       "    }\n",
       "\n",
       "    .dataframe tbody tr th {\n",
       "        vertical-align: top;\n",
       "    }\n",
       "\n",
       "    .dataframe thead th {\n",
       "        text-align: right;\n",
       "    }\n",
       "</style>\n",
       "<table border=\"1\" class=\"dataframe\">\n",
       "  <thead>\n",
       "    <tr style=\"text-align: right;\">\n",
       "      <th></th>\n",
       "      <th>мужчины</th>\n",
       "      <th>женщины</th>\n",
       "    </tr>\n",
       "  </thead>\n",
       "  <tbody>\n",
       "    <tr>\n",
       "      <td>кредит возвращен</td>\n",
       "      <td>9015</td>\n",
       "      <td>14349</td>\n",
       "    </tr>\n",
       "    <tr>\n",
       "      <td>кредит не возвращен</td>\n",
       "      <td>2873</td>\n",
       "      <td>3763</td>\n",
       "    </tr>\n",
       "  </tbody>\n",
       "</table>\n",
       "</div>"
      ],
      "text/plain": [
       "                     мужчины  женщины\n",
       "кредит возвращен        9015    14349\n",
       "кредит не возвращен     2873     3763"
      ]
     },
     "execution_count": 349,
     "metadata": {},
     "output_type": "execute_result"
    }
   ],
   "source": [
    "crosstab = pd.crosstab(index=data['default'], \n",
    "                       columns=data['SEX'])\n",
    "\n",
    "crosstab.index = list(default.values())\n",
    "crosstab.columns = list(SEX.values())\n",
    "\n",
    "crosstab"
   ]
  },
  {
   "cell_type": "code",
   "execution_count": 102,
   "metadata": {},
   "outputs": [
    {
     "name": "stdout",
     "output_type": "stream",
     "text": [
      "-0.04\n"
     ]
    }
   ],
   "source": [
    "correlation = correlation_metyus(crosstab)\n",
    "print(round(correlation, 3))"
   ]
  },
  {
   "cell_type": "markdown",
   "metadata": {},
   "source": [
    "Значение корреляции Мэтьюса между гендерным признаком и вероятность возврата кредита не нулевое. **Гендерный признак влияет на вероятность возврата кредита.**"
   ]
  },
  {
   "cell_type": "markdown",
   "metadata": {},
   "source": [
    "**Достигаемый уровень значимости корреляции Мэтьюса между гендерным признаком и вероятность возврата кредита**"
   ]
  },
  {
   "cell_type": "code",
   "execution_count": 348,
   "metadata": {},
   "outputs": [],
   "source": [
    "from scipy.stats import chi2_contingency"
   ]
  },
  {
   "cell_type": "markdown",
   "metadata": {},
   "source": [
    "$H_0:{MCC}_{X_1X_2}=0$\n",
    "\n",
    "$H_1:{MCC}_{X_1X_2}\\neq0$"
   ]
  },
  {
   "cell_type": "code",
   "execution_count": 352,
   "metadata": {},
   "outputs": [
    {
     "name": "stdout",
     "output_type": "stream",
     "text": [
      "p-value:4.944678999412044e-12\n"
     ]
    }
   ],
   "source": [
    "# Проверка статистической значимости гипотезы с помощью критерия хи-квадрат\n",
    "contingency = chi2_contingency(np.array(crosstab))\n",
    "print(f'p-value:{contingency[1]}')"
   ]
  },
  {
   "cell_type": "markdown",
   "metadata": {},
   "source": [
    "Значение p-value значительно меньше 0.05, что позволяет отвергнуть нулевую гипотезу на уровне значимости 0.05. Корреляция между гендерным признаком и вероятность возврата кредита является статистически значимой."
   ]
  },
  {
   "cell_type": "markdown",
   "metadata": {},
   "source": [
    "### Задача 3"
   ]
  },
  {
   "cell_type": "markdown",
   "metadata": {},
   "source": [
    "Проверить гипотезу о том, что образование (`EDUCATION`) не влияет на то, вернет ли человек долг."
   ]
  },
  {
   "cell_type": "markdown",
   "metadata": {},
   "source": [
    "#### 3.1 Точечная оценка"
   ]
  },
  {
   "cell_type": "code",
   "execution_count": 42,
   "metadata": {},
   "outputs": [
    {
     "data": {
      "image/png": "[encoded data removed]",
      "text/plain": [
       "<Figure size 1440x432 with 2 Axes>"
      ]
     },
     "metadata": {
      "needs_background": "light"
     },
     "output_type": "display_data"
    }
   ],
   "source": [
    "colors = [np.array(cm.rainbow(i)).reshape(1,4) for i in np.linspace(0, 1, len(EDUCATION))]\n",
    "\n",
    "fig, nx = pyplot.subplots(1, 2, figsize=(20,6))\n",
    "\n",
    "for feature, name in zip(default.keys(), default.values()):\n",
    "    pyplot.subplot(1,2,feature+1)\n",
    "    for index, label, color in zip(EDUCATION.keys(), EDUCATION.values(), colors):\n",
    "        pyplot.hist(data[(data['default'] == feature) & (data['EDUCATION'] == index)]['EDUCATION'],\n",
    "                    bins=3, color = color, label=label) \n",
    "    pyplot.title(f'Распределение числа кредитов со статусом\\n {name.upper()} по уровню образования')\n",
    "    pyplot.ylabel(f'Число случаев кредитов \\nсо статусом {name.upper()}')\n",
    "    pyplot.xlabel('Уровень образования')\n",
    "    pyplot.xticks(list(EDUCATION.keys()), list(EDUCATION.values()), rotation=20)\n",
    "    pyplot.legend()\n",
    "    \n",
    "pyplot.show()"
   ]
  },
  {
   "cell_type": "markdown",
   "metadata": {},
   "source": [
    "Из графика видно:\n",
    "* чаще всего кредит берут люди с уровнем образования 'магистр', 'бакалавр', реже 'выпускник школы'"
   ]
  },
  {
   "cell_type": "code",
   "execution_count": 425,
   "metadata": {
    "scrolled": true
   },
   "outputs": [
    {
     "data": {
      "text/html": [
       "<div>\n",
       "<style scoped>\n",
       "    .dataframe tbody tr th:only-of-type {\n",
       "        vertical-align: middle;\n",
       "    }\n",
       "\n",
       "    .dataframe tbody tr th {\n",
       "        vertical-align: top;\n",
       "    }\n",
       "\n",
       "    .dataframe thead th {\n",
       "        text-align: right;\n",
       "    }\n",
       "</style>\n",
       "<table border=\"1\" class=\"dataframe\">\n",
       "  <thead>\n",
       "    <tr style=\"text-align: right;\">\n",
       "      <th></th>\n",
       "      <th>доктор</th>\n",
       "      <th>магистр</th>\n",
       "      <th>бакалавр</th>\n",
       "      <th>выпускник школы</th>\n",
       "      <th>начальное образование</th>\n",
       "      <th>прочее</th>\n",
       "      <th>нет данных</th>\n",
       "    </tr>\n",
       "  </thead>\n",
       "  <tbody>\n",
       "    <tr>\n",
       "      <td>кредит возвращен</td>\n",
       "      <td>0.000599</td>\n",
       "      <td>0.365905</td>\n",
       "      <td>0.457970</td>\n",
       "      <td>0.157507</td>\n",
       "      <td>0.004965</td>\n",
       "      <td>0.011214</td>\n",
       "      <td>0.001840</td>\n",
       "    </tr>\n",
       "    <tr>\n",
       "      <td>кредит не возвращен</td>\n",
       "      <td>0.000000</td>\n",
       "      <td>0.306811</td>\n",
       "      <td>0.501808</td>\n",
       "      <td>0.186407</td>\n",
       "      <td>0.001055</td>\n",
       "      <td>0.002712</td>\n",
       "      <td>0.001206</td>\n",
       "    </tr>\n",
       "    <tr>\n",
       "      <td>СУММАРНО</td>\n",
       "      <td>0.000467</td>\n",
       "      <td>0.352833</td>\n",
       "      <td>0.467667</td>\n",
       "      <td>0.163900</td>\n",
       "      <td>0.004100</td>\n",
       "      <td>0.009333</td>\n",
       "      <td>0.001700</td>\n",
       "    </tr>\n",
       "  </tbody>\n",
       "</table>\n",
       "</div>"
      ],
      "text/plain": [
       "                       доктор   магистр  бакалавр  выпускник школы  \\\n",
       "кредит возвращен     0.000599  0.365905  0.457970         0.157507   \n",
       "кредит не возвращен  0.000000  0.306811  0.501808         0.186407   \n",
       "СУММАРНО             0.000467  0.352833  0.467667         0.163900   \n",
       "\n",
       "                     начальное образование    прочее  нет данных  \n",
       "кредит возвращен                  0.004965  0.011214    0.001840  \n",
       "кредит не возвращен               0.001055  0.002712    0.001206  \n",
       "СУММАРНО                          0.004100  0.009333    0.001700  "
      ]
     },
     "execution_count": 425,
     "metadata": {},
     "output_type": "execute_result"
    }
   ],
   "source": [
    "table = pd.crosstab(index=data['default'], \n",
    "                    columns=data['EDUCATION'], \n",
    "                    margins=True, \n",
    "                    margins_name='СУММАРНО', \n",
    "                    normalize='index')\n",
    "\n",
    "table.index = np.append(list(default.values()), 'СУММАРНО')\n",
    "table.columns = list(EDUCATION.values())\n",
    "\n",
    "table"
   ]
  },
  {
   "cell_type": "markdown",
   "metadata": {},
   "source": [
    "Из таблицы видно, что чаще всего кредит берут люди с уровнем образования 'магистр', 'бакалавр', реже 'выпускник школы'. "
   ]
  },
  {
   "cell_type": "code",
   "execution_count": 44,
   "metadata": {
    "code_folding": []
   },
   "outputs": [
    {
     "data": {
      "image/png": "[encoded data removed]",
      "text/plain": [
       "<Figure size 1440x864 with 8 Axes>"
      ]
     },
     "metadata": {
      "needs_background": "light"
     },
     "output_type": "display_data"
    }
   ],
   "source": [
    "fig, nx = pyplot.subplots(2, 4, figsize=(20,12))\n",
    "\n",
    "for index, label in zip(EDUCATION.keys(), EDUCATION.values()):\n",
    "    pyplot.subplot(2,4,index+1)\n",
    "    pyplot.hist(data[(data['default'] == 0) & (data['EDUCATION'] == index)]['default'],\n",
    "                bins=3, color = 'g', label='Выплаченный кредит')\n",
    "    pyplot.hist(data[(data['default'] == 1) & (data['EDUCATION'] == index)]['default'],\n",
    "                bins=3, color = 'r', label='Невыплаченный кредит')\n",
    "    pyplot.title(f'Распределение кредитных \\nисторий среди людей \\nс уровнем образования \\n{label.upper()}')\n",
    "    pyplot.ylabel('Число кредитов')\n",
    "    pyplot.xlabel('Возврат кредита')\n",
    "    pyplot.xticks(list(default.keys()), list(default.values()), rotation=20)\n",
    "    pyplot.xlim(-0.5, 1.5)\n",
    "    pyplot.legend()\n",
    "\n",
    "pyplot.subplots_adjust(wspace=0.3, hspace=1)\n",
    "pyplot.show()"
   ]
  },
  {
   "cell_type": "code",
   "execution_count": 362,
   "metadata": {},
   "outputs": [
    {
     "data": {
      "text/html": [
       "<div>\n",
       "<style scoped>\n",
       "    .dataframe tbody tr th:only-of-type {\n",
       "        vertical-align: middle;\n",
       "    }\n",
       "\n",
       "    .dataframe tbody tr th {\n",
       "        vertical-align: top;\n",
       "    }\n",
       "\n",
       "    .dataframe thead th {\n",
       "        text-align: right;\n",
       "    }\n",
       "</style>\n",
       "<table border=\"1\" class=\"dataframe\">\n",
       "  <thead>\n",
       "    <tr style=\"text-align: right;\">\n",
       "      <th></th>\n",
       "      <th>доктор</th>\n",
       "      <th>магистр</th>\n",
       "      <th>бакалавр</th>\n",
       "      <th>выпускник школы</th>\n",
       "      <th>начальное образование</th>\n",
       "      <th>прочее</th>\n",
       "      <th>нет данных</th>\n",
       "      <th>СУММАРНО</th>\n",
       "    </tr>\n",
       "  </thead>\n",
       "  <tbody>\n",
       "    <tr>\n",
       "      <td>кредит возвращен</td>\n",
       "      <td>1.0</td>\n",
       "      <td>0.807652</td>\n",
       "      <td>0.762651</td>\n",
       "      <td>0.748424</td>\n",
       "      <td>0.943089</td>\n",
       "      <td>0.935714</td>\n",
       "      <td>0.843137</td>\n",
       "      <td>0.7788</td>\n",
       "    </tr>\n",
       "    <tr>\n",
       "      <td>кредит не возвращен</td>\n",
       "      <td>0.0</td>\n",
       "      <td>0.192348</td>\n",
       "      <td>0.237349</td>\n",
       "      <td>0.251576</td>\n",
       "      <td>0.056911</td>\n",
       "      <td>0.064286</td>\n",
       "      <td>0.156863</td>\n",
       "      <td>0.2212</td>\n",
       "    </tr>\n",
       "  </tbody>\n",
       "</table>\n",
       "</div>"
      ],
      "text/plain": [
       "                     доктор   магистр  бакалавр  выпускник школы  \\\n",
       "кредит возвращен        1.0  0.807652  0.762651         0.748424   \n",
       "кредит не возвращен     0.0  0.192348  0.237349         0.251576   \n",
       "\n",
       "                     начальное образование    прочее  нет данных  СУММАРНО  \n",
       "кредит возвращен                  0.943089  0.935714    0.843137    0.7788  \n",
       "кредит не возвращен               0.056911  0.064286    0.156863    0.2212  "
      ]
     },
     "execution_count": 362,
     "metadata": {},
     "output_type": "execute_result"
    }
   ],
   "source": [
    "table = pd.crosstab(index=data['default'], \n",
    "                    columns=data['EDUCATION'], \n",
    "                    margins=True, \n",
    "                    margins_name='СУММАРНО', \n",
    "                    normalize='columns')\n",
    "\n",
    "table.index = list(default.values())\n",
    "table.columns = np.append(list(EDUCATION.values()), 'СУММАРНО')\n",
    "\n",
    "table"
   ]
  },
  {
   "cell_type": "markdown",
   "metadata": {},
   "source": [
    "Из таблицы видно, что с увеличением уровня образования 'выпускника школы' - 'бакалавр' - 'магистр' - 'доктор', вероятность невозврата кредита снижается, что кажется логичным. Однако, у людей с 'начальным образованием' вероятность невозврата кредита значительно ниже предполагаемой. Отсюда можно предположить, что уровень образования не коррелирует с вероятностью невозврата кредита, однако данная оценка не учитывает количественное сотношение людей различного уровня образования, берущих кредит."
   ]
  },
  {
   "cell_type": "markdown",
   "metadata": {},
   "source": [
    "#### 3.2  Проверка на соответствие распределения равномерному с помощью критерия согласия Пирсона $\\chi^2$"
   ]
  },
  {
   "cell_type": "code",
   "execution_count": 45,
   "metadata": {},
   "outputs": [
    {
     "data": {
      "image/png": "[encoded data removed]",
      "text/plain": [
       "<Figure size 864x432 with 1 Axes>"
      ]
     },
     "metadata": {
      "needs_background": "light"
     },
     "output_type": "display_data"
    }
   ],
   "source": [
    "fig, nx = pyplot.subplots(figsize=(12,6))\n",
    "pyplot.bar(x=list(EDUCATION.values()), \n",
    "           height=pd.crosstab(data['default'], data['EDUCATION'], normalize='columns').iloc[0,:], \n",
    "           width=0.5)\n",
    "pyplot.title('Вероятность возврата кредита в зависимости от уровня образования')\n",
    "pyplot.ylabel(f'Вероятность возврата кредита')\n",
    "pyplot.xlabel('Уровень образования')\n",
    "pyplot.xticks(rotation=20)\n",
    "pyplot.show()"
   ]
  },
  {
   "cell_type": "markdown",
   "metadata": {},
   "source": [
    "Из графика видно, что распределние вероятности возврата кредита в зависимости от уровня образования похоже на равномерное со средним `mean`. "
   ]
  },
  {
   "cell_type": "markdown",
   "metadata": {},
   "source": [
    "**Сравнение наблюдаемых и ожадаемых частот на случай равномерного распределения вероятности возврата кредита в зависимости от уровня образования со средним `mean`.**"
   ]
  },
  {
   "cell_type": "code",
   "execution_count": 48,
   "metadata": {},
   "outputs": [],
   "source": [
    "# Наблюдаемые частоты возврата кредита в зависимости от уровня образования\n",
    "observed_frequences = pd.crosstab(index=data['default'], columns=data['EDUCATION']).iloc[0,:]\n",
    "\n",
    "# Среднее значение вероятности возврата кредита в зависимости от уровня образования\n",
    "mean = np.mean(pd.crosstab(data['default'], data['EDUCATION'], normalize='columns').iloc[0,:])\n",
    "\n",
    "# Ожидаемые частоты возврата кредита в зависимости от уровня образования\n",
    "expected_frequences = pd.crosstab(index=data['default'], columns=data['EDUCATION'], margins=True).iloc[2,:-1] * mean"
   ]
  },
  {
   "cell_type": "code",
   "execution_count": 49,
   "metadata": {},
   "outputs": [
    {
     "data": {
      "text/html": [
       "<div>\n",
       "<style scoped>\n",
       "    .dataframe tbody tr th:only-of-type {\n",
       "        vertical-align: middle;\n",
       "    }\n",
       "\n",
       "    .dataframe tbody tr th {\n",
       "        vertical-align: top;\n",
       "    }\n",
       "\n",
       "    .dataframe thead th {\n",
       "        text-align: right;\n",
       "    }\n",
       "</style>\n",
       "<table border=\"1\" class=\"dataframe\">\n",
       "  <thead>\n",
       "    <tr style=\"text-align: right;\">\n",
       "      <th></th>\n",
       "      <th>доктор</th>\n",
       "      <th>магистр</th>\n",
       "      <th>бакалавр</th>\n",
       "      <th>выпускник школы</th>\n",
       "      <th>начальное образование</th>\n",
       "      <th>прочее</th>\n",
       "      <th>нет данных</th>\n",
       "      <th>СУММАРНО</th>\n",
       "    </tr>\n",
       "  </thead>\n",
       "  <tbody>\n",
       "    <tr>\n",
       "      <td>кредит возвращен</td>\n",
       "      <td>14</td>\n",
       "      <td>8549</td>\n",
       "      <td>10700</td>\n",
       "      <td>3680</td>\n",
       "      <td>116</td>\n",
       "      <td>262</td>\n",
       "      <td>43</td>\n",
       "      <td>23364</td>\n",
       "    </tr>\n",
       "    <tr>\n",
       "      <td>кредит не возвращен</td>\n",
       "      <td>0</td>\n",
       "      <td>2036</td>\n",
       "      <td>3330</td>\n",
       "      <td>1237</td>\n",
       "      <td>7</td>\n",
       "      <td>18</td>\n",
       "      <td>8</td>\n",
       "      <td>6636</td>\n",
       "    </tr>\n",
       "    <tr>\n",
       "      <td>СУММАРНО</td>\n",
       "      <td>14</td>\n",
       "      <td>10585</td>\n",
       "      <td>14030</td>\n",
       "      <td>4917</td>\n",
       "      <td>123</td>\n",
       "      <td>280</td>\n",
       "      <td>51</td>\n",
       "      <td>30000</td>\n",
       "    </tr>\n",
       "  </tbody>\n",
       "</table>\n",
       "</div>"
      ],
      "text/plain": [
       "                     доктор  магистр  бакалавр  выпускник школы  \\\n",
       "кредит возвращен         14     8549     10700             3680   \n",
       "кредит не возвращен       0     2036      3330             1237   \n",
       "СУММАРНО                 14    10585     14030             4917   \n",
       "\n",
       "                     начальное образование  прочее  нет данных  СУММАРНО  \n",
       "кредит возвращен                       116     262          43     23364  \n",
       "кредит не возвращен                      7      18           8      6636  \n",
       "СУММАРНО                               123     280          51     30000  "
      ]
     },
     "execution_count": 49,
     "metadata": {},
     "output_type": "execute_result"
    }
   ],
   "source": [
    "# Наблюдаемые частоты\n",
    "observed_crosstab = pd.crosstab(index=data['default'], \n",
    "                    columns=data['EDUCATION'], \n",
    "                    margins=True, \n",
    "                    margins_name='СУММАРНО')\n",
    "\n",
    "observed_crosstab.index = np.append(list(default.values()), 'СУММАРНО')\n",
    "observed_crosstab.columns = np.append(list(EDUCATION.values()), 'СУММАРНО')\n",
    "\n",
    "observed_crosstab"
   ]
  },
  {
   "cell_type": "code",
   "execution_count": 50,
   "metadata": {},
   "outputs": [
    {
     "data": {
      "text/html": [
       "<div>\n",
       "<style scoped>\n",
       "    .dataframe tbody tr th:only-of-type {\n",
       "        vertical-align: middle;\n",
       "    }\n",
       "\n",
       "    .dataframe tbody tr th {\n",
       "        vertical-align: top;\n",
       "    }\n",
       "\n",
       "    .dataframe thead th {\n",
       "        text-align: right;\n",
       "    }\n",
       "</style>\n",
       "<table border=\"1\" class=\"dataframe\">\n",
       "  <thead>\n",
       "    <tr style=\"text-align: right;\">\n",
       "      <th></th>\n",
       "      <th>доктор</th>\n",
       "      <th>магистр</th>\n",
       "      <th>бакалавр</th>\n",
       "      <th>выпускник школы</th>\n",
       "      <th>начальное образование</th>\n",
       "      <th>прочее</th>\n",
       "      <th>нет данных</th>\n",
       "      <th>СУММАРНО</th>\n",
       "    </tr>\n",
       "  </thead>\n",
       "  <tbody>\n",
       "    <tr>\n",
       "      <td>кредит возвращен</td>\n",
       "      <td>12.081337</td>\n",
       "      <td>9134.353886</td>\n",
       "      <td>12107.225793</td>\n",
       "      <td>4243.13822</td>\n",
       "      <td>106.143177</td>\n",
       "      <td>241.626744</td>\n",
       "      <td>44.010586</td>\n",
       "      <td>25888.579742</td>\n",
       "    </tr>\n",
       "    <tr>\n",
       "      <td>кредит не возвращен</td>\n",
       "      <td>1.918663</td>\n",
       "      <td>1450.646114</td>\n",
       "      <td>1922.774207</td>\n",
       "      <td>673.86178</td>\n",
       "      <td>16.856823</td>\n",
       "      <td>38.373256</td>\n",
       "      <td>6.989414</td>\n",
       "      <td>4111.420258</td>\n",
       "    </tr>\n",
       "    <tr>\n",
       "      <td>СУММАРНО</td>\n",
       "      <td>14.000000</td>\n",
       "      <td>10585.000000</td>\n",
       "      <td>14030.000000</td>\n",
       "      <td>4917.00000</td>\n",
       "      <td>123.000000</td>\n",
       "      <td>280.000000</td>\n",
       "      <td>51.000000</td>\n",
       "      <td>30000.000000</td>\n",
       "    </tr>\n",
       "  </tbody>\n",
       "</table>\n",
       "</div>"
      ],
      "text/plain": [
       "                        доктор       магистр      бакалавр  выпускник школы  \\\n",
       "кредит возвращен     12.081337   9134.353886  12107.225793       4243.13822   \n",
       "кредит не возвращен   1.918663   1450.646114   1922.774207        673.86178   \n",
       "СУММАРНО             14.000000  10585.000000  14030.000000       4917.00000   \n",
       "\n",
       "                     начальное образование      прочее  нет данных  \\\n",
       "кредит возвращен                106.143177  241.626744   44.010586   \n",
       "кредит не возвращен              16.856823   38.373256    6.989414   \n",
       "СУММАРНО                        123.000000  280.000000   51.000000   \n",
       "\n",
       "                         СУММАРНО  \n",
       "кредит возвращен     25888.579742  \n",
       "кредит не возвращен   4111.420258  \n",
       "СУММАРНО             30000.000000  "
      ]
     },
     "execution_count": 50,
     "metadata": {},
     "output_type": "execute_result"
    }
   ],
   "source": [
    "# Ожидаемые частоты\n",
    "expected_crosstab = pd.DataFrame(\n",
    "    np.array([\n",
    "        pd.crosstab(index=data['default'], columns=data['EDUCATION'], margins=True).iloc[2,:] * mean,\n",
    "        pd.crosstab(index=data['default'], columns=data['EDUCATION'], margins=True).iloc[2,:] * (1-mean),\n",
    "        pd.crosstab(index=data['default'], columns=data['EDUCATION'], margins=True).iloc[2,:]\n",
    "    ])\n",
    ")\n",
    "\n",
    "expected_crosstab.index = np.append(list(default.values()), 'СУММАРНО')\n",
    "expected_crosstab.columns = np.append(list(EDUCATION.values()), 'СУММАРНО')\n",
    "\n",
    "expected_crosstab"
   ]
  },
  {
   "cell_type": "code",
   "execution_count": 52,
   "metadata": {},
   "outputs": [
    {
     "data": {
      "image/png": "[encoded data removed]",
      "text/plain": [
       "<Figure size 1440x432 with 2 Axes>"
      ]
     },
     "metadata": {
      "needs_background": "light"
     },
     "output_type": "display_data"
    }
   ],
   "source": [
    "fig, nx = pyplot.subplots(1, 2, figsize=(20,6))\n",
    "\n",
    "pyplot.subplot(1,2,1)\n",
    "pyplot.bar(x=list(EDUCATION.values()), height=observed_crosstab.iloc[0,:-1], width=0.5, color='brown')\n",
    "pyplot.title('НАБЛЮДАЕМЫЕ вероятности возврата кредита \\nв зависимости от уровня образования')\n",
    "pyplot.ylabel(f'Число возвращенных кредитов')\n",
    "pyplot.xlabel('Уровень образования')\n",
    "pyplot.xticks(rotation=20)\n",
    "\n",
    "pyplot.subplot(1,2,2)\n",
    "pyplot.bar(x=list(EDUCATION.values()), height=expected_crosstab.iloc[0,:-1], width=0.5, color='blue')\n",
    "pyplot.title('ОЖИДАЕМЫЕ вероятности возврата кредита \\nв зависимости от уровня образования')\n",
    "pyplot.ylabel(f'Число возвращенных кредитов')\n",
    "pyplot.xlabel('Уровень образования')\n",
    "pyplot.xticks(rotation=20)\n",
    "\n",
    "pyplot.show()"
   ]
  },
  {
   "cell_type": "markdown",
   "metadata": {},
   "source": [
    "**Разница в ожидаемых и наблюдаемых значениях количества человек вернувших и не вернувших кредит.**"
   ]
  },
  {
   "cell_type": "code",
   "execution_count": 53,
   "metadata": {},
   "outputs": [
    {
     "data": {
      "image/png": "[encoded data removed]",
      "text/plain": [
       "<Figure size 864x432 with 1 Axes>"
      ]
     },
     "metadata": {
      "needs_background": "light"
     },
     "output_type": "display_data"
    }
   ],
   "source": [
    "fig, nx = pyplot.subplots(figsize=(12,6))\n",
    "\n",
    "pyplot.bar(x=list(EDUCATION.values()), \n",
    "           height=(expected_crosstab.iloc[0,:-1] - observed_crosstab.iloc[0,:-1]), \n",
    "           width=0.5, color='brown')\n",
    "pyplot.title('Распределение разницы в ожидаемых и наблюдаемых значениях \\nколичества человек\\\n",
    "вернувших  кредит в зависимости от уровня образования')\n",
    "pyplot.ylabel(f'Разница в ожидаемых и наблюдаемых значениях \\nколичества человек вернувших кредит')\n",
    "pyplot.xlabel('Уровень образования')\n",
    "pyplot.xticks(rotation=20)\n",
    "\n",
    "pyplot.show()"
   ]
  },
  {
   "cell_type": "markdown",
   "metadata": {},
   "source": [
    "Из графика видно, что разница между ожидаемыми и наблюдаемыми значениях количества человек вернувших кредит велика и сильно варьируется по уровням образования. Распределение вероятности возврата кредита от уровня образования не равномерное. Следовательно, вероятность возврата кредита меняется в зависимости от уровня образования."
   ]
  },
  {
   "cell_type": "markdown",
   "metadata": {},
   "source": [
    "**Строгая оценка соответствия распределения равномерному с помощью критерия согласия Пирсона $\\chi^2$.** "
   ]
  },
  {
   "cell_type": "markdown",
   "metadata": {},
   "source": [
    "$H_0:$ Случайная величина распределена равномерно со средним `mean`\n",
    "\n",
    "$H_1:$ Иначе"
   ]
  },
  {
   "cell_type": "markdown",
   "metadata": {},
   "source": [
    "Статистика критерия хи-квадрат: $$\\chi^2=\\sum_{i=1}^K \\frac{\\left(n_i- np_i\\right)^2}{np_i}$$\n",
    "При справедливости нулевой гипотезы имеет распределение хи-квадрат с числом степеней свободы $K-1-m$, где $m$ - число параметров распределения, оцененных по выборке."
   ]
  },
  {
   "cell_type": "code",
   "execution_count": 405,
   "metadata": {},
   "outputs": [],
   "source": [
    "from scipy.stats import chisquare"
   ]
  },
  {
   "cell_type": "code",
   "execution_count": 537,
   "metadata": {},
   "outputs": [
    {
     "data": {
      "text/plain": [
       "Power_divergenceResult(statistic=278.7725391716089, pvalue=3.653181595163598e-58)"
      ]
     },
     "execution_count": 537,
     "metadata": {},
     "output_type": "execute_result"
    }
   ],
   "source": [
    "chisquare(observed_frequences,expected_frequences, ddof = 1)"
   ]
  },
  {
   "cell_type": "markdown",
   "metadata": {},
   "source": [
    "p-value близко к нулю, значит на уровне значимости 0.05 можно отвергать нулевую гипотезу, данные распределены не нормально."
   ]
  },
  {
   "cell_type": "markdown",
   "metadata": {},
   "source": [
    "#### 3.3 Коэффициент V Крамера"
   ]
  },
  {
   "cell_type": "markdown",
   "metadata": {},
   "source": [
    "Коэффициент V Крамера - это мера силы взаимосвязи между двумя категориальными признаками.\n",
    "\n",
    "Коэффициент Крамера принимает значения исключительно в интервале от 0 до 1. 0 соответствует полному отсутствию взаимосвязи, а 1 — полному совпадению переменных $X_1$ и $X_2$ с точностью до переименования уровней."
   ]
  },
  {
   "cell_type": "markdown",
   "metadata": {},
   "source": [
    "Таблица сопряженности\n",
    "\n",
    "\n",
    "|X1\\X2| 1 |...|    j   |...|$K_2$|\n",
    "|-----|---|---|--------|---|-----|\n",
    "|  1  |   |   |        |   |     |\n",
    "| ... |   |   |        |   |     |\n",
    "|  i  |   |   |$n_{ij}$|   |     |\n",
    "| ... |   |   |        |   |     |\n",
    "|$K_1$|   |   |        |   |     |"
   ]
  },
  {
   "cell_type": "markdown",
   "metadata": {},
   "source": [
    "$H_0:\\varphi_c\\left(X_1^n,\\ X_2^n\\right)=0$\n",
    "\n",
    "$H_1:\\varphi_c\\left(X_1^n,\\ X_2^n\\right)\\neq0$"
   ]
  },
  {
   "cell_type": "code",
   "execution_count": 418,
   "metadata": {},
   "outputs": [
    {
     "data": {
      "text/html": [
       "<div>\n",
       "<style scoped>\n",
       "    .dataframe tbody tr th:only-of-type {\n",
       "        vertical-align: middle;\n",
       "    }\n",
       "\n",
       "    .dataframe tbody tr th {\n",
       "        vertical-align: top;\n",
       "    }\n",
       "\n",
       "    .dataframe thead th {\n",
       "        text-align: right;\n",
       "    }\n",
       "</style>\n",
       "<table border=\"1\" class=\"dataframe\">\n",
       "  <thead>\n",
       "    <tr style=\"text-align: right;\">\n",
       "      <th></th>\n",
       "      <th>доктор</th>\n",
       "      <th>магистр</th>\n",
       "      <th>бакалавр</th>\n",
       "      <th>выпускник школы</th>\n",
       "      <th>начальное образование</th>\n",
       "      <th>прочее</th>\n",
       "      <th>нет данных</th>\n",
       "    </tr>\n",
       "  </thead>\n",
       "  <tbody>\n",
       "    <tr>\n",
       "      <td>кредит возвращен</td>\n",
       "      <td>14</td>\n",
       "      <td>8549</td>\n",
       "      <td>10700</td>\n",
       "      <td>3680</td>\n",
       "      <td>116</td>\n",
       "      <td>262</td>\n",
       "      <td>43</td>\n",
       "    </tr>\n",
       "    <tr>\n",
       "      <td>кредит не возвращен</td>\n",
       "      <td>0</td>\n",
       "      <td>2036</td>\n",
       "      <td>3330</td>\n",
       "      <td>1237</td>\n",
       "      <td>7</td>\n",
       "      <td>18</td>\n",
       "      <td>8</td>\n",
       "    </tr>\n",
       "  </tbody>\n",
       "</table>\n",
       "</div>"
      ],
      "text/plain": [
       "                     доктор  магистр  бакалавр  выпускник школы  \\\n",
       "кредит возвращен         14     8549     10700             3680   \n",
       "кредит не возвращен       0     2036      3330             1237   \n",
       "\n",
       "                     начальное образование  прочее  нет данных  \n",
       "кредит возвращен                       116     262          43  \n",
       "кредит не возвращен                      7      18           8  "
      ]
     },
     "execution_count": 418,
     "metadata": {},
     "output_type": "execute_result"
    }
   ],
   "source": [
    "crosstab = pd.crosstab(index=data['default'], \n",
    "                       columns=data['EDUCATION'])\n",
    "\n",
    "crosstab.index = list(default.values())\n",
    "crosstab.columns = list(EDUCATION.values())\n",
    "\n",
    "crosstab"
   ]
  },
  {
   "cell_type": "code",
   "execution_count": 356,
   "metadata": {},
   "outputs": [
    {
     "name": "stdout",
     "output_type": "stream",
     "text": [
      "statistic:163.21655786997073\n",
      "p-value:1.2332626245415605e-32\n"
     ]
    }
   ],
   "source": [
    "# Проверка статистической значимости гипотезы с помощью критерия хи-квадрат\n",
    "contingency = chi2_contingency(np.array(crosstab))\n",
    "print(f'statistic:{contingency[0]}')\n",
    "print(f'p-value:{contingency[1]}')"
   ]
  },
  {
   "cell_type": "markdown",
   "metadata": {},
   "source": [
    "Значение p-value значительно меньше 0.05, что позволяет отвергнуть нулевую гипотезу на уровне значимости 0.05. Корреляция между уровнем образования и вероятность возврата кредита является статистически значимой."
   ]
  },
  {
   "cell_type": "markdown",
   "metadata": {},
   "source": [
    "$$\\varphi_c\\left(X_1^n,\\ X_2^n\\right)=\\sqrt{\\frac{\\chi^2\\left(X_1^n,\\ X_2^n\\right)}{n\\ \\left(\\min{\\left(K_1,\\ K_2\\right)}-1\\right)}}$$"
   ]
  },
  {
   "cell_type": "code",
   "execution_count": 358,
   "metadata": {},
   "outputs": [
    {
     "name": "stdout",
     "output_type": "stream",
     "text": [
      "0.07376009713252163\n"
     ]
    }
   ],
   "source": [
    "v_kramer = np.sqrt(contingency[0] / (np.sum(np.array(crosstab)) * (np.min(np.array(crosstab).shape) - 1)))\n",
    "print(v_kramer)"
   ]
  },
  {
   "cell_type": "markdown",
   "metadata": {},
   "source": [
    "Значение коэффициента Крамера свидетельствует о наличии корреляции между уровнем образования и вероятностью возврата кредита."
   ]
  },
  {
   "cell_type": "markdown",
   "metadata": {},
   "source": [
    "### Задача 4"
   ]
  },
  {
   "cell_type": "markdown",
   "metadata": {},
   "source": [
    "Проверить, как связан семейный статус (`MARRIAGE`) с индикатором дефолта."
   ]
  },
  {
   "cell_type": "markdown",
   "metadata": {},
   "source": [
    "#### 4.1 Точечная оценка"
   ]
  },
  {
   "cell_type": "code",
   "execution_count": 41,
   "metadata": {},
   "outputs": [
    {
     "data": {
      "image/png": "[encoded data removed]",
      "text/plain": [
       "<Figure size 1440x432 with 2 Axes>"
      ]
     },
     "metadata": {
      "needs_background": "light"
     },
     "output_type": "display_data"
    }
   ],
   "source": [
    "colors = [np.array(cm.rainbow(i)).reshape(1,4) for i in np.linspace(0, 1, len(MARRIAGE))]\n",
    "\n",
    "fig, nx = pyplot.subplots(1, 2, figsize=(20,6))\n",
    "\n",
    "for feature, name in zip(default.keys(), default.values()):\n",
    "    pyplot.subplot(1,2,feature+1)\n",
    "    for index, label, color in zip(MARRIAGE.keys(), MARRIAGE.values(), colors):\n",
    "        pyplot.hist(data[(data['default'] == feature) & (data['MARRIAGE'] == index)]['MARRIAGE'],\n",
    "                    bins=3, color = color, label=label) \n",
    "    pyplot.title(f'Распределение числа кредитов со статусом\\n {name.upper()} по семейному статусу')\n",
    "    pyplot.ylabel(f'Число случаев кредитов \\nсо статусом {name.upper()}')\n",
    "    pyplot.xlabel('Уровень образования')\n",
    "    pyplot.xticks(list(MARRIAGE.keys()), list(MARRIAGE.values()), rotation=0)\n",
    "    pyplot.legend()\n",
    "    \n",
    "pyplot.show()"
   ]
  },
  {
   "cell_type": "code",
   "execution_count": 279,
   "metadata": {},
   "outputs": [
    {
     "data": {
      "text/html": [
       "<div>\n",
       "<style scoped>\n",
       "    .dataframe tbody tr th:only-of-type {\n",
       "        vertical-align: middle;\n",
       "    }\n",
       "\n",
       "    .dataframe tbody tr th {\n",
       "        vertical-align: top;\n",
       "    }\n",
       "\n",
       "    .dataframe thead th {\n",
       "        text-align: right;\n",
       "    }\n",
       "</style>\n",
       "<table border=\"1\" class=\"dataframe\">\n",
       "  <thead>\n",
       "    <tr style=\"text-align: right;\">\n",
       "      <th></th>\n",
       "      <th>отказ отвечать</th>\n",
       "      <th>замужем/женат</th>\n",
       "      <th>холост</th>\n",
       "      <th>нет данных</th>\n",
       "    </tr>\n",
       "  </thead>\n",
       "  <tbody>\n",
       "    <tr>\n",
       "      <td>кредит возвращен</td>\n",
       "      <td>0.002097</td>\n",
       "      <td>0.447398</td>\n",
       "      <td>0.540276</td>\n",
       "      <td>0.010229</td>\n",
       "    </tr>\n",
       "    <tr>\n",
       "      <td>кредит не возвращен</td>\n",
       "      <td>0.000753</td>\n",
       "      <td>0.483122</td>\n",
       "      <td>0.503466</td>\n",
       "      <td>0.012658</td>\n",
       "    </tr>\n",
       "    <tr>\n",
       "      <td>СУММАРНО</td>\n",
       "      <td>0.001800</td>\n",
       "      <td>0.455300</td>\n",
       "      <td>0.532133</td>\n",
       "      <td>0.010767</td>\n",
       "    </tr>\n",
       "  </tbody>\n",
       "</table>\n",
       "</div>"
      ],
      "text/plain": [
       "                     отказ отвечать  замужем/женат    холост  нет данных\n",
       "кредит возвращен           0.002097       0.447398  0.540276    0.010229\n",
       "кредит не возвращен        0.000753       0.483122  0.503466    0.012658\n",
       "СУММАРНО                   0.001800       0.455300  0.532133    0.010767"
      ]
     },
     "execution_count": 279,
     "metadata": {},
     "output_type": "execute_result"
    }
   ],
   "source": [
    "table = pd.crosstab(index=data['default'], \n",
    "                    columns=data['MARRIAGE'], \n",
    "                    margins=True, \n",
    "                    margins_name='СУММАРНО', \n",
    "                    normalize='index')\n",
    "\n",
    "table.index = np.append(list(default.values()), 'СУММАРНО')\n",
    "table.columns = list(MARRIAGE.values())\n",
    "\n",
    "table"
   ]
  },
  {
   "cell_type": "markdown",
   "metadata": {},
   "source": [
    "Из таблицы видно, что чаще всего кредит берут люди с семейным статусом 'замужем/женат' и 'холост'."
   ]
  },
  {
   "cell_type": "code",
   "execution_count": 554,
   "metadata": {},
   "outputs": [
    {
     "data": {
      "image/png": "[encoded data removed]",
      "text/plain": [
       "<Figure size 1440x864 with 4 Axes>"
      ]
     },
     "metadata": {
      "needs_background": "light"
     },
     "output_type": "display_data"
    }
   ],
   "source": [
    "fig, nx = pyplot.subplots(2, 2, figsize=(20,12))\n",
    "\n",
    "for index, label in zip(MARRIAGE.keys(), MARRIAGE.values()):\n",
    "    pyplot.subplot(2,2,index+1)\n",
    "    pyplot.hist(data[(data['default'] == 0) & (data['MARRIAGE'] == index)]['default'],\n",
    "                bins=3, color = 'g', label='Выплаченный кредит')\n",
    "    pyplot.hist(data[(data['default'] == 1) & (data['MARRIAGE'] == index)]['default'],\n",
    "                bins=3, color = 'r', label='Невыплаченный кредит')\n",
    "    pyplot.title(f'Распределение кредитных историй среди людей \\nс семейным статусом {label.upper()}')\n",
    "    pyplot.ylabel('Число кредитов')\n",
    "    pyplot.xlabel('Возврат кредита')\n",
    "    pyplot.xticks(list(default.keys()), list(default.values()))\n",
    "    pyplot.legend()\n",
    "\n",
    "pyplot.subplots_adjust(wspace=0.2, hspace=0.3)\n",
    "pyplot.show()"
   ]
  },
  {
   "cell_type": "code",
   "execution_count": 280,
   "metadata": {},
   "outputs": [
    {
     "data": {
      "text/html": [
       "<div>\n",
       "<style scoped>\n",
       "    .dataframe tbody tr th:only-of-type {\n",
       "        vertical-align: middle;\n",
       "    }\n",
       "\n",
       "    .dataframe tbody tr th {\n",
       "        vertical-align: top;\n",
       "    }\n",
       "\n",
       "    .dataframe thead th {\n",
       "        text-align: right;\n",
       "    }\n",
       "</style>\n",
       "<table border=\"1\" class=\"dataframe\">\n",
       "  <thead>\n",
       "    <tr style=\"text-align: right;\">\n",
       "      <th></th>\n",
       "      <th>отказ отвечать</th>\n",
       "      <th>замужем/женат</th>\n",
       "      <th>холост</th>\n",
       "      <th>нет данных</th>\n",
       "      <th>СУММАРНО</th>\n",
       "    </tr>\n",
       "  </thead>\n",
       "  <tbody>\n",
       "    <tr>\n",
       "      <td>кредит возвращен</td>\n",
       "      <td>0.907407</td>\n",
       "      <td>0.765283</td>\n",
       "      <td>0.790717</td>\n",
       "      <td>0.739938</td>\n",
       "      <td>0.7788</td>\n",
       "    </tr>\n",
       "    <tr>\n",
       "      <td>кредит не возвращен</td>\n",
       "      <td>0.092593</td>\n",
       "      <td>0.234717</td>\n",
       "      <td>0.209283</td>\n",
       "      <td>0.260062</td>\n",
       "      <td>0.2212</td>\n",
       "    </tr>\n",
       "  </tbody>\n",
       "</table>\n",
       "</div>"
      ],
      "text/plain": [
       "                     отказ отвечать  замужем/женат    холост  нет данных  \\\n",
       "кредит возвращен           0.907407       0.765283  0.790717    0.739938   \n",
       "кредит не возвращен        0.092593       0.234717  0.209283    0.260062   \n",
       "\n",
       "                     СУММАРНО  \n",
       "кредит возвращен       0.7788  \n",
       "кредит не возвращен    0.2212  "
      ]
     },
     "execution_count": 280,
     "metadata": {},
     "output_type": "execute_result"
    }
   ],
   "source": [
    "table = pd.crosstab(index=data['default'], \n",
    "                    columns=data['MARRIAGE'], \n",
    "                    margins=True, \n",
    "                    margins_name='СУММАРНО', \n",
    "                    normalize='columns')\n",
    "\n",
    "table.index = list(default.values())\n",
    "table.columns = np.append(list(MARRIAGE.values()), 'СУММАРНО')\n",
    "\n",
    "table"
   ]
  },
  {
   "cell_type": "markdown",
   "metadata": {},
   "source": [
    "Из таблицы видно, что люди с семейным статусом 'замужем/женат', 'холост', 'нет данных' возвращают кредит с вероятностью в интервале 0.74-0.79 с небольшой разницей. Отказавшиеся раскрывать свой семейный статус люди возвращают кредиты с вероятностью более 90%. Это может объясняться тем, что не желают раскрывать свой семейный статус люди с высоким уровнем достатка."
   ]
  },
  {
   "cell_type": "markdown",
   "metadata": {},
   "source": [
    "#### 4.2 Коэффициент V Крамера"
   ]
  },
  {
   "cell_type": "markdown",
   "metadata": {},
   "source": [
    "$H_0:\\varphi_c\\left(X_1^n,\\ X_2^n\\right)=0$\n",
    "\n",
    "$H_1:\\varphi_c\\left(X_1^n,\\ X_2^n\\right)\\neq0$"
   ]
  },
  {
   "cell_type": "code",
   "execution_count": 551,
   "metadata": {},
   "outputs": [
    {
     "data": {
      "text/html": [
       "<div>\n",
       "<style scoped>\n",
       "    .dataframe tbody tr th:only-of-type {\n",
       "        vertical-align: middle;\n",
       "    }\n",
       "\n",
       "    .dataframe tbody tr th {\n",
       "        vertical-align: top;\n",
       "    }\n",
       "\n",
       "    .dataframe thead th {\n",
       "        text-align: right;\n",
       "    }\n",
       "</style>\n",
       "<table border=\"1\" class=\"dataframe\">\n",
       "  <thead>\n",
       "    <tr style=\"text-align: right;\">\n",
       "      <th></th>\n",
       "      <th>отказ отвечать</th>\n",
       "      <th>замужем/женат</th>\n",
       "      <th>холост</th>\n",
       "      <th>нет данных</th>\n",
       "    </tr>\n",
       "  </thead>\n",
       "  <tbody>\n",
       "    <tr>\n",
       "      <td>кредит возвращен</td>\n",
       "      <td>49</td>\n",
       "      <td>10453</td>\n",
       "      <td>12623</td>\n",
       "      <td>239</td>\n",
       "    </tr>\n",
       "    <tr>\n",
       "      <td>кредит не возвращен</td>\n",
       "      <td>5</td>\n",
       "      <td>3206</td>\n",
       "      <td>3341</td>\n",
       "      <td>84</td>\n",
       "    </tr>\n",
       "  </tbody>\n",
       "</table>\n",
       "</div>"
      ],
      "text/plain": [
       "                     отказ отвечать  замужем/женат  холост  нет данных\n",
       "кредит возвращен                 49          10453   12623         239\n",
       "кредит не возвращен               5           3206    3341          84"
      ]
     },
     "execution_count": 551,
     "metadata": {},
     "output_type": "execute_result"
    }
   ],
   "source": [
    "crosstab = pd.crosstab(index=data['default'], \n",
    "                       columns=data['MARRIAGE'])\n",
    "\n",
    "crosstab.index = list(default.values())\n",
    "crosstab.columns = list(MARRIAGE.values())\n",
    "\n",
    "crosstab"
   ]
  },
  {
   "cell_type": "code",
   "execution_count": 552,
   "metadata": {},
   "outputs": [
    {
     "name": "stdout",
     "output_type": "stream",
     "text": [
      "statistic:35.66239583433609\n",
      "p-value:8.825862457577375e-08\n"
     ]
    }
   ],
   "source": [
    "# Проверка статистической значимости гипотезы с помощью критерия хи-квадрат\n",
    "contingency = chi2_contingency(np.array(crosstab))\n",
    "print(f'statistic:{contingency[0]}')\n",
    "print(f'p-value:{contingency[1]}')"
   ]
  },
  {
   "cell_type": "markdown",
   "metadata": {},
   "source": [
    "Значение p-value значительно меньше 0.05, что позволяет отвергнуть нулевую гипотезу на уровне значимости 0.05. Корреляция между семейным статусом и вероятностью возврата кредита является статистически значимой."
   ]
  },
  {
   "cell_type": "markdown",
   "metadata": {},
   "source": [
    "$$\\varphi_c\\left(X_1^n,\\ X_2^n\\right)=\\sqrt{\\frac{\\chi^2\\left(X_1^n,\\ X_2^n\\right)}{n\\ \\left(\\min{\\left(K_1,\\ K_2\\right)}-1\\right)}}$$"
   ]
  },
  {
   "cell_type": "code",
   "execution_count": 553,
   "metadata": {},
   "outputs": [
    {
     "name": "stdout",
     "output_type": "stream",
     "text": [
      "0.034478203662766466\n"
     ]
    }
   ],
   "source": [
    "v_kramer = np.sqrt(contingency[0] / (np.sum(np.array(crosstab)) * (np.min(np.array(crosstab).shape) - 1)))\n",
    "print(v_kramer)"
   ]
  },
  {
   "cell_type": "markdown",
   "metadata": {},
   "source": [
    "Значение коэффициента Крамера свидетельствует о наличии корреляции между семейным статусом и вероятностью возврата кредита."
   ]
  },
  {
   "cell_type": "markdown",
   "metadata": {},
   "source": [
    "### Задача 5"
   ]
  },
  {
   "cell_type": "markdown",
   "metadata": {},
   "source": [
    "Относительно двух групп людей вернувших и не вернувших кредит проверить следующие гипотезы: \n",
    "    \n",
    "    a) о равенстве медианных значений возрастов людей (`AGE`)\n",
    "    b) о равенстве распределений с помощью одного из подходящих непараметрических критериев проверки равенства средних"
   ]
  },
  {
   "cell_type": "markdown",
   "metadata": {},
   "source": [
    "#### 5.1 Точечная оценка"
   ]
  },
  {
   "cell_type": "code",
   "execution_count": 58,
   "metadata": {
    "scrolled": true
   },
   "outputs": [
    {
     "data": {
      "image/png": "[encoded data removed]",
      "text/plain": [
       "<Figure size 1440x432 with 1 Axes>"
      ]
     },
     "metadata": {
      "needs_background": "light"
     },
     "output_type": "display_data"
    }
   ],
   "source": [
    "fig, nx = pyplot.subplots(figsize=(20,6))\n",
    "\n",
    "sns.boxplot(y='default', x='AGE', data=data, orient='h')\n",
    "\n",
    "pyplot.title(f'Распределение возраста при выплаченном и невыплаченном кредитах')\n",
    "pyplot.ylabel('Выплата / невыплата кредита')\n",
    "pyplot.xlabel('Возраст')\n",
    "pyplot.yticks(list(default.keys()), list(default.values()))\n",
    "pyplot.ylim(1.5, -0.5)\n",
    "    \n",
    "pyplot.show()"
   ]
  },
  {
   "cell_type": "markdown",
   "metadata": {},
   "source": [
    "По boxplot видно: \n",
    "* области интерквантильных размахов [25%-й квантиль, 75%-й квантиль] пересекаются и практически совпадают;\n",
    "* медиана возраста при выплаченных и невыплаченных совпадает;\n",
    "* возраст в обоих случаях выплаты имеет тяжелые хвосты, выходящие за  1.5-ый интерквартильный размах в большую сторону "
   ]
  },
  {
   "cell_type": "code",
   "execution_count": 59,
   "metadata": {
    "scrolled": true
   },
   "outputs": [
    {
     "data": {
      "image/png": "[encoded data removed]",
      "text/plain": [
       "<Figure size 1440x432 with 2 Axes>"
      ]
     },
     "metadata": {
      "needs_background": "light"
     },
     "output_type": "display_data"
    }
   ],
   "source": [
    "fig, nx = pyplot.subplots(1, 2, figsize=(20,6))\n",
    "\n",
    "pyplot.subplot(1,2,1)\n",
    "pyplot.hist(data[data['default'] == 0]['AGE'], bins=50, color = 'r', label='Выплаченный кредит')\n",
    "pyplot.axvline(np.median(data[data['default'] == 0]['AGE']), color='y', linestyle='dashed', linewidth=3)\n",
    "pyplot.title(f'Распределение возраста при выплаченном кредите')\n",
    "pyplot.ylabel('Число случаев выплаченных кредитов')\n",
    "pyplot.xlabel('Возраст')\n",
    "pyplot.legend()\n",
    "\n",
    "pyplot.subplot(1,2,2)\n",
    "pyplot.hist(data[data['default'] == 1]['AGE'], bins=50, color = 'b', label='Невыплаченный кредит')\n",
    "pyplot.axvline(np.median(data[data['default'] == 1]['AGE']), color='y', linestyle='dashed', linewidth=3)\n",
    "pyplot.title(f'Распределение возраста при невыплаченном кредите')\n",
    "pyplot.ylabel('Число случаев невыплаченных кредитов')\n",
    "pyplot.xlabel('Возраст')\n",
    "pyplot.legend()\n",
    "\n",
    "pyplot.show()"
   ]
  },
  {
   "cell_type": "markdown",
   "metadata": {},
   "source": [
    "По гистограммам размеров кредитных лимитов при обоих вариантах выплыт видно:\n",
    "* максимальный возраст людей, выплативших кредит, выше такового для невыплативших;\n",
    "* пик выплат приходится на возраст 30 лет;\n",
    "* пик невыплат приходится на возраст 25 лет."
   ]
  },
  {
   "cell_type": "markdown",
   "metadata": {},
   "source": [
    "#### 5.2 Проверка гипотезы о равенстве медианных значений возраста в группах людей, кто вернул кредит и тех, кто его не вернул"
   ]
  },
  {
   "cell_type": "markdown",
   "metadata": {},
   "source": [
    "$H_0$: $med_{default=0}=med_{default=1}$\n",
    "\n",
    "$H_1$: $med_{default=0}\\neq med_{default=1}$"
   ]
  },
  {
   "cell_type": "markdown",
   "metadata": {},
   "source": [
    "Применим интервальную оценку медианы для каждой из двух выборок"
   ]
  },
  {
   "cell_type": "code",
   "execution_count": 86,
   "metadata": {},
   "outputs": [
    {
     "name": "stdout",
     "output_type": "stream",
     "text": [
      "95% confidence interval for data_0: [34. 34.]\n",
      "95% confidence interval for data_1: [34. 35.]\n"
     ]
    }
   ],
   "source": [
    "# В качестве статистики используется медиана (np.median)\n",
    "np.random.seed(0)\n",
    "\n",
    "data_0 = data[data['default'] == 0]['AGE'].values\n",
    "data_1 = data[data['default'] == 1]['AGE'].values\n",
    "\n",
    "# Получение списков статистик (медиан)\n",
    "# Количество подвыборок задается одинаковым не смотря на разницу в объемах данных для различных групп\n",
    "data_0_median_scores = list(map(np.median, get_bootstrap_samples(data_0, 10000)))\n",
    "data_1_median_scores = list(map(np.median, get_bootstrap_samples(data_1, 10000)))\n",
    "\n",
    "# По набору статистик строится 95%-ый доверительный интервал статистики\n",
    "print(\"95% confidence interval for data_0:\",  stat_intervals(data_0_median_scores, 0.05))\n",
    "print(\"95% confidence interval for data_1:\",  stat_intervals(data_1_median_scores, 0.05))"
   ]
  },
  {
   "cell_type": "markdown",
   "metadata": {},
   "source": [
    "По полученным оценкам видно, что медианная величина возраста в группах людей, не выплативших кредит, выше, чем таковая для людей, выплативших кредит."
   ]
  },
  {
   "cell_type": "markdown",
   "metadata": {},
   "source": [
    "Для получения более точных данных применим интервальную оценку разности медиан двух выборок"
   ]
  },
  {
   "cell_type": "code",
   "execution_count": 67,
   "metadata": {},
   "outputs": [],
   "source": [
    "delta_median_scores = list(map(lambda x: x[0] - x[1], zip(data_0_median_scores, data_1_median_scores)))"
   ]
  },
  {
   "cell_type": "code",
   "execution_count": 68,
   "metadata": {},
   "outputs": [
    {
     "name": "stdout",
     "output_type": "stream",
     "text": [
      "95% confidence interval for the difference between medians [-1.  0.]\n"
     ]
    }
   ],
   "source": [
    "print(\"95% confidence interval for the difference between medians\",  stat_intervals(delta_median_scores, 0.05))"
   ]
  },
  {
   "cell_type": "markdown",
   "metadata": {},
   "source": [
    "**Таким образом видно, что разница между медианными значениями величины возраста в группах людей, не выплативших кредит, и людей, выплативших кредит, находится в диапазоне [0. 1.]. Медиана возраста при не выплаченных кредитах больше таковой при выплаченных.**"
   ]
  },
  {
   "cell_type": "markdown",
   "metadata": {},
   "source": [
    "Данная разница не является значимой с практической точки зрения."
   ]
  },
  {
   "cell_type": "markdown",
   "metadata": {},
   "source": [
    "#### 5.3 Проверка гипотезы о равенстве распределений значений возраста в группах людей, кто вернул кредит и тех, кто его не вернул"
   ]
  },
  {
   "cell_type": "markdown",
   "metadata": {},
   "source": [
    "**Перестановочный критерий**"
   ]
  },
  {
   "cell_type": "markdown",
   "metadata": {},
   "source": [
    "Нулевая гипотеза: функции распределения для первой и второй выборки одинаковы.\n",
    "\n",
    "Альтернативная гипотеза: функция распределения одной выборки получается сдвигом на некоторую дельту из функции распределения на другой выборке.\n",
    "\n",
    "\n",
    "$H_0\\colon F_{X_1}(x) = F_{X_2}(x)$\n",
    "\n",
    "$H_1\\colon F_{X_1}(x) = F_{X_2}(x + \\Delta), \\Delta\\neq 0$"
   ]
  },
  {
   "cell_type": "code",
   "execution_count": 89,
   "metadata": {},
   "outputs": [
    {
     "name": "stdout",
     "output_type": "stream",
     "text": [
      "p-value: 0.016100\n"
     ]
    }
   ],
   "source": [
    "# p-value при ограничении на количество перестановок в 10000\n",
    "print(\"p-value: %f\" % permutation_test(data_0, data_1, max_permutations = 10000))"
   ]
  },
  {
   "cell_type": "markdown",
   "metadata": {},
   "source": [
    "Значение p-value меньше 0.05, что позволяет отвергнуть нулевую гипотезу на уровне значимости 0.05. **Распределение значений возраста в группах людей, кто вернул кредит и тех, кто его не вернул отличаются.**"
   ]
  },
  {
   "cell_type": "markdown",
   "metadata": {},
   "source": [
    "**Ранговый критерий Манна-Уитни**"
   ]
  },
  {
   "cell_type": "markdown",
   "metadata": {},
   "source": [
    "Нулевая гипотеза: вероятность того, что значение из первой выборки будет больше, чем значение из второй выборки, равна вероятности того, что значение из второй выборки будет больше, чем значение из первой выборки.\n",
    "\n",
    "Альтернативная гипотеза: не равна.\n",
    "\n",
    "\n",
    "$H_0\\colon F_{X_1}(x) = F_{X_2}(x)$\n",
    "\n",
    "$H_1\\colon F_{X_1}(x) = F_{X_2}(x + \\Delta), \\Delta\\neq 0$"
   ]
  },
  {
   "cell_type": "code",
   "execution_count": 90,
   "metadata": {},
   "outputs": [
    {
     "data": {
      "text/plain": [
       "MannwhitneyuResult(statistic=76966879.5, pvalue=0.1862517717449308)"
      ]
     },
     "execution_count": 90,
     "metadata": {},
     "output_type": "execute_result"
    }
   ],
   "source": [
    "stats.mannwhitneyu(data_0, data_1)"
   ]
  },
  {
   "cell_type": "markdown",
   "metadata": {},
   "source": [
    "p-value больше 0.05, что не позволяет отвергнуть нулевую гипотезу, нельзя сказать, что распределения значений возраста в группах людей, кто вернул кредит и тех, кто его не вернул отличаются."
   ]
  },
  {
   "cell_type": "markdown",
   "metadata": {},
   "source": [
    "Перестановочный критерий и Ранговый критерий Манна-Уитни дали противоположные результаты. Однако, поскольку Перестановочный критерий теряет меньше информации, чем Ранговый критерий Манна-Уитни, следует доверять его значению."
   ]
  }
 ],
 "metadata": {
  "hide_input": false,
  "kernelspec": {
   "display_name": "Python 3",
   "language": "python",
   "name": "python3"
  },
  "language_info": {
   "codemirror_mode": {
    "name": "ipython",
    "version": 3
   },
   "file_extension": ".py",
   "mimetype": "text/x-python",
   "name": "python",
   "nbconvert_exporter": "python",
   "pygments_lexer": "ipython3",
   "version": "3.7.4"
  },
  "toc": {
   "base_numbering": 1,
   "nav_menu": {},
   "number_sections": false,
   "sideBar": true,
   "skip_h1_title": false,
   "title_cell": "Table of Contents",
   "title_sidebar": "Contents",
   "toc_cell": false,
   "toc_position": {
    "height": "calc(100% - 180px)",
    "left": "10px",
    "top": "150px",
    "width": "384px"
   },
   "toc_section_display": true,
   "toc_window_display": true
  },
  "varInspector": {
   "cols": {
    "lenName": 16,
    "lenType": 16,
    "lenVar": 40
   },
   "kernels_config": {
    "python": {
     "delete_cmd_postfix": "",
     "delete_cmd_prefix": "del ",
     "library": "var_list.py",
     "varRefreshCmd": "print(var_dic_list())"
    },
    "r": {
     "delete_cmd_postfix": ") ",
     "delete_cmd_prefix": "rm(",
     "library": "var_list.r",
     "varRefreshCmd": "cat(var_dic_list()) "
    }
   },
   "position": {
    "height": "144px",
    "left": "1548px",
    "right": "20px",
    "top": "68px",
    "width": "350px"
   },
   "types_to_exclude": [
    "module",
    "function",
    "builtin_function_or_method",
    "instance",
    "_Feature"
   ],
   "window_display": true
  }
 },
 "nbformat": 4,
 "nbformat_minor": 2
}
