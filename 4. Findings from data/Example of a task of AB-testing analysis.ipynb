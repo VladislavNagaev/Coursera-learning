{
 "cells": [
  {
   "cell_type": "markdown",
   "metadata": {},
   "source": [
    "# Задача анализа результатов АБ-теста"
   ]
  },
  {
   "cell_type": "markdown",
   "metadata": {},
   "source": [
    "**Необходимо:**\n",
    "\n",
    "    1. Проанализировать АБ тест, проведенный на реальных пользователях Яндекса;\n",
    "    2. Подтвердить или опровергнуть наличие изменений в пользовательском поведении между контрольной (`control`) и тестовой (`exp`) группами;\n",
    "    3. Определить характер этих изменений и практическую значимость вводимого изменения;\n",
    "    4. Понять, какая из пользовательских групп более всего проигрывает / выигрывает от тестируемого изменения (локализовать изменение)."
   ]
  },
  {
   "cell_type": "markdown",
   "metadata": {},
   "source": [
    "__Описание данных:__\n",
    "* `userID`: уникальный идентификатор пользователя;\n",
    "* `browser`: браузер, который использовал `userID`;\n",
    "* `slot`: в каком статусе пользователь участвовал в исследовании (`exp` = видел измененную страницу, `control` = видел неизменную страницу);\n",
    "* `n_clicks`: количество кликов, которые пользоваль совершил за `n_queries`;\n",
    "* `n_queries`: количество запросов, который совершил `userID`, пользуясь браузером `browser`;\n",
    "* `n_nonclk_queries`: количество запросов пользователя, в которых им не было совершено ни одного клика.\n",
    "\n",
    "Не все люди используют только один браузер, поэтому в столбце `userID` есть повторяющиеся идентификаторы. В предлагаемых данных уникальным является сочетание `userID` и `browser`."
   ]
  },
  {
   "cell_type": "markdown",
   "metadata": {},
   "source": [
    "Основная метрика в данной задаче, —  количество пользовательских кликов на web-странице в зависимости от тестируемого изменения этой страницы."
   ]
  },
  {
   "cell_type": "code",
   "execution_count": 1,
   "metadata": {},
   "outputs": [],
   "source": [
    "%matplotlib inline\n",
    "\n",
    "import matplotlib\n",
    "matplotlib.style.use('ggplot')\n",
    "\n",
    "from matplotlib import pyplot\n",
    "\n",
    "import numpy as np\n",
    "import pandas as pd\n",
    "import seaborn as sns\n",
    "\n",
    "import scipy\n",
    "\n",
    "import warnings\n",
    "warnings.filterwarnings('ignore')"
   ]
  },
  {
   "cell_type": "code",
   "execution_count": 2,
   "metadata": {},
   "outputs": [],
   "source": [
    "data = pd.read_csv(\"ab_browser_test.csv\", header=0) "
   ]
  },
  {
   "cell_type": "code",
   "execution_count": 3,
   "metadata": {},
   "outputs": [
    {
     "data": {
      "text/html": [
       "<div>\n",
       "<style scoped>\n",
       "    .dataframe tbody tr th:only-of-type {\n",
       "        vertical-align: middle;\n",
       "    }\n",
       "\n",
       "    .dataframe tbody tr th {\n",
       "        vertical-align: top;\n",
       "    }\n",
       "\n",
       "    .dataframe thead th {\n",
       "        text-align: right;\n",
       "    }\n",
       "</style>\n",
       "<table border=\"1\" class=\"dataframe\">\n",
       "  <thead>\n",
       "    <tr style=\"text-align: right;\">\n",
       "      <th></th>\n",
       "      <th>userID</th>\n",
       "      <th>browser</th>\n",
       "      <th>slot</th>\n",
       "      <th>n_clicks</th>\n",
       "      <th>n_queries</th>\n",
       "      <th>n_nonclk_queries</th>\n",
       "    </tr>\n",
       "  </thead>\n",
       "  <tbody>\n",
       "    <tr>\n",
       "      <td>0</td>\n",
       "      <td>1</td>\n",
       "      <td>Browser #2</td>\n",
       "      <td>exp</td>\n",
       "      <td>23</td>\n",
       "      <td>32</td>\n",
       "      <td>19</td>\n",
       "    </tr>\n",
       "    <tr>\n",
       "      <td>1</td>\n",
       "      <td>3</td>\n",
       "      <td>Browser #4</td>\n",
       "      <td>exp</td>\n",
       "      <td>3</td>\n",
       "      <td>4</td>\n",
       "      <td>2</td>\n",
       "    </tr>\n",
       "    <tr>\n",
       "      <td>2</td>\n",
       "      <td>5</td>\n",
       "      <td>Browser #4</td>\n",
       "      <td>exp</td>\n",
       "      <td>29</td>\n",
       "      <td>35</td>\n",
       "      <td>16</td>\n",
       "    </tr>\n",
       "    <tr>\n",
       "      <td>3</td>\n",
       "      <td>6</td>\n",
       "      <td>Browser #4</td>\n",
       "      <td>control</td>\n",
       "      <td>12</td>\n",
       "      <td>6</td>\n",
       "      <td>0</td>\n",
       "    </tr>\n",
       "    <tr>\n",
       "      <td>4</td>\n",
       "      <td>7</td>\n",
       "      <td>Browser #4</td>\n",
       "      <td>exp</td>\n",
       "      <td>54</td>\n",
       "      <td>68</td>\n",
       "      <td>30</td>\n",
       "    </tr>\n",
       "    <tr>\n",
       "      <td>...</td>\n",
       "      <td>...</td>\n",
       "      <td>...</td>\n",
       "      <td>...</td>\n",
       "      <td>...</td>\n",
       "      <td>...</td>\n",
       "      <td>...</td>\n",
       "    </tr>\n",
       "    <tr>\n",
       "      <td>566129</td>\n",
       "      <td>603133</td>\n",
       "      <td>Browser #14</td>\n",
       "      <td>control</td>\n",
       "      <td>1</td>\n",
       "      <td>2</td>\n",
       "      <td>1</td>\n",
       "    </tr>\n",
       "    <tr>\n",
       "      <td>566130</td>\n",
       "      <td>603134</td>\n",
       "      <td>Browser #2</td>\n",
       "      <td>exp</td>\n",
       "      <td>4</td>\n",
       "      <td>2</td>\n",
       "      <td>0</td>\n",
       "    </tr>\n",
       "    <tr>\n",
       "      <td>566131</td>\n",
       "      <td>603135</td>\n",
       "      <td>Browser #4</td>\n",
       "      <td>control</td>\n",
       "      <td>0</td>\n",
       "      <td>1</td>\n",
       "      <td>1</td>\n",
       "    </tr>\n",
       "    <tr>\n",
       "      <td>566132</td>\n",
       "      <td>603136</td>\n",
       "      <td>Browser #4</td>\n",
       "      <td>control</td>\n",
       "      <td>2</td>\n",
       "      <td>3</td>\n",
       "      <td>1</td>\n",
       "    </tr>\n",
       "    <tr>\n",
       "      <td>566133</td>\n",
       "      <td>603137</td>\n",
       "      <td>Browser #2</td>\n",
       "      <td>exp</td>\n",
       "      <td>3</td>\n",
       "      <td>1</td>\n",
       "      <td>0</td>\n",
       "    </tr>\n",
       "  </tbody>\n",
       "</table>\n",
       "<p>566134 rows × 6 columns</p>\n",
       "</div>"
      ],
      "text/plain": [
       "        userID      browser     slot  n_clicks  n_queries  n_nonclk_queries\n",
       "0            1   Browser #2      exp        23         32                19\n",
       "1            3   Browser #4      exp         3          4                 2\n",
       "2            5   Browser #4      exp        29         35                16\n",
       "3            6   Browser #4  control        12          6                 0\n",
       "4            7   Browser #4      exp        54         68                30\n",
       "...        ...          ...      ...       ...        ...               ...\n",
       "566129  603133  Browser #14  control         1          2                 1\n",
       "566130  603134   Browser #2      exp         4          2                 0\n",
       "566131  603135   Browser #4  control         0          1                 1\n",
       "566132  603136   Browser #4  control         2          3                 1\n",
       "566133  603137   Browser #2      exp         3          1                 0\n",
       "\n",
       "[566134 rows x 6 columns]"
      ]
     },
     "execution_count": 3,
     "metadata": {},
     "output_type": "execute_result"
    }
   ],
   "source": [
    "data"
   ]
  },
  {
   "cell_type": "markdown",
   "metadata": {},
   "source": [
    "**1. Посчитаем, насколько в группе `exp` больше пользовательских кликов по сравнению с группой `control` в процентах от числа кликов в контрольной группе.**"
   ]
  },
  {
   "cell_type": "code",
   "execution_count": 134,
   "metadata": {},
   "outputs": [
    {
     "data": {
      "text/plain": [
       "1.6135689824415809"
      ]
     },
     "execution_count": 134,
     "metadata": {},
     "output_type": "execute_result"
    }
   ],
   "source": [
    "(np.sum(data[data['slot'] == 'exp']['n_clicks']) - np.sum(data[data['slot'] == 'control']['n_clicks'])) / \\\n",
    "np.sum(data[data['slot'] == 'control']['n_clicks'])*100"
   ]
  },
  {
   "cell_type": "markdown",
   "metadata": {},
   "source": [
    "Видно, что разница между количеством пользовательских кликов отличается на 1.6%."
   ]
  },
  {
   "cell_type": "markdown",
   "metadata": {},
   "source": [
    "**2. Проведем более детальный анализ разницы между двумя группами (control и exp) относительно количества пользовательских кликов.**\n",
    "\n",
    "Для этого построим с помощью бутстрепа 95% доверительный интервал для средних значений и медиан количества кликов в каждой из двух групп."
   ]
  },
  {
   "cell_type": "markdown",
   "metadata": {},
   "source": [
    "**Проверка гипотезы о равенстве медианных и средних значений количества кликов в тестовой и контрольной выборках.**"
   ]
  },
  {
   "cell_type": "markdown",
   "metadata": {},
   "source": [
    "$H_0$: $med_{slot=exp}=med_{slot=control}$\n",
    "\n",
    "$H_1$: $med_{slot=exp}\\neq med_{slot=control}$"
   ]
  },
  {
   "cell_type": "markdown",
   "metadata": {},
   "source": [
    "$H_0$: $mean_{slot=exp}=mean_{slot=control}$\n",
    "\n",
    "$H_1$: $mean_{slot=exp}\\neq mean_{slot=control}$"
   ]
  },
  {
   "cell_type": "markdown",
   "metadata": {},
   "source": [
    "**Применим интервальную оценку статистик для каждой из двух выборок**"
   ]
  },
  {
   "cell_type": "code",
   "execution_count": 19,
   "metadata": {
    "code_folding": [
     2,
     15
    ]
   },
   "outputs": [],
   "source": [
    "# Bootstrap\n",
    "\n",
    "def get_bootstrap_samples(data, n_samples):\n",
    "    \n",
    "    \"\"\"Возвращает заданное количество подвыборок n_samples сгенерированных на основе генеральной выборки data\"\"\"\n",
    "    \n",
    "    # Генерируется n_samples наборов индексов из доступного (исходного) диапазона. \n",
    "    indices = np.random.randint(0, len(data), (n_samples, len(data)))\n",
    "    \n",
    "    # Набор индексов применяется к исходным данным для получения непосредственных подвыборок.\n",
    "    samples = data[indices]\n",
    "    \n",
    "    return samples\n",
    "\n",
    "\n",
    "def stat_intervals(stat, alpha):\n",
    "    \"\"\"Возвращает границы доверительного интервала по значению статистики stat и уровня значимости alpha\"\"\"\n",
    "    boundaries = np.percentile(stat, [100 * alpha / 2, 100 * (1 - alpha / 2)])\n",
    "    return boundaries"
   ]
  },
  {
   "cell_type": "code",
   "execution_count": 21,
   "metadata": {},
   "outputs": [],
   "source": [
    "data_0 = data[data['slot'] == 'exp']['n_clicks'].values\n",
    "data_1 = data[data['slot'] == 'control']['n_clicks'].values"
   ]
  },
  {
   "cell_type": "code",
   "execution_count": 23,
   "metadata": {},
   "outputs": [
    {
     "name": "stdout",
     "output_type": "stream",
     "text": [
      "95% confidence interval for data_0: [5. 5.]\n",
      "95% confidence interval for data_1: [4. 4.]\n"
     ]
    }
   ],
   "source": [
    "# В качестве статистики используется медиана (np.median)\n",
    "np.random.seed(0)\n",
    "\n",
    "# Получение списков статистик (медиан)\n",
    "# Количество подвыборок задается одинаковым не смотря на разницу в объемах данных для различных групп\n",
    "data_0_median_scores = list(map(np.median, get_bootstrap_samples(data_0, 1000)))\n",
    "data_1_median_scores = list(map(np.median, get_bootstrap_samples(data_1, 1000)))\n",
    "\n",
    "# По набору статистик строится 95%-ый доверительный интервал статистики\n",
    "print(\"95% confidence interval for data_0:\",  stat_intervals(data_0_median_scores, 0.05))\n",
    "print(\"95% confidence interval for data_1:\",  stat_intervals(data_1_median_scores, 0.05))"
   ]
  },
  {
   "cell_type": "markdown",
   "metadata": {},
   "source": [
    "По доверительным интервалам на медианы видно, что медианное значение количества кликов в тестовой выборке выше, чем медианное значение количества кликов в контрольной выборке."
   ]
  },
  {
   "cell_type": "code",
   "execution_count": 25,
   "metadata": {},
   "outputs": [
    {
     "name": "stdout",
     "output_type": "stream",
     "text": [
      "95% confidence interval for data_0: [11.5086867  11.66089388]\n",
      "95% confidence interval for data_1: [11.20795095 11.35742732]\n"
     ]
    }
   ],
   "source": [
    "# В качестве статистики используется среднее (np.mean)\n",
    "np.random.seed(0)\n",
    "\n",
    "# Получение списков статистик (средних)\n",
    "# Количество подвыборок задается одинаковым не смотря на разницу в объемах данных для различных групп\n",
    "data_0_mean_scores = list(map(np.mean, get_bootstrap_samples(data_0, 1000)))\n",
    "data_1_mean_scores = list(map(np.mean, get_bootstrap_samples(data_1, 1000)))\n",
    "\n",
    "# По набору статистик строится 95%-ый доверительный интервал статистики\n",
    "print(\"95% confidence interval for data_0:\",  stat_intervals(data_0_mean_scores, 0.05))\n",
    "print(\"95% confidence interval for data_1:\",  stat_intervals(data_1_mean_scores, 0.05))"
   ]
  },
  {
   "cell_type": "markdown",
   "metadata": {},
   "source": [
    "По доверительным интервалам на средние видно, что среднее значение количества кликов в тестовой выборке выше, чем среднее значение количества кликов в контрольной выборке."
   ]
  },
  {
   "cell_type": "markdown",
   "metadata": {},
   "source": [
    "**Для получения более точных данных применим интервальную оценку разности статистик двух выборок**"
   ]
  },
  {
   "cell_type": "code",
   "execution_count": 26,
   "metadata": {},
   "outputs": [
    {
     "name": "stdout",
     "output_type": "stream",
     "text": [
      "95% confidence interval for the difference between medians [1. 1.]\n"
     ]
    }
   ],
   "source": [
    "delta_median_scores = list(map(lambda x: x[0] - x[1], zip(data_0_median_scores, data_1_median_scores)))\n",
    "print(\"95% confidence interval for the difference between medians\",  stat_intervals(delta_median_scores, 0.05))"
   ]
  },
  {
   "cell_type": "markdown",
   "metadata": {},
   "source": [
    "По доверительному интервалу на разность медиан видно, что медианное значение количества кликов в тестовой выборке выше, чем медианное значение количества кликов в контрольной выборке на величину в диапазоне [1. 1.]. "
   ]
  },
  {
   "cell_type": "code",
   "execution_count": 27,
   "metadata": {},
   "outputs": [
    {
     "name": "stdout",
     "output_type": "stream",
     "text": [
      "95% confidence interval for the difference between medians [0.19172563 0.40475697]\n"
     ]
    }
   ],
   "source": [
    "delta_mean_scores = list(map(lambda x: x[0] - x[1], zip(data_0_mean_scores, data_1_mean_scores)))\n",
    "print(\"95% confidence interval for the difference between medians\",  stat_intervals(delta_mean_scores, 0.05))"
   ]
  },
  {
   "cell_type": "markdown",
   "metadata": {},
   "source": [
    "По доверительному интервалу на разность средних видно, что среднее значение количества кликов в тестовой выборке выше, чем среднее значение количества кликов в контрольной выборке на величину в диапазоне [0.19172563 0.40475697]. "
   ]
  },
  {
   "cell_type": "markdown",
   "metadata": {},
   "source": [
    "* 95% доверительный интервал для разности медиан не содержит ноль, похоже, медианы отличаются статистически значимо\n",
    "* 95% доверительный интервал для разности средних не содержит ноль, средние отличаются статистически значимо"
   ]
  },
  {
   "cell_type": "markdown",
   "metadata": {},
   "source": [
    "**3. Поскольку данных достаточно много (порядка полумиллиона уникальных пользователей), отличие в несколько процентов может быть не только практически значимым, но и значимым статистически. Проверим последнее утверждение.**"
   ]
  },
  {
   "cell_type": "markdown",
   "metadata": {},
   "source": [
    "Одновыборочный t-критерий Стьюдента. \n",
    "\n",
    "Его статистика имеет вид $\\frac{\\bar{X} - \\mu}{ \\sqrt {S^2 / n}}$, то есть чтобы действительно предположения t-критерия выполнялись необходимо, чтобы:\n",
    "\n",
    "* $\\bar{X}$ — среднее значение в выборке — было распределено нормально $N(μ,\\frac{σ_2}{n})$\n",
    "* $\\frac{n}{σ_2}S_2$ — несмещенная оценка дисперсии c масштабирующим коэффициентом — была распределена по хи-квадрат c $n−1$ степенями свободы $χ2(n−1)$\n",
    "\n",
    "Проверим эти предположения с помощью бутстрепа. Ограничимся контрольной группой, в которой распределение кликов будем называть данными."
   ]
  },
  {
   "cell_type": "markdown",
   "metadata": {},
   "source": [
    "**Пояснения**\n",
    "\n",
    "В исходной постановке t-критерий требует нормальности распределения $X_i$. Именно из-за этого предположения мы имеем, что $\\sum_i X_i \\sim \\mathcal{N}(n \\mu, n\\sigma^2 )$ в силу линейности матожидания, независимости всех $X_i$ между собой и того факта, что сумма нескольких нормальных случайных величин также нормальна.\n",
    "\n",
    "Поэтому, пользуясь опять формальными свойствами матожидания и дисперсии можем записать, что $\\frac{1}{n} \\sum_i X_i - \\mu ~\\sim~ \\mathcal{N}(0, \\frac{\\sigma^2}{n} )$\n",
    "\n",
    "Следующие распределения эквивалентны $\\mathcal{N} (0, \\frac{\\sigma^2}{n}) \\sim \\sqrt{\\frac{\\sigma^2}{n}} \\mathcal{N}(0, 1)$\n",
    "\n",
    "То есть другими словами мы получили, что исходная статистика $\\frac{\\bar{X} - \\mu}{ \\sqrt {S^2 / n}}$ распределена как $\\frac{ \\mathcal{N}(0, 1) } { \\sqrt { \\frac{S^2n} { n \\sigma^2} } } ~\\sim~ \\frac{ \\mathcal{N}(0, 1) } { \\sqrt { \\frac{S^2} { \\sigma^2} } }$\n",
    "\n",
    "Распределение Стьюдента с $n-1$ степенями свободы определяется как $\\frac{ \\mathcal{N}(0, 1) } { \\sqrt { \\chi^2 / (n-1) } } $.\n",
    "\n",
    "Можно подставить в числитель и знаменатель любые случайные величины, распределенные по нормальному закону и по Хи-квадрат соответственно, для этого необязательно, чтобы именно $X_i$ были распределены нормально. Поэтому, если мы убедимся в том, что, действительно, числитель и знаменатель распределены образом, указанным выше, то можно смело использовать t-критерий Стьюдента."
   ]
  },
  {
   "cell_type": "markdown",
   "metadata": {},
   "source": [
    "Поскольку мы не знаем истинного распределения генеральной совокупности, мы можем применить бутстреп, чтобы понять, как распределены среднее значение и выборочная дисперсия. Для этого"
   ]
  },
  {
   "cell_type": "code",
   "execution_count": 66,
   "metadata": {},
   "outputs": [],
   "source": [
    "np.random.seed(0)\n",
    "n_boot_samples = 500\n",
    "n = data_1.shape[0]\n",
    "\n",
    "# Получим из данных `n_boot_samples` псевдовыборок\n",
    "data_1_mean_scores = list(map(np.mean, get_bootstrap_samples(data_1, n_boot_samples)))\n",
    "\n",
    "# По каждой из этих выборок посчитаем среднее и сумму квадратов отклонения \n",
    "# от выборочного среднего (`control_boot_chi_squared`)\n",
    "control_boot_chi_squared = list(map(lambda x: np.std(x, ddof=1), get_bootstrap_samples(data_1, n_boot_samples)))"
   ]
  },
  {
   "cell_type": "code",
   "execution_count": 67,
   "metadata": {
    "scrolled": false
   },
   "outputs": [
    {
     "data": {
      "image/png": "[encoded data removed]",
      "text/plain": [
       "<Figure size 1440x576 with 2 Axes>"
      ]
     },
     "metadata": {
      "needs_background": "light"
     },
     "output_type": "display_data"
    },
    {
     "name": "stdout",
     "output_type": "stream",
     "text": [
      "R squared for Mean 0.9979748364604207\n",
      "R squared for STD 0.9979436641702913\n"
     ]
    }
   ],
   "source": [
    "# Для получившегося вектора средних значений из `n_boot_samples` \n",
    "# построим q-q plot для нормального распределения\n",
    "\n",
    "# Для получившегося вектора сумм квадратов отклонения от выборочного среднего \n",
    "# построим qq-plot для хи-квадрат распределения \n",
    "\n",
    "# Q-Q графики\n",
    "fig, axes = pyplot.subplots(1, 2, figsize=(20, 8))\n",
    "\n",
    "pyplot.subplot(1,2,1)\n",
    "_, R_mean = scipy.stats.probplot(data_1_mean_scores, dist=\"norm\", plot=pyplot)\n",
    "pyplot.title('Probability Plot for Means')\n",
    "\n",
    "pyplot.subplot(1, 2, 2)\n",
    "_, R_std = scipy.stats.probplot(control_boot_chi_squared, dist=\"chi2\", sparams=(n-1), plot=pyplot)\n",
    "# sparams=(n-1) - число степеней свободы\n",
    "pyplot.title('Probability Plot for Std')\n",
    "\n",
    "pyplot.show()\n",
    "\n",
    "print(f'R squared for Mean {R_mean[2]}')\n",
    "print(f'R squared for STD {R_std[2]}')"
   ]
  },
  {
   "cell_type": "markdown",
   "metadata": {},
   "source": [
    "**4. Проверим гипотезу о равенстве средних с помощью критерия Манна-Уитни.**\n",
    "\n",
    "Одним из возможных аналогов t-критерия, которым можно воспрользоваться, является тест Манна-Уитни. На достаточно обширном классе распределений он является асимптотически более эффективным, чем t-критерий, и при этом не требует параметрических предположений о характере распределения."
   ]
  },
  {
   "cell_type": "markdown",
   "metadata": {},
   "source": [
    "Разделим выборку на две части, соответствующие `control` и `exp` группам, преобразуем данные к виду, чтобы каждому пользователю соответствовало суммарное значение его кликов."
   ]
  },
  {
   "cell_type": "code",
   "execution_count": 100,
   "metadata": {},
   "outputs": [],
   "source": [
    "data_0 = pd.crosstab(index=data[data['slot'] == 'exp']['userID'], \n",
    "                     columns=data[data['slot'] == 'exp']['browser'],\n",
    "                     values=data[data['slot'] == 'exp']['n_clicks'],\n",
    "                     aggfunc=np.sum,\n",
    "                     margins=True, \n",
    "                     margins_name='СУММАРНО').iloc[:-1,-1].values\n",
    "\n",
    "data_1 = pd.crosstab(index=data[data['slot'] == 'control']['userID'], \n",
    "                     columns=data[data['slot'] == 'control']['browser'],\n",
    "                     values=data[data['slot'] == 'control']['n_clicks'],\n",
    "                     aggfunc=np.sum,\n",
    "                     margins=True, \n",
    "                     margins_name='СУММАРНО').iloc[:-1,-1].values"
   ]
  },
  {
   "cell_type": "markdown",
   "metadata": {},
   "source": [
    "**Ранговый критерий Манна-Уитни**"
   ]
  },
  {
   "cell_type": "markdown",
   "metadata": {},
   "source": [
    "$H_0\\colon F_{X_1}(x) = F_{X_2}(x)$\n",
    "\n",
    "$H_1\\colon F_{X_1}(x) = F_{X_2}(x + \\Delta), \\Delta\\neq 0$"
   ]
  },
  {
   "cell_type": "code",
   "execution_count": 102,
   "metadata": {},
   "outputs": [],
   "source": [
    "from scipy import stats"
   ]
  },
  {
   "cell_type": "code",
   "execution_count": 103,
   "metadata": {},
   "outputs": [
    {
     "data": {
      "text/plain": [
       "MannwhitneyuResult(statistic=38901259929.0, pvalue=4.3471471887604393e-75)"
      ]
     },
     "execution_count": 103,
     "metadata": {},
     "output_type": "execute_result"
    }
   ],
   "source": [
    "stats.mannwhitneyu(data_0, data_1)"
   ]
  },
  {
   "cell_type": "markdown",
   "metadata": {},
   "source": [
    "p-value меньше 0.05, что позволяет отвергнуть нулевую гипотезу. Распределения данных отличаются."
   ]
  },
  {
   "cell_type": "markdown",
   "metadata": {},
   "source": [
    "**Получившееся значение достигаемого уровня значимости свидетельствует о статистической значимости отличий между двумя выборками**"
   ]
  },
  {
   "cell_type": "markdown",
   "metadata": {},
   "source": [
    "**5. Проверим, для какого из браузеров наиболее сильно выражено отличие между количеством кликов в контрольной и экспериментальной группах.**"
   ]
  },
  {
   "cell_type": "markdown",
   "metadata": {},
   "source": [
    "Применим для каждого из срезов (по каждому из уникальных значений столбца `browser`) критерий Манна-Уитни между `control` и `exp` группами и сделаем поправку Холма-Бонферрони на множественную проверку с $\\alpha=0.05$."
   ]
  },
  {
   "cell_type": "code",
   "execution_count": 119,
   "metadata": {},
   "outputs": [],
   "source": [
    "from statsmodels.sandbox.stats.multicomp import multipletests "
   ]
  },
  {
   "cell_type": "code",
   "execution_count": 114,
   "metadata": {},
   "outputs": [],
   "source": [
    "mannwhitneyu_data = []\n",
    "for browser in set(data['browser']):\n",
    "    data_0 = data[(data['slot'] == 'exp') & (data['browser'] == browser)]['n_clicks']\n",
    "    data_1 = data[(data['slot'] == 'control') & (data['browser'] == browser)]['n_clicks']\n",
    "    statistic, pvalue = stats.mannwhitneyu(data_0, data_1)\n",
    "    mannwhitneyu_data.append([browser, statistic, pvalue])\n",
    "\n",
    "mannwhitneyu_data = pd.DataFrame.from_records(mannwhitneyu_data)\n",
    "mannwhitneyu_data.columns = ['browser', 'statistic', 'pvalue']"
   ]
  },
  {
   "cell_type": "code",
   "execution_count": 122,
   "metadata": {},
   "outputs": [],
   "source": [
    "reject, p_corrected, a1, a2 = multipletests(mannwhitneyu_data['pvalue'], \n",
    "                                            alpha = 0.05/2, \n",
    "                                            method = 'holm')\n",
    "\n",
    "mannwhitneyu_data['p_corrected'] = p_corrected\n",
    "mannwhitneyu_data['reject'] = reject"
   ]
  },
  {
   "cell_type": "code",
   "execution_count": 123,
   "metadata": {},
   "outputs": [
    {
     "data": {
      "text/html": [
       "<div>\n",
       "<style scoped>\n",
       "    .dataframe tbody tr th:only-of-type {\n",
       "        vertical-align: middle;\n",
       "    }\n",
       "\n",
       "    .dataframe tbody tr th {\n",
       "        vertical-align: top;\n",
       "    }\n",
       "\n",
       "    .dataframe thead th {\n",
       "        text-align: right;\n",
       "    }\n",
       "</style>\n",
       "<table border=\"1\" class=\"dataframe\">\n",
       "  <thead>\n",
       "    <tr style=\"text-align: right;\">\n",
       "      <th></th>\n",
       "      <th>browser</th>\n",
       "      <th>statistic</th>\n",
       "      <th>pvalue</th>\n",
       "      <th>p_corrected</th>\n",
       "      <th>reject</th>\n",
       "    </tr>\n",
       "  </thead>\n",
       "  <tbody>\n",
       "    <tr>\n",
       "      <td>0</td>\n",
       "      <td>Browser #20</td>\n",
       "      <td>1.437918e+08</td>\n",
       "      <td>0.453667</td>\n",
       "      <td>0.815212</td>\n",
       "      <td>False</td>\n",
       "    </tr>\n",
       "    <tr>\n",
       "      <td>1</td>\n",
       "      <td>Browser #4</td>\n",
       "      <td>3.072448e+09</td>\n",
       "      <td>0.407606</td>\n",
       "      <td>0.815212</td>\n",
       "      <td>False</td>\n",
       "    </tr>\n",
       "    <tr>\n",
       "      <td>2</td>\n",
       "      <td>Browser #22</td>\n",
       "      <td>2.547598e+09</td>\n",
       "      <td>0.257406</td>\n",
       "      <td>0.772217</td>\n",
       "      <td>False</td>\n",
       "    </tr>\n",
       "    <tr>\n",
       "      <td>3</td>\n",
       "      <td>Browser #17</td>\n",
       "      <td>1.313897e+08</td>\n",
       "      <td>0.037401</td>\n",
       "      <td>0.149602</td>\n",
       "      <td>False</td>\n",
       "    </tr>\n",
       "    <tr>\n",
       "      <td>4</td>\n",
       "      <td>Browser #2</td>\n",
       "      <td>1.522573e+09</td>\n",
       "      <td>0.027244</td>\n",
       "      <td>0.136219</td>\n",
       "      <td>False</td>\n",
       "    </tr>\n",
       "    <tr>\n",
       "      <td>5</td>\n",
       "      <td>Browser #14</td>\n",
       "      <td>8.069847e+08</td>\n",
       "      <td>0.000000</td>\n",
       "      <td>0.000000</td>\n",
       "      <td>True</td>\n",
       "    </tr>\n",
       "  </tbody>\n",
       "</table>\n",
       "</div>"
      ],
      "text/plain": [
       "       browser     statistic    pvalue  p_corrected  reject\n",
       "0  Browser #20  1.437918e+08  0.453667     0.815212   False\n",
       "1   Browser #4  3.072448e+09  0.407606     0.815212   False\n",
       "2  Browser #22  2.547598e+09  0.257406     0.772217   False\n",
       "3  Browser #17  1.313897e+08  0.037401     0.149602   False\n",
       "4   Browser #2  1.522573e+09  0.027244     0.136219   False\n",
       "5  Browser #14  8.069847e+08  0.000000     0.000000    True"
      ]
     },
     "execution_count": 123,
     "metadata": {},
     "output_type": "execute_result"
    }
   ],
   "source": [
    "mannwhitneyu_data"
   ]
  },
  {
   "cell_type": "markdown",
   "metadata": {},
   "source": [
    "Нулевая гипотеза для `Browser #14` отвергается. Следовательно, **для данного браузера разница между распределением кликов в тестовой и контрольной выборках является статистически значимой.**"
   ]
  },
  {
   "cell_type": "markdown",
   "metadata": {},
   "source": [
    "**6. Для каждого браузера в каждой из двух групп (`control` и `exp`) посчитаем долю запросов, в которых пользователь не кликнул ни разу.**"
   ]
  },
  {
   "cell_type": "markdown",
   "metadata": {},
   "source": [
    "Для этого поделим сумму значений n_nonclk_queries на сумму значений n_queries. "
   ]
  },
  {
   "cell_type": "code",
   "execution_count": 130,
   "metadata": {},
   "outputs": [
    {
     "data": {
      "text/plain": [
       "0.4375561736127329"
      ]
     },
     "execution_count": 130,
     "metadata": {},
     "output_type": "execute_result"
    }
   ],
   "source": [
    "np.sum(data[(data['slot'] == 'exp') & (data['browser'] == browser)]['n_nonclk_queries']) / \\\n",
    "np.sum(data[(data['slot'] == 'exp') & (data['browser'] == browser)]['n_queries'])"
   ]
  },
  {
   "cell_type": "code",
   "execution_count": 131,
   "metadata": {},
   "outputs": [],
   "source": [
    "clicks_statistics = []\n",
    "for browser in set(data['browser']):\n",
    "    p_nonclk_exp = np.sum(data[(data['slot'] == 'exp') & (data['browser'] == browser)]['n_nonclk_queries']) / \\\n",
    "    np.sum(data[(data['slot'] == 'exp') & (data['browser'] == browser)]['n_queries'])\n",
    "    \n",
    "    p_nonclk_control = np.sum(data[(data['slot'] == 'control') & (data['browser'] == browser)]['n_nonclk_queries']) / \\\n",
    "    np.sum(data[(data['slot'] == 'control') & (data['browser'] == browser)]['n_queries'])\n",
    "\n",
    "    clicks_statistics.append([browser, p_nonclk_exp, p_nonclk_control])\n",
    "    \n",
    "clicks_statistics = pd.DataFrame.from_records(clicks_statistics)\n",
    "clicks_statistics.columns = ['browser', 'p_nonclk_exp', 'p_nonclk_control']"
   ]
  },
  {
   "cell_type": "code",
   "execution_count": 132,
   "metadata": {},
   "outputs": [
    {
     "data": {
      "text/html": [
       "<div>\n",
       "<style scoped>\n",
       "    .dataframe tbody tr th:only-of-type {\n",
       "        vertical-align: middle;\n",
       "    }\n",
       "\n",
       "    .dataframe tbody tr th {\n",
       "        vertical-align: top;\n",
       "    }\n",
       "\n",
       "    .dataframe thead th {\n",
       "        text-align: right;\n",
       "    }\n",
       "</style>\n",
       "<table border=\"1\" class=\"dataframe\">\n",
       "  <thead>\n",
       "    <tr style=\"text-align: right;\">\n",
       "      <th></th>\n",
       "      <th>browser</th>\n",
       "      <th>p_nonclk_exp</th>\n",
       "      <th>p_nonclk_control</th>\n",
       "    </tr>\n",
       "  </thead>\n",
       "  <tbody>\n",
       "    <tr>\n",
       "      <td>0</td>\n",
       "      <td>Browser #20</td>\n",
       "      <td>0.389774</td>\n",
       "      <td>0.405405</td>\n",
       "    </tr>\n",
       "    <tr>\n",
       "      <td>1</td>\n",
       "      <td>Browser #4</td>\n",
       "      <td>0.451429</td>\n",
       "      <td>0.469709</td>\n",
       "    </tr>\n",
       "    <tr>\n",
       "      <td>2</td>\n",
       "      <td>Browser #22</td>\n",
       "      <td>0.398539</td>\n",
       "      <td>0.405940</td>\n",
       "    </tr>\n",
       "    <tr>\n",
       "      <td>3</td>\n",
       "      <td>Browser #17</td>\n",
       "      <td>0.369374</td>\n",
       "      <td>0.362994</td>\n",
       "    </tr>\n",
       "    <tr>\n",
       "      <td>4</td>\n",
       "      <td>Browser #2</td>\n",
       "      <td>0.449827</td>\n",
       "      <td>0.459627</td>\n",
       "    </tr>\n",
       "    <tr>\n",
       "      <td>5</td>\n",
       "      <td>Browser #14</td>\n",
       "      <td>0.437556</td>\n",
       "      <td>0.575904</td>\n",
       "    </tr>\n",
       "  </tbody>\n",
       "</table>\n",
       "</div>"
      ],
      "text/plain": [
       "       browser  p_nonclk_exp  p_nonclk_control\n",
       "0  Browser #20      0.389774          0.405405\n",
       "1   Browser #4      0.451429          0.469709\n",
       "2  Browser #22      0.398539          0.405940\n",
       "3  Browser #17      0.369374          0.362994\n",
       "4   Browser #2      0.449827          0.459627\n",
       "5  Browser #14      0.437556          0.575904"
      ]
     },
     "execution_count": 132,
     "metadata": {},
     "output_type": "execute_result"
    }
   ],
   "source": [
    "clicks_statistics"
   ]
  },
  {
   "cell_type": "markdown",
   "metadata": {},
   "source": [
    "Из таблицы видно, что доля некликов для браузера `Browser #14` значительно отличается между тестовой и контрольной группой."
   ]
  },
  {
   "cell_type": "markdown",
   "metadata": {},
   "source": [
    "**С помощью анализа, проведенного выше, мы показали, что тестируемое изменение приводит к статистически значимому отличию только для одного браузера. Для этого браузера на основе данных о доли некликнутых запросов, заключаем, что тестируемое изменение влияет на пользователей позитивно.**"
   ]
  }
 ],
 "metadata": {
  "hide_input": false,
  "kernelspec": {
   "display_name": "Python 3",
   "language": "python",
   "name": "python3"
  },
  "language_info": {
   "codemirror_mode": {
    "name": "ipython",
    "version": 3
   },
   "file_extension": ".py",
   "mimetype": "text/x-python",
   "name": "python",
   "nbconvert_exporter": "python",
   "pygments_lexer": "ipython3",
   "version": "3.7.4"
  },
  "toc": {
   "base_numbering": 1,
   "nav_menu": {},
   "number_sections": false,
   "sideBar": true,
   "skip_h1_title": false,
   "title_cell": "Table of Contents",
   "title_sidebar": "Contents",
   "toc_cell": false,
   "toc_position": {
    "height": "calc(100% - 180px)",
    "left": "10px",
    "top": "150px",
    "width": "384px"
   },
   "toc_section_display": true,
   "toc_window_display": true
  },
  "varInspector": {
   "cols": {
    "lenName": 16,
    "lenType": 16,
    "lenVar": 40
   },
   "kernels_config": {
    "python": {
     "delete_cmd_postfix": "",
     "delete_cmd_prefix": "del ",
     "library": "var_list.py",
     "varRefreshCmd": "print(var_dic_list())"
    },
    "r": {
     "delete_cmd_postfix": ") ",
     "delete_cmd_prefix": "rm(",
     "library": "var_list.r",
     "varRefreshCmd": "cat(var_dic_list()) "
    }
   },
   "position": {
    "height": "144px",
    "left": "1548px",
    "right": "20px",
    "top": "68px",
    "width": "350px"
   },
   "types_to_exclude": [
    "module",
    "function",
    "builtin_function_or_method",
    "instance",
    "_Feature"
   ],
   "window_display": true
  }
 },
 "nbformat": 4,
 "nbformat_minor": 2
}
