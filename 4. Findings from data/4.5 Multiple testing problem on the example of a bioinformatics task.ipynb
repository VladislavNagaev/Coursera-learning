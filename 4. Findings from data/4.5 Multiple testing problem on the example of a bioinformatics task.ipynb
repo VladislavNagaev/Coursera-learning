{
 "cells": [
  {
   "cell_type": "markdown",
   "metadata": {},
   "source": [
    "# Задача биоинформатики"
   ]
  },
  {
   "cell_type": "markdown",
   "metadata": {},
   "source": [
    "**Обнаружение статистически значимых отличий в уровнях экспрессии генов больных раком**\n",
    "___"
   ]
  },
  {
   "attachments": {
    "image.png": {
     "image/png": "[encoded data removed]"
    }
   },
   "cell_type": "markdown",
   "metadata": {},
   "source": [
    "**Описание используемых данных**\n",
    "\n",
    "Данные для этой задачи взяты из исследования, проведенного в Stanford School of Medicine. В исследовании была предпринята попытка выявить набор генов, которые позволили бы более точно диагностировать возникновение рака груди на самых ранних стадиях.\n",
    "\n",
    "В эксперименте принимали участие 24 человек, у которых не было рака груди (`normal`), 25 человек, у которых это заболевание было диагностировано на ранней стадии (`early neoplasia`), и 23 человека с сильно выраженными симптомами (`cancer`).\n",
    "\n",
    "![image.png](attachment:image.png)\n",
    "\n",
    "Ученые провели секвенирование биологического материала испытуемых, чтобы понять, какие из этих генов наиболее активны в клетках больных людей.\n",
    "\n",
    "Секвенирование — это определение степени активности генов в анализируемом образце с помощью подсчёта количества соответствующей каждому гену РНК.\n",
    "\n",
    "Дан датасет вышеназванной количественной меры активности каждого из 15748 генов у каждого из 72 человек, принимавших участие в эксперименте.\n",
    "\n",
    "Необохдимо определить те гены, активность которых у людей в разных стадиях заболевания отличается статистически значимо."
   ]
  },
  {
   "cell_type": "markdown",
   "metadata": {},
   "source": [
    "**Практическая значимость изменения**\n",
    "\n",
    "__Цель исследований__ — найти гены, средняя экспрессия которых отличается не только статистически значимо, но и достаточно сильно. В экспрессионных исследованиях для этого часто используется метрика, которая называется `fold change` (кратность изменения). Определяется она следующим образом:\n",
    "\n",
    "$$F_C\\left(C,\\ T\\right)=\\left\\{\\begin{matrix}\\frac{T}{C},\\ \\ T>C\\\\-\\frac{C}{T},\\ \\ T<C\\\\\\end{matrix}\\right.$$\n",
    "\n",
    "где $C$, $T$ — средние значения экспрессии гена в `control` и `treatment` группах соответственно. По сути, `fold change` показывает, во сколько раз отличаются средние двух выборок."
   ]
  },
  {
   "cell_type": "code",
   "execution_count": 1,
   "metadata": {},
   "outputs": [],
   "source": [
    "%matplotlib inline\n",
    "\n",
    "import matplotlib\n",
    "matplotlib.style.use('ggplot')\n",
    "\n",
    "from matplotlib import pyplot\n",
    "\n",
    "import numpy as np\n",
    "import pandas as pd\n",
    "\n",
    "import scipy\n",
    "from statsmodels.stats.weightstats import *\n",
    "\n",
    "import warnings\n",
    "warnings.filterwarnings('ignore')"
   ]
  },
  {
   "cell_type": "code",
   "execution_count": 2,
   "metadata": {},
   "outputs": [],
   "source": [
    "data = pd.read_csv(\"gene_high_throughput_sequencing.csv\", header=0) "
   ]
  },
  {
   "cell_type": "code",
   "execution_count": 3,
   "metadata": {},
   "outputs": [
    {
     "data": {
      "text/html": [
       "<div>\n",
       "<style scoped>\n",
       "    .dataframe tbody tr th:only-of-type {\n",
       "        vertical-align: middle;\n",
       "    }\n",
       "\n",
       "    .dataframe tbody tr th {\n",
       "        vertical-align: top;\n",
       "    }\n",
       "\n",
       "    .dataframe thead th {\n",
       "        text-align: right;\n",
       "    }\n",
       "</style>\n",
       "<table border=\"1\" class=\"dataframe\">\n",
       "  <thead>\n",
       "    <tr style=\"text-align: right;\">\n",
       "      <th></th>\n",
       "      <th>Patient_id</th>\n",
       "      <th>Diagnosis</th>\n",
       "      <th>LOC643837</th>\n",
       "      <th>LOC100130417</th>\n",
       "      <th>SAMD11</th>\n",
       "      <th>NOC2L</th>\n",
       "      <th>KLHL17</th>\n",
       "      <th>PLEKHN1</th>\n",
       "      <th>C1orf170</th>\n",
       "      <th>HES4</th>\n",
       "      <th>...</th>\n",
       "      <th>CLIC2</th>\n",
       "      <th>RPS4Y1</th>\n",
       "      <th>ZFY</th>\n",
       "      <th>PRKY</th>\n",
       "      <th>USP9Y</th>\n",
       "      <th>DDX3Y</th>\n",
       "      <th>CD24</th>\n",
       "      <th>CYorf15B</th>\n",
       "      <th>KDM5D</th>\n",
       "      <th>EIF1AY</th>\n",
       "    </tr>\n",
       "  </thead>\n",
       "  <tbody>\n",
       "    <tr>\n",
       "      <td>0</td>\n",
       "      <td>STT5425_Breast_001_normal</td>\n",
       "      <td>normal</td>\n",
       "      <td>1.257614</td>\n",
       "      <td>2.408148</td>\n",
       "      <td>13.368622</td>\n",
       "      <td>9.494779</td>\n",
       "      <td>20.880435</td>\n",
       "      <td>12.722017</td>\n",
       "      <td>9.494779</td>\n",
       "      <td>54.349694</td>\n",
       "      <td>...</td>\n",
       "      <td>4.761250</td>\n",
       "      <td>1.257614</td>\n",
       "      <td>1.257614</td>\n",
       "      <td>1.257614</td>\n",
       "      <td>1.257614</td>\n",
       "      <td>1.257614</td>\n",
       "      <td>23.268694</td>\n",
       "      <td>1.257614</td>\n",
       "      <td>1.257614</td>\n",
       "      <td>1.257614</td>\n",
       "    </tr>\n",
       "    <tr>\n",
       "      <td>1</td>\n",
       "      <td>STT5427_Breast_023_normal</td>\n",
       "      <td>normal</td>\n",
       "      <td>4.567931</td>\n",
       "      <td>16.602734</td>\n",
       "      <td>42.477752</td>\n",
       "      <td>25.562376</td>\n",
       "      <td>23.221137</td>\n",
       "      <td>11.622386</td>\n",
       "      <td>14.330573</td>\n",
       "      <td>72.445474</td>\n",
       "      <td>...</td>\n",
       "      <td>6.871902</td>\n",
       "      <td>1.815112</td>\n",
       "      <td>1.815112</td>\n",
       "      <td>1.815112</td>\n",
       "      <td>1.815112</td>\n",
       "      <td>1.815112</td>\n",
       "      <td>10.427023</td>\n",
       "      <td>1.815112</td>\n",
       "      <td>1.815112</td>\n",
       "      <td>1.815112</td>\n",
       "    </tr>\n",
       "    <tr>\n",
       "      <td>2</td>\n",
       "      <td>STT5430_Breast_002_normal</td>\n",
       "      <td>normal</td>\n",
       "      <td>2.077597</td>\n",
       "      <td>3.978294</td>\n",
       "      <td>12.863214</td>\n",
       "      <td>13.728915</td>\n",
       "      <td>14.543176</td>\n",
       "      <td>14.141907</td>\n",
       "      <td>6.232790</td>\n",
       "      <td>57.011005</td>\n",
       "      <td>...</td>\n",
       "      <td>7.096343</td>\n",
       "      <td>2.077597</td>\n",
       "      <td>2.077597</td>\n",
       "      <td>2.077597</td>\n",
       "      <td>2.077597</td>\n",
       "      <td>2.077597</td>\n",
       "      <td>22.344226</td>\n",
       "      <td>2.077597</td>\n",
       "      <td>2.077597</td>\n",
       "      <td>2.077597</td>\n",
       "    </tr>\n",
       "    <tr>\n",
       "      <td>3</td>\n",
       "      <td>STT5439_Breast_003_normal</td>\n",
       "      <td>normal</td>\n",
       "      <td>2.066576</td>\n",
       "      <td>8.520713</td>\n",
       "      <td>14.466035</td>\n",
       "      <td>7.823932</td>\n",
       "      <td>8.520713</td>\n",
       "      <td>2.066576</td>\n",
       "      <td>10.870009</td>\n",
       "      <td>53.292034</td>\n",
       "      <td>...</td>\n",
       "      <td>5.200770</td>\n",
       "      <td>2.066576</td>\n",
       "      <td>2.066576</td>\n",
       "      <td>2.066576</td>\n",
       "      <td>2.066576</td>\n",
       "      <td>2.066576</td>\n",
       "      <td>49.295538</td>\n",
       "      <td>2.066576</td>\n",
       "      <td>2.066576</td>\n",
       "      <td>2.066576</td>\n",
       "    </tr>\n",
       "    <tr>\n",
       "      <td>4</td>\n",
       "      <td>STT5441_Breast_004_normal</td>\n",
       "      <td>normal</td>\n",
       "      <td>2.613616</td>\n",
       "      <td>3.434965</td>\n",
       "      <td>12.682222</td>\n",
       "      <td>10.543189</td>\n",
       "      <td>26.688686</td>\n",
       "      <td>12.484822</td>\n",
       "      <td>1.364917</td>\n",
       "      <td>67.140393</td>\n",
       "      <td>...</td>\n",
       "      <td>11.227770</td>\n",
       "      <td>1.364917</td>\n",
       "      <td>1.364917</td>\n",
       "      <td>1.364917</td>\n",
       "      <td>1.364917</td>\n",
       "      <td>1.364917</td>\n",
       "      <td>23.627911</td>\n",
       "      <td>1.364917</td>\n",
       "      <td>1.364917</td>\n",
       "      <td>1.364917</td>\n",
       "    </tr>\n",
       "    <tr>\n",
       "      <td>...</td>\n",
       "      <td>...</td>\n",
       "      <td>...</td>\n",
       "      <td>...</td>\n",
       "      <td>...</td>\n",
       "      <td>...</td>\n",
       "      <td>...</td>\n",
       "      <td>...</td>\n",
       "      <td>...</td>\n",
       "      <td>...</td>\n",
       "      <td>...</td>\n",
       "      <td>...</td>\n",
       "      <td>...</td>\n",
       "      <td>...</td>\n",
       "      <td>...</td>\n",
       "      <td>...</td>\n",
       "      <td>...</td>\n",
       "      <td>...</td>\n",
       "      <td>...</td>\n",
       "      <td>...</td>\n",
       "      <td>...</td>\n",
       "      <td>...</td>\n",
       "    </tr>\n",
       "    <tr>\n",
       "      <td>67</td>\n",
       "      <td>STT5750_Breast_021_DCIS</td>\n",
       "      <td>cancer</td>\n",
       "      <td>1.466240</td>\n",
       "      <td>3.689955</td>\n",
       "      <td>21.331981</td>\n",
       "      <td>19.359546</td>\n",
       "      <td>23.505609</td>\n",
       "      <td>11.576176</td>\n",
       "      <td>11.325851</td>\n",
       "      <td>80.572057</td>\n",
       "      <td>...</td>\n",
       "      <td>2.807635</td>\n",
       "      <td>1.466240</td>\n",
       "      <td>2.807635</td>\n",
       "      <td>1.466240</td>\n",
       "      <td>2.807635</td>\n",
       "      <td>3.689955</td>\n",
       "      <td>18.449777</td>\n",
       "      <td>1.466240</td>\n",
       "      <td>1.466240</td>\n",
       "      <td>1.466240</td>\n",
       "    </tr>\n",
       "    <tr>\n",
       "      <td>68</td>\n",
       "      <td>STT5751_Breast_021_IDC</td>\n",
       "      <td>cancer</td>\n",
       "      <td>2.492410</td>\n",
       "      <td>12.279444</td>\n",
       "      <td>30.087759</td>\n",
       "      <td>17.703926</td>\n",
       "      <td>26.064890</td>\n",
       "      <td>10.707081</td>\n",
       "      <td>11.520120</td>\n",
       "      <td>65.041865</td>\n",
       "      <td>...</td>\n",
       "      <td>2.492410</td>\n",
       "      <td>2.492410</td>\n",
       "      <td>1.301619</td>\n",
       "      <td>3.275668</td>\n",
       "      <td>1.301619</td>\n",
       "      <td>1.301619</td>\n",
       "      <td>8.601194</td>\n",
       "      <td>1.301619</td>\n",
       "      <td>1.301619</td>\n",
       "      <td>1.301619</td>\n",
       "    </tr>\n",
       "    <tr>\n",
       "      <td>69</td>\n",
       "      <td>STT5758_Breast_022_IDC</td>\n",
       "      <td>cancer</td>\n",
       "      <td>3.530477</td>\n",
       "      <td>20.006038</td>\n",
       "      <td>53.924651</td>\n",
       "      <td>25.449565</td>\n",
       "      <td>30.949995</td>\n",
       "      <td>16.794696</td>\n",
       "      <td>17.121366</td>\n",
       "      <td>70.958462</td>\n",
       "      <td>...</td>\n",
       "      <td>1.176826</td>\n",
       "      <td>1.176826</td>\n",
       "      <td>1.176826</td>\n",
       "      <td>2.961613</td>\n",
       "      <td>1.176826</td>\n",
       "      <td>1.176826</td>\n",
       "      <td>10.764365</td>\n",
       "      <td>1.176826</td>\n",
       "      <td>1.176826</td>\n",
       "      <td>1.176826</td>\n",
       "    </tr>\n",
       "    <tr>\n",
       "      <td>70</td>\n",
       "      <td>STT5763_Breast_022_IDC</td>\n",
       "      <td>cancer</td>\n",
       "      <td>3.733734</td>\n",
       "      <td>8.860505</td>\n",
       "      <td>32.538666</td>\n",
       "      <td>21.585069</td>\n",
       "      <td>24.987992</td>\n",
       "      <td>11.460224</td>\n",
       "      <td>11.201202</td>\n",
       "      <td>67.767125</td>\n",
       "      <td>...</td>\n",
       "      <td>2.840946</td>\n",
       "      <td>1.483635</td>\n",
       "      <td>1.483635</td>\n",
       "      <td>1.483635</td>\n",
       "      <td>1.483635</td>\n",
       "      <td>1.483635</td>\n",
       "      <td>8.522837</td>\n",
       "      <td>1.483635</td>\n",
       "      <td>1.483635</td>\n",
       "      <td>1.483635</td>\n",
       "    </tr>\n",
       "    <tr>\n",
       "      <td>71</td>\n",
       "      <td>STT5825_Breast_024_IDC</td>\n",
       "      <td>cancer</td>\n",
       "      <td>0.833898</td>\n",
       "      <td>18.084880</td>\n",
       "      <td>60.584449</td>\n",
       "      <td>29.659104</td>\n",
       "      <td>31.093687</td>\n",
       "      <td>13.298860</td>\n",
       "      <td>11.010397</td>\n",
       "      <td>55.771485</td>\n",
       "      <td>...</td>\n",
       "      <td>3.698096</td>\n",
       "      <td>1.596792</td>\n",
       "      <td>1.596792</td>\n",
       "      <td>3.698096</td>\n",
       "      <td>0.833898</td>\n",
       "      <td>0.833898</td>\n",
       "      <td>13.978672</td>\n",
       "      <td>0.833898</td>\n",
       "      <td>2.848303</td>\n",
       "      <td>0.833898</td>\n",
       "    </tr>\n",
       "  </tbody>\n",
       "</table>\n",
       "<p>72 rows × 15750 columns</p>\n",
       "</div>"
      ],
      "text/plain": [
       "                   Patient_id Diagnosis  LOC643837  LOC100130417     SAMD11  \\\n",
       "0   STT5425_Breast_001_normal    normal   1.257614      2.408148  13.368622   \n",
       "1   STT5427_Breast_023_normal    normal   4.567931     16.602734  42.477752   \n",
       "2   STT5430_Breast_002_normal    normal   2.077597      3.978294  12.863214   \n",
       "3   STT5439_Breast_003_normal    normal   2.066576      8.520713  14.466035   \n",
       "4   STT5441_Breast_004_normal    normal   2.613616      3.434965  12.682222   \n",
       "..                        ...       ...        ...           ...        ...   \n",
       "67    STT5750_Breast_021_DCIS    cancer   1.466240      3.689955  21.331981   \n",
       "68     STT5751_Breast_021_IDC    cancer   2.492410     12.279444  30.087759   \n",
       "69     STT5758_Breast_022_IDC    cancer   3.530477     20.006038  53.924651   \n",
       "70     STT5763_Breast_022_IDC    cancer   3.733734      8.860505  32.538666   \n",
       "71     STT5825_Breast_024_IDC    cancer   0.833898     18.084880  60.584449   \n",
       "\n",
       "        NOC2L     KLHL17    PLEKHN1   C1orf170       HES4  ...      CLIC2  \\\n",
       "0    9.494779  20.880435  12.722017   9.494779  54.349694  ...   4.761250   \n",
       "1   25.562376  23.221137  11.622386  14.330573  72.445474  ...   6.871902   \n",
       "2   13.728915  14.543176  14.141907   6.232790  57.011005  ...   7.096343   \n",
       "3    7.823932   8.520713   2.066576  10.870009  53.292034  ...   5.200770   \n",
       "4   10.543189  26.688686  12.484822   1.364917  67.140393  ...  11.227770   \n",
       "..        ...        ...        ...        ...        ...  ...        ...   \n",
       "67  19.359546  23.505609  11.576176  11.325851  80.572057  ...   2.807635   \n",
       "68  17.703926  26.064890  10.707081  11.520120  65.041865  ...   2.492410   \n",
       "69  25.449565  30.949995  16.794696  17.121366  70.958462  ...   1.176826   \n",
       "70  21.585069  24.987992  11.460224  11.201202  67.767125  ...   2.840946   \n",
       "71  29.659104  31.093687  13.298860  11.010397  55.771485  ...   3.698096   \n",
       "\n",
       "      RPS4Y1       ZFY      PRKY     USP9Y     DDX3Y       CD24  CYorf15B  \\\n",
       "0   1.257614  1.257614  1.257614  1.257614  1.257614  23.268694  1.257614   \n",
       "1   1.815112  1.815112  1.815112  1.815112  1.815112  10.427023  1.815112   \n",
       "2   2.077597  2.077597  2.077597  2.077597  2.077597  22.344226  2.077597   \n",
       "3   2.066576  2.066576  2.066576  2.066576  2.066576  49.295538  2.066576   \n",
       "4   1.364917  1.364917  1.364917  1.364917  1.364917  23.627911  1.364917   \n",
       "..       ...       ...       ...       ...       ...        ...       ...   \n",
       "67  1.466240  2.807635  1.466240  2.807635  3.689955  18.449777  1.466240   \n",
       "68  2.492410  1.301619  3.275668  1.301619  1.301619   8.601194  1.301619   \n",
       "69  1.176826  1.176826  2.961613  1.176826  1.176826  10.764365  1.176826   \n",
       "70  1.483635  1.483635  1.483635  1.483635  1.483635   8.522837  1.483635   \n",
       "71  1.596792  1.596792  3.698096  0.833898  0.833898  13.978672  0.833898   \n",
       "\n",
       "       KDM5D    EIF1AY  \n",
       "0   1.257614  1.257614  \n",
       "1   1.815112  1.815112  \n",
       "2   2.077597  2.077597  \n",
       "3   2.066576  2.066576  \n",
       "4   1.364917  1.364917  \n",
       "..       ...       ...  \n",
       "67  1.466240  1.466240  \n",
       "68  1.301619  1.301619  \n",
       "69  1.176826  1.176826  \n",
       "70  1.483635  1.483635  \n",
       "71  2.848303  0.833898  \n",
       "\n",
       "[72 rows x 15750 columns]"
      ]
     },
     "execution_count": 3,
     "metadata": {},
     "output_type": "execute_result"
    }
   ],
   "source": [
    "data"
   ]
  },
  {
   "cell_type": "code",
   "execution_count": 4,
   "metadata": {},
   "outputs": [
    {
     "name": "stdout",
     "output_type": "stream",
     "text": [
      "<class 'pandas.core.frame.DataFrame'>\n",
      "RangeIndex: 72 entries, 0 to 71\n",
      "Columns: 15750 entries, Patient_id to EIF1AY\n",
      "dtypes: float64(15748), object(2)\n",
      "memory usage: 8.7+ MB\n"
     ]
    }
   ],
   "source": [
    "data.info()"
   ]
  },
  {
   "cell_type": "code",
   "execution_count": 5,
   "metadata": {},
   "outputs": [
    {
     "data": {
      "text/plain": [
       "False"
      ]
     },
     "execution_count": 5,
     "metadata": {},
     "output_type": "execute_result"
    }
   ],
   "source": [
    "# Проверка наличия пропущенных значений в датасете\n",
    "data.isnull().values.any()"
   ]
  },
  {
   "cell_type": "markdown",
   "metadata": {},
   "source": [
    "**1. Проверим гипотезу о равенстве средней степени активности для каждого гена в двух независимых выборках при помощи t-критерия Стьюдента:**\n",
    "    1. для групп `normal` (`control`) и `early neoplasia` (`treatment`)\n",
    "    2. для групп `early neoplasia` (`control`) и `cancer` (`treatment`)"
   ]
  },
  {
   "cell_type": "markdown",
   "metadata": {},
   "source": [
    "$H_0\\colon$ средние значения степени активности генов двух независимых выборок одинаковы.\n",
    "\n",
    "$H_1\\colon$ не одинаковы."
   ]
  },
  {
   "cell_type": "code",
   "execution_count": 6,
   "metadata": {},
   "outputs": [
    {
     "data": {
      "text/plain": [
       "early neoplasia    25\n",
       "normal             24\n",
       "cancer             23\n",
       "Name: Diagnosis, dtype: int64"
      ]
     },
     "execution_count": 6,
     "metadata": {},
     "output_type": "execute_result"
    }
   ],
   "source": [
    "data['Diagnosis'].value_counts()"
   ]
  },
  {
   "cell_type": "code",
   "execution_count": 7,
   "metadata": {},
   "outputs": [],
   "source": [
    "# для групп normal (control) и early neoplasia (treatment)\n",
    "\n",
    "control_data = data[data['Diagnosis'] == 'normal'][data.columns[2:]]\n",
    "treatment_data = data[data['Diagnosis'] == 'early neoplasia'][data.columns[2:]]\n",
    "    \n",
    "statistic, pvalue = scipy.stats.ttest_ind(control_data, treatment_data, equal_var = False)\n",
    "\n",
    "cm = CompareMeans(DescrStatsW(treatment_data), DescrStatsW(control_data))\n",
    "\n",
    "left_boundary, right_boundary = cm.tconfint_diff(usevar='unequal')\n",
    "\n",
    "reject = pvalue <= 0.05\n",
    "\n",
    "fold_change = list(map(lambda C, T: T/C if T>=C else -C/T, \n",
    "                       np.mean(control_data, axis=0), \n",
    "                       np.mean(treatment_data, axis=0)))\n",
    "\n",
    "result_1group = pd.DataFrame({'gene':data.columns[2:], \n",
    "                              '[0.025':left_boundary, \n",
    "                              '0.975]':right_boundary, \n",
    "                              'statistic':statistic, \n",
    "                              'pvalue':pvalue, \n",
    "                              'reject':reject, \n",
    "                              'fold_change':fold_change})"
   ]
  },
  {
   "cell_type": "code",
   "execution_count": 8,
   "metadata": {},
   "outputs": [],
   "source": [
    "# для групп early neoplasia (control) и cancer (treatment)\n",
    "\n",
    "control_data = data[data['Diagnosis'] == 'early neoplasia'][data.columns[2:]]\n",
    "treatment_data = data[data['Diagnosis'] == 'cancer'][data.columns[2:]]\n",
    "    \n",
    "statistic, pvalue = scipy.stats.ttest_ind(control_data, treatment_data, equal_var = False)\n",
    "\n",
    "cm = CompareMeans(DescrStatsW(treatment_data), \n",
    "                  DescrStatsW(control_data))\n",
    "\n",
    "left_boundary, right_boundary = cm.tconfint_diff(usevar='unequal')\n",
    "\n",
    "reject = pvalue <= 0.05\n",
    "\n",
    "fold_change = list(map(lambda C, T: T/C if T>=C else -C/T, \n",
    "                       np.mean(control_data, axis=0), \n",
    "                       np.mean(treatment_data, axis=0)))\n",
    "\n",
    "result_2group = pd.DataFrame({'gene':data.columns[2:], \n",
    "                              '[0.025':left_boundary, \n",
    "                              '0.975]':right_boundary, \n",
    "                              'statistic':statistic, \n",
    "                              'pvalue':pvalue, \n",
    "                              'reject':reject, \n",
    "                              'fold_change':fold_change})"
   ]
  },
  {
   "cell_type": "code",
   "execution_count": 11,
   "metadata": {},
   "outputs": [
    {
     "name": "stdout",
     "output_type": "stream",
     "text": [
      "False    14173\n",
      "True      1575\n",
      "Name: reject, dtype: int64\n",
      "False    12258\n",
      "True      3490\n",
      "Name: reject, dtype: int64\n"
     ]
    }
   ],
   "source": [
    "print(result_1group['reject'].value_counts())\n",
    "print(result_2group['reject'].value_counts())"
   ]
  },
  {
   "cell_type": "markdown",
   "metadata": {},
   "source": [
    "Видно, что **количество статистически значимых отличий степени активности генов в первой выборке составляет 1575, во второй 3490.**"
   ]
  },
  {
   "cell_type": "markdown",
   "metadata": {},
   "source": [
    "**2. Применим поправка на множественную проверку методом Холма для получившихся двух наборов достигаемых уровней значимости**\n",
    "\n",
    "(Ограничение вероятности ошибки хотя бы на одном объекте в 5%)"
   ]
  },
  {
   "cell_type": "markdown",
   "metadata": {},
   "source": [
    "Поскольку поправка применяется для каждого из двух наборов p-value отдельно, то проблема, связанная с множественной проверкой остается.\n",
    "\n",
    "Для того, чтобы ее устранить, воспользуемся поправкой Бонферрони, то есть используем уровень значимости 0.05 / 2 вместо 0.05 для дальнейшего уточнения значений p-value c помощью метода Холма."
   ]
  },
  {
   "cell_type": "code",
   "execution_count": 12,
   "metadata": {},
   "outputs": [],
   "source": [
    "from statsmodels.sandbox.stats.multicomp import multipletests "
   ]
  },
  {
   "cell_type": "code",
   "execution_count": 13,
   "metadata": {},
   "outputs": [],
   "source": [
    "reject_corrected, p_corrected, a1, a2 = multipletests(result_1group['pvalue'],\n",
    "                                                      alpha = 0.05/2, \n",
    "                                                      method = 'holm') \n",
    "\n",
    "result_1group['p_corrected'] = p_corrected\n",
    "result_1group['reject_corrected'] = reject_corrected"
   ]
  },
  {
   "cell_type": "code",
   "execution_count": 14,
   "metadata": {},
   "outputs": [],
   "source": [
    "reject_corrected, p_corrected, a1, a2 = multipletests(result_2group['pvalue'],\n",
    "                                                      alpha = 0.05/2, \n",
    "                                                      method = 'holm') \n",
    "\n",
    "result_2group['p_corrected'] = p_corrected\n",
    "result_2group['reject_corrected'] = reject_corrected"
   ]
  },
  {
   "cell_type": "code",
   "execution_count": 17,
   "metadata": {},
   "outputs": [
    {
     "name": "stdout",
     "output_type": "stream",
     "text": [
      "False    15746\n",
      "True         2\n",
      "Name: reject_corrected, dtype: int64\n",
      "False    15669\n",
      "True        79\n",
      "Name: reject_corrected, dtype: int64\n"
     ]
    }
   ],
   "source": [
    "print(result_1group['reject_corrected'].value_counts())\n",
    "print(result_2group['reject_corrected'].value_counts())"
   ]
  },
  {
   "cell_type": "markdown",
   "metadata": {},
   "source": [
    "Видно, что **количество статистически значимых отличий степени активности генов в первой выборке составляет 2, во второй 79.**"
   ]
  },
  {
   "cell_type": "markdown",
   "metadata": {},
   "source": [
    "Количество статистически значимых отличий степени активности генов с учетом практической значимости (кратность изменения средней экспрессии гена в control и treatment группах > 1.5)"
   ]
  },
  {
   "cell_type": "code",
   "execution_count": 18,
   "metadata": {},
   "outputs": [
    {
     "data": {
      "text/plain": [
       "(2, 9)"
      ]
     },
     "execution_count": 18,
     "metadata": {},
     "output_type": "execute_result"
    }
   ],
   "source": [
    "result_1group[(result_1group['reject_corrected'] == True) & (np.abs(result_1group['fold_change']) > 1.5)].shape"
   ]
  },
  {
   "cell_type": "code",
   "execution_count": 19,
   "metadata": {},
   "outputs": [
    {
     "data": {
      "text/plain": [
       "(77, 9)"
      ]
     },
     "execution_count": 19,
     "metadata": {},
     "output_type": "execute_result"
    }
   ],
   "source": [
    "result_2group[(result_2group['reject_corrected'] == True) & (np.abs(result_2group['fold_change']) > 1.5)].shape"
   ]
  },
  {
   "cell_type": "markdown",
   "metadata": {},
   "source": [
    "Видно, что **количество статистически значимых отличий степени активности генов с учетом практической значимости в первой выборке составляет 2, во второй 77.**"
   ]
  },
  {
   "cell_type": "markdown",
   "metadata": {},
   "source": [
    "**3. Применим поправку на множественную проверку методом Бенджамини-Хохберга**\n",
    "\n",
    "(Ограничение средней вероятности ошиок в 5%)\n",
    "\n",
    "Методы коррекции, которые контролируют FDR, допускает больше ошибок первого рода и имеют большую мощность, чем методы, контролирующие FWER. Большая мощность означает, что эти методы будут совершать меньше ошибок второго рода (то есть будут лучше улавливать отклонения от $H_0$, когда они есть, и будут чаще отклонять $H_0$, когда отличий нет)."
   ]
  },
  {
   "cell_type": "markdown",
   "metadata": {},
   "source": [
    "Поскольку выборки анализируются отдельно, необходимо воспользоваться поправкой Бонферрони, то есть использовать уровень значимости 0.05 / 2 вместо 0.05 для дальнейшего уточнения значений p-value c помощью метода Бенджамини-Хохберга."
   ]
  },
  {
   "cell_type": "code",
   "execution_count": 27,
   "metadata": {},
   "outputs": [],
   "source": [
    "reject_corrected, p_corrected, a1, a2 = multipletests(result_1group['pvalue'],\n",
    "                                                      alpha = 0.05/2, \n",
    "                                                      method = 'fdr_bh') \n",
    "\n",
    "result_1group['p_corrected'] = p_corrected\n",
    "result_1group['reject_corrected'] = reject_corrected"
   ]
  },
  {
   "cell_type": "code",
   "execution_count": 28,
   "metadata": {},
   "outputs": [],
   "source": [
    "reject_corrected, p_corrected, a1, a2 = multipletests(result_2group['pvalue'],\n",
    "                                                      alpha = 0.05/2, \n",
    "                                                      method = 'fdr_bh') \n",
    "\n",
    "result_2group['p_corrected'] = p_corrected\n",
    "result_2group['reject_corrected'] = reject_corrected"
   ]
  },
  {
   "cell_type": "code",
   "execution_count": 29,
   "metadata": {},
   "outputs": [
    {
     "name": "stdout",
     "output_type": "stream",
     "text": [
      "False    15744\n",
      "True         4\n",
      "Name: reject_corrected, dtype: int64\n",
      "False    14916\n",
      "True       832\n",
      "Name: reject_corrected, dtype: int64\n"
     ]
    }
   ],
   "source": [
    "# Количество статистически значимых отличий, то есть число генов, у которых p-value этого теста меньше, \n",
    "# чем уровень значимости 0.05 (с поправкой Бенджамини-Хохберга на множественную проверку) (reject_corrected = True)\n",
    "\n",
    "print(result_1group['reject_corrected'].value_counts())\n",
    "print(result_2group['reject_corrected'].value_counts())"
   ]
  },
  {
   "cell_type": "markdown",
   "metadata": {},
   "source": [
    "Видно, что **количество статистически значимых отличий степени активности генов в первой выборке составляет 4, во второй 832.**"
   ]
  },
  {
   "cell_type": "markdown",
   "metadata": {},
   "source": [
    "Количество статистически значимых отличий степени активности генов с учетом практической значимости (кратность изменения средней экспрессии гена в control и treatment группах > 1.5)"
   ]
  },
  {
   "cell_type": "code",
   "execution_count": 30,
   "metadata": {},
   "outputs": [
    {
     "data": {
      "text/plain": [
       "(4, 9)"
      ]
     },
     "execution_count": 30,
     "metadata": {},
     "output_type": "execute_result"
    }
   ],
   "source": [
    "result_1group[(result_1group['reject_corrected'] == True) & (np.abs(result_1group['fold_change']) > 1.5)].shape"
   ]
  },
  {
   "cell_type": "code",
   "execution_count": 31,
   "metadata": {},
   "outputs": [
    {
     "data": {
      "text/plain": [
       "(524, 9)"
      ]
     },
     "execution_count": 31,
     "metadata": {},
     "output_type": "execute_result"
    }
   ],
   "source": [
    "result_2group[(result_2group['reject_corrected'] == True) & (np.abs(result_2group['fold_change']) > 1.5)].shape"
   ]
  },
  {
   "cell_type": "markdown",
   "metadata": {},
   "source": [
    "Видно, что **количество статистически значимых отличий степени активности генов с учетом практической значимости в первой выборке составляет 4, во второй 524.**"
   ]
  }
 ],
 "metadata": {
  "hide_input": false,
  "kernelspec": {
   "display_name": "Python 3",
   "language": "python",
   "name": "python3"
  },
  "language_info": {
   "codemirror_mode": {
    "name": "ipython",
    "version": 3
   },
   "file_extension": ".py",
   "mimetype": "text/x-python",
   "name": "python",
   "nbconvert_exporter": "python",
   "pygments_lexer": "ipython3",
   "version": "3.7.4"
  },
  "toc": {
   "base_numbering": 1,
   "nav_menu": {},
   "number_sections": false,
   "sideBar": true,
   "skip_h1_title": false,
   "title_cell": "Table of Contents",
   "title_sidebar": "Contents",
   "toc_cell": false,
   "toc_position": {
    "height": "calc(100% - 180px)",
    "left": "10px",
    "top": "150px",
    "width": "384px"
   },
   "toc_section_display": true,
   "toc_window_display": true
  },
  "varInspector": {
   "cols": {
    "lenName": 16,
    "lenType": 16,
    "lenVar": 40
   },
   "kernels_config": {
    "python": {
     "delete_cmd_postfix": "",
     "delete_cmd_prefix": "del ",
     "library": "var_list.py",
     "varRefreshCmd": "print(var_dic_list())"
    },
    "r": {
     "delete_cmd_postfix": ") ",
     "delete_cmd_prefix": "rm(",
     "library": "var_list.r",
     "varRefreshCmd": "cat(var_dic_list()) "
    }
   },
   "position": {
    "height": "144px",
    "left": "1548px",
    "right": "20px",
    "top": "68px",
    "width": "350px"
   },
   "types_to_exclude": [
    "module",
    "function",
    "builtin_function_or_method",
    "instance",
    "_Feature"
   ],
   "window_display": true
  }
 },
 "nbformat": 4,
 "nbformat_minor": 2
}
