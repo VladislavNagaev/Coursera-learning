{
 "cells": [
  {
   "cell_type": "markdown",
   "metadata": {},
   "source": [
    "# Параллельный клиент IPython"
   ]
  },
  {
   "cell_type": "markdown",
   "metadata": {},
   "source": [
    "### Перемножим матрицы $a$ и $b$"
   ]
  },
  {
   "cell_type": "code",
   "execution_count": 10,
   "metadata": {},
   "outputs": [],
   "source": [
    "N = 5000\n",
    "a = np.random.randn(N, N)\n",
    "b = np.random.randn(N, N)"
   ]
  },
  {
   "cell_type": "markdown",
   "metadata": {},
   "source": [
    "### 1. Перемножим на локальном компьютере"
   ]
  },
  {
   "cell_type": "code",
   "execution_count": 1,
   "metadata": {
    "ExecuteTime": {
     "end_time": "2020-05-02T13:42:29.761985Z",
     "start_time": "2020-05-02T13:42:29.753891Z"
    }
   },
   "outputs": [],
   "source": [
    "import numpy as np"
   ]
  },
  {
   "cell_type": "code",
   "execution_count": 46,
   "metadata": {
    "ExecuteTime": {
     "end_time": "2020-05-02T13:42:43.423078Z",
     "start_time": "2020-05-02T13:42:37.441585Z"
    },
    "scrolled": true
   },
   "outputs": [
    {
     "name": "stdout",
     "output_type": "stream",
     "text": [
      "Wall time: 3.47 s\n"
     ]
    }
   ],
   "source": [
    "%%time\n",
    "\n",
    "c = np.dot(a,b)"
   ]
  },
  {
   "cell_type": "code",
   "execution_count": 39,
   "metadata": {},
   "outputs": [
    {
     "name": "stdout",
     "output_type": "stream",
     "text": [
      "[[ -73.92772554   27.81748138  -74.08860251 ...  144.4374928\n",
      "  -153.28732022  -52.3906999 ]\n",
      " [ 116.23129541  -98.36813326   56.43144007 ...   30.60570389\n",
      "   -60.23091495    6.78939991]\n",
      " [   0.38552557  -10.78978836  -33.08282081 ...   19.52989765\n",
      "  -149.35807551  106.05437605]\n",
      " ...\n",
      " [ -28.23364076 -139.32368729  -81.32322392 ...  -43.7645375\n",
      "   101.16074104  115.83318958]\n",
      " [  46.40019569  -28.49279027  -51.25809139 ...   62.58790431\n",
      "     1.99866508   32.20752042]\n",
      " [ -89.10667258  -10.15040472  -20.12405314 ...   67.68362611\n",
      "    51.43630807   -8.90861223]]\n"
     ]
    }
   ],
   "source": [
    "# Выведем ответ\n",
    "print(c)"
   ]
  },
  {
   "cell_type": "markdown",
   "metadata": {},
   "source": [
    "### 2. Перемножим на параллельном клиенте IPython"
   ]
  },
  {
   "cell_type": "code",
   "execution_count": 14,
   "metadata": {
    "ExecuteTime": {
     "end_time": "2020-05-02T13:37:50.754655Z",
     "start_time": "2020-05-02T13:37:50.747076Z"
    }
   },
   "outputs": [],
   "source": [
    "# Инициализируем параллельный клиент IPython\n",
    "from ipyparallel import Client\n",
    "cl = Client()"
   ]
  },
  {
   "cell_type": "code",
   "execution_count": 15,
   "metadata": {
    "ExecuteTime": {
     "end_time": "2020-05-02T13:37:53.533316Z",
     "start_time": "2020-05-02T13:37:53.519211Z"
    }
   },
   "outputs": [
    {
     "data": {
      "text/plain": [
       "[0, 1, 2]"
      ]
     },
     "execution_count": 15,
     "metadata": {},
     "output_type": "execute_result"
    }
   ],
   "source": [
    "# Проверим количество доступных процессов параллельного клиента IPython\n",
    "cl.ids"
   ]
  },
  {
   "cell_type": "code",
   "execution_count": 16,
   "metadata": {
    "ExecuteTime": {
     "end_time": "2020-05-02T13:37:59.682117Z",
     "start_time": "2020-05-02T13:37:59.675593Z"
    }
   },
   "outputs": [],
   "source": [
    "# Присвоим параллельный клиент IPython переменной v\n",
    "v = cl[:]"
   ]
  },
  {
   "cell_type": "code",
   "execution_count": 17,
   "metadata": {
    "ExecuteTime": {
     "end_time": "2020-05-02T13:37:57.593459Z",
     "start_time": "2020-05-02T13:37:57.411754Z"
    }
   },
   "outputs": [
    {
     "data": {
      "text/plain": [
       "['Hello!', 'Hello!', 'Hello!']"
      ]
     },
     "execution_count": 17,
     "metadata": {},
     "output_type": "execute_result"
    }
   ],
   "source": [
    "# Проверим работоспособность параллельного клиента IPython\n",
    "v.apply_sync(lambda : \"Hello!\")"
   ]
  },
  {
   "cell_type": "code",
   "execution_count": 47,
   "metadata": {},
   "outputs": [
    {
     "data": {
      "text/plain": [
       "<AsyncResult: execute:finished>"
      ]
     },
     "execution_count": 47,
     "metadata": {},
     "output_type": "execute_result"
    }
   ],
   "source": [
    "# Импортируем необходимые библиотеки на каждый процесс параллельного клиента IPython\n",
    "v.execute('import numpy as np', block=True)"
   ]
  },
  {
   "cell_type": "code",
   "execution_count": 41,
   "metadata": {
    "ExecuteTime": {
     "end_time": "2020-05-02T13:38:39.293279Z",
     "start_time": "2020-05-02T13:38:38.444429Z"
    }
   },
   "outputs": [
    {
     "data": {
      "text/plain": [
       "[None, None, None]"
      ]
     },
     "execution_count": 41,
     "metadata": {},
     "output_type": "execute_result"
    }
   ],
   "source": [
    "# Отправим на каждый процесс параллельного клиента IPython матрицы, которые необходимо перемножить\n",
    "v.push(dict(a=a, b=b), block=True)"
   ]
  },
  {
   "cell_type": "code",
   "execution_count": 49,
   "metadata": {},
   "outputs": [
    {
     "name": "stdout",
     "output_type": "stream",
     "text": [
      "Wall time: 10.2 s\n"
     ]
    }
   ],
   "source": [
    "%%time\n",
    "\n",
    "# Выполним вычисления матрицы на каждом из процесс параллельного клиента IPython\n",
    "r = v.execute('c = np.dot(a,b)', block=True)\n",
    "\n",
    "# Методу execute() можно передавать сразу несколько функций, отделенных запятой, \n",
    "# например 'c = np.dot(a,b); print(c)'"
   ]
  },
  {
   "cell_type": "code",
   "execution_count": 50,
   "metadata": {},
   "outputs": [],
   "source": [
    "# Вернем поле вывода параллельного клиента IPython после вычислений.\n",
    "# Поскольку при вычислении не использовался вывод, display_outputs() выведет пустой дисплей.\n",
    "r.display_outputs()"
   ]
  },
  {
   "cell_type": "code",
   "execution_count": 51,
   "metadata": {
    "ExecuteTime": {
     "end_time": "2020-05-02T13:39:26.905657Z",
     "start_time": "2020-05-02T13:39:26.574514Z"
    }
   },
   "outputs": [],
   "source": [
    "# Вернем результаты работы параллельного клиента IPython после вычислений.\n",
    "dot = v.pull('c', block=True)"
   ]
  },
  {
   "cell_type": "code",
   "execution_count": 52,
   "metadata": {
    "scrolled": true
   },
   "outputs": [
    {
     "name": "stdout",
     "output_type": "stream",
     "text": [
      "[array([[ -73.92772554,   27.81748138,  -74.08860251, ...,  144.4374928 ,\n",
      "        -153.28732022,  -52.3906999 ],\n",
      "       [ 116.23129541,  -98.36813326,   56.43144007, ...,   30.60570389,\n",
      "         -60.23091495,    6.78939991],\n",
      "       [   0.38552557,  -10.78978836,  -33.08282081, ...,   19.52989765,\n",
      "        -149.35807551,  106.05437605],\n",
      "       ...,\n",
      "       [ -28.23364076, -139.32368729,  -81.32322392, ...,  -43.7645375 ,\n",
      "         101.16074104,  115.83318958],\n",
      "       [  46.40019569,  -28.49279027,  -51.25809139, ...,   62.58790431,\n",
      "           1.99866508,   32.20752042],\n",
      "       [ -89.10667258,  -10.15040472,  -20.12405314, ...,   67.68362611,\n",
      "          51.43630807,   -8.90861223]]), array([[ -73.92772554,   27.81748138,  -74.08860251, ...,  144.4374928 ,\n",
      "        -153.28732022,  -52.3906999 ],\n",
      "       [ 116.23129541,  -98.36813326,   56.43144007, ...,   30.60570389,\n",
      "         -60.23091495,    6.78939991],\n",
      "       [   0.38552557,  -10.78978836,  -33.08282081, ...,   19.52989765,\n",
      "        -149.35807551,  106.05437605],\n",
      "       ...,\n",
      "       [ -28.23364076, -139.32368729,  -81.32322392, ...,  -43.7645375 ,\n",
      "         101.16074104,  115.83318958],\n",
      "       [  46.40019569,  -28.49279027,  -51.25809139, ...,   62.58790431,\n",
      "           1.99866508,   32.20752042],\n",
      "       [ -89.10667258,  -10.15040472,  -20.12405314, ...,   67.68362611,\n",
      "          51.43630807,   -8.90861223]]), array([[ -73.92772554,   27.81748138,  -74.08860251, ...,  144.4374928 ,\n",
      "        -153.28732022,  -52.3906999 ],\n",
      "       [ 116.23129541,  -98.36813326,   56.43144007, ...,   30.60570389,\n",
      "         -60.23091495,    6.78939991],\n",
      "       [   0.38552557,  -10.78978836,  -33.08282081, ...,   19.52989765,\n",
      "        -149.35807551,  106.05437605],\n",
      "       ...,\n",
      "       [ -28.23364076, -139.32368729,  -81.32322392, ...,  -43.7645375 ,\n",
      "         101.16074104,  115.83318958],\n",
      "       [  46.40019569,  -28.49279027,  -51.25809139, ...,   62.58790431,\n",
      "           1.99866508,   32.20752042],\n",
      "       [ -89.10667258,  -10.15040472,  -20.12405314, ...,   67.68362611,\n",
      "          51.43630807,   -8.90861223]])]\n"
     ]
    }
   ],
   "source": [
    "# Выведем поулченные значения перемножения матриц\n",
    "print(dot)"
   ]
  },
  {
   "cell_type": "code",
   "execution_count": 53,
   "metadata": {
    "ExecuteTime": {
     "end_time": "2020-05-02T13:40:20.126368Z",
     "start_time": "2020-05-02T13:40:20.017901Z"
    }
   },
   "outputs": [],
   "source": [
    "# Сравним результаты вычислений на локального компьютера и параллельного клиента IPython\n",
    "assert np.allclose(c, dot[0])\n",
    "assert np.allclose(dot[0], dot[1])\n",
    "assert np.allclose(dot[1], dot[2])"
   ]
  },
  {
   "cell_type": "markdown",
   "metadata": {},
   "source": [
    "# Функциональный метод многопоточности"
   ]
  },
  {
   "cell_type": "code",
   "execution_count": 30,
   "metadata": {},
   "outputs": [],
   "source": [
    "from threading import Thread"
   ]
  },
  {
   "cell_type": "code",
   "execution_count": 31,
   "metadata": {},
   "outputs": [],
   "source": [
    "# Целевая функция. В данном примере функция заполняет текстовый файл строками\n",
    "\n",
    "def prescript(thefile, num):\n",
    "    with open(thefile, 'w') as f:\n",
    "        for i in range(num):\n",
    "            if num > 500:\n",
    "                f.write('МногоБукв\\n')\n",
    "            else:\n",
    "                f.write('МалоБукв\\n')"
   ]
  },
  {
   "cell_type": "code",
   "execution_count": 32,
   "metadata": {},
   "outputs": [],
   "source": [
    "# Создаем два потока. Каждому потоку передаем свои значения функции.\n",
    "thread1 = Thread(target=prescript, args=('f1.txt', 200,))\n",
    "thread2 = Thread(target=prescript, args=('f2.txt', 1000,))"
   ]
  },
  {
   "cell_type": "code",
   "execution_count": 33,
   "metadata": {},
   "outputs": [],
   "source": [
    "# Метод start() запускает поток, метод join() останавливает поток, когда тот выполнит свои задачи\n",
    "thread1.start()\n",
    "thread2.start()\n",
    "thread1.join()\n",
    "thread2.join()"
   ]
  },
  {
   "cell_type": "markdown",
   "metadata": {},
   "source": [
    "# Классовый метод многопоточности"
   ]
  },
  {
   "cell_type": "markdown",
   "metadata": {},
   "source": [
    "Для потока со сложным поведением обычно пишут отдельный класс, который наследуют от Thread из модуля threading. В этом случае программу действий потока прописывают в методе run() созданного класса. "
   ]
  },
  {
   "cell_type": "code",
   "execution_count": 80,
   "metadata": {},
   "outputs": [],
   "source": [
    "import threading"
   ]
  },
  {
   "cell_type": "code",
   "execution_count": 81,
   "metadata": {},
   "outputs": [],
   "source": [
    "class MyThread(threading.Thread):\n",
    "    def __init__(self, num):\n",
    "        super().__init__(self, name=\"threddy\" + num)\n",
    "        self.num = num\n",
    "    def run(self):\n",
    "        print (\"Thread \", self.num)"
   ]
  },
  {
   "cell_type": "code",
   "execution_count": null,
   "metadata": {},
   "outputs": [],
   "source": [
    "thread1 = MyThread(\"1\")\n",
    "thread2 = MyThread(\"2\")"
   ]
  },
  {
   "cell_type": "code",
   "execution_count": null,
   "metadata": {},
   "outputs": [],
   "source": [
    "thread1.start()\n",
    "thread2.start()\n",
    "thread1.join()\n",
    "thread2.join()"
   ]
  },
  {
   "cell_type": "markdown",
   "metadata": {},
   "source": [
    "Чтобы управлять потоками, нужно следить, как они себя ведут. И для этого в threading есть специальные методы:\n",
    "\n",
    "- current_thread()  — смотрим, какой поток вызвал функцию;\n",
    "- active_count() — считаем работающие в данный момент экземпляры класса Thread;\n",
    "- enumerate()   — получаем список работающих потоков.\n",
    "\n",
    "Ещё можно управлять потоком через методы класса:\n",
    "- is_alive()  —  спрашиваем поток: «Жив ещё, курилка?»  — получаем true или false;\n",
    "- getName()  — узнаём имя потока;\n",
    "- setName(any_name)  — даём потоку имя;"
   ]
  },
  {
   "cell_type": "markdown",
   "metadata": {},
   "source": [
    "У каждого потока, пока он работает, есть уникальный идентификационный номер, который хранится в переменной ident."
   ]
  },
  {
   "cell_type": "code",
   "execution_count": null,
   "metadata": {},
   "outputs": [],
   "source": [
    "thread1.start()\n",
    "print(thread1.ident)"
   ]
  },
  {
   "cell_type": "markdown",
   "metadata": {},
   "source": [
    "Отсрочить операции в вызываемых потоком функциях можно с помощью таймера. В инициализаторе объектов класса Timer всего два аргумента — время ожидания в секундах и функция, которую нужно в итоге выполнить:"
   ]
  },
  {
   "cell_type": "code",
   "execution_count": 85,
   "metadata": {},
   "outputs": [
    {
     "name": "stdout",
     "output_type": "stream",
     "text": [
      "Waiting...\n"
     ]
    }
   ],
   "source": [
    "import threading\n",
    "print (\"Waiting...\")\n",
    "def timer_test():\n",
    "    print (\"The timer has done its job!\")\n",
    "tim = threading.Timer(5.0, timer_test)\n",
    "tim.start()"
   ]
  },
  {
   "cell_type": "markdown",
   "metadata": {},
   "source": [
    "Таймер можно один раз создать, а затем запускать в разных частях кода."
   ]
  },
  {
   "cell_type": "markdown",
   "metadata": {},
   "source": [
    "**Потусторонние потоки**\n",
    "\n",
    "Обычно Python-приложение не завершается, пока работает хоть один его поток. Но есть особые потоки, которые не мешают закрытию программы и останавливается вместе с ней. Их называют демонами (daemons). Проверить, является ли поток демоном, можно методом isDaemon(). Если является, метод вернёт истину.\n",
    "\n",
    "Назначить поток демоном можно  при создании — через параметр “daemon=True” или аргумент в инициализаторе класса."
   ]
  },
  {
   "cell_type": "code",
   "execution_count": null,
   "metadata": {},
   "outputs": [],
   "source": [
    "thread0 = Thread(target=target_func, kwargs={‘x’:10}, daemon=True)\n",
    "Не поздно демонизировать и уже существующий поток методом setDaemon(daemonic)."
   ]
  },
  {
   "cell_type": "markdown",
   "metadata": {},
   "source": [
    "# Global Interpreter Lock (GIL)"
   ]
  },
  {
   "cell_type": "markdown",
   "metadata": {},
   "source": [
    "Global Interpreter Lock, он же GIL - глобальный шлюз, который ограничивает многопоточность на уровне интерпретатора.\n",
    "\n",
    "Задача шлюза  — пропускать потоки строго по одному, чтоб не летали наперегонки, как печально известные стритрейсеры, и не создавали угрозу работе интерпретатора.\n",
    "\n",
    "Без шлюза потоки подрезали бы друг друга, чтобы первыми добраться до памяти, но это еще не всё. Они имеют обыкновение внезапно засыпать за рулём! Операционная система не спрашивает, вовремя или невовремя  — просто усыпляет их в ей одной известный момент. Из-за этого неупорядоченные потоки могут неожиданно перехватывать друг у друга инициативу в работе с общими ресурсами.\n",
    "\n",
    "Дезориентированный спросонок поток, который видит перед собой совсем не ту ситуацию, при которой засыпал, рискует разбиться и повалить интерпретатор, либо попасть в тупиковую ситуацию (deadlock). Например, перед сном Поток 1 начал работу со списком, а после пробуждения не нашёл в этом списке элементов, т.к. их удалил или перезаписал Поток 2.\n",
    "\n",
    "Чтобы такого не было, GIL в предсказуемый момент (по умолчанию раз в 5 миллисекунд для Python 3.2+) командует отработавшему потоку: «СПАААТЬ!»  — тот отключается и не мешает проезжать следующему желающему. Даже если желающего нет, блокировщик всё равно подождёт, прежде чем вернуться к предыдущему активному потоку.\n",
    "\n",
    "Благодаря шлюзу однопоточные приложения работают быстро, а потоки не конфликтуют. Но, к сожалению, многопоточные программы при таком подходе выполняются медленнее  — слишком много времени уходит на регулировку «дорожного движения». А значит обработка графики, расчет математических моделей и поиск по большим массивам данных c GIL идут неприемлемо долго.\n",
    "\n",
    "В статье «Understanding Python GIL»технический директор компании Gaglers Inc. и разработчик со стажем Chetan Giridhar приводит такой пример:"
   ]
  },
  {
   "cell_type": "code",
   "execution_count": 88,
   "metadata": {},
   "outputs": [
    {
     "name": "stdout",
     "output_type": "stream",
     "text": [
      "Время выполнения:  0:00:05.659194\n"
     ]
    }
   ],
   "source": [
    "from datetime import datetime\n",
    "import threading\n",
    "def factorial(number): \n",
    "    fact = 1\n",
    "    for n in range(1, number+1): \n",
    "        fact *= n \n",
    "    return fact \n",
    "number = 100000 \n",
    "thread = threading.Thread(target=factorial, args=(number,)) \n",
    "startTime = datetime.now() \n",
    "thread.start() \n",
    "thread.join()\n",
    "\n",
    "endTime = datetime.now() \n",
    "print (\"Время выполнения: \", endTime - startTime)"
   ]
  },
  {
   "cell_type": "markdown",
   "metadata": {},
   "source": [
    "Код вычисляет факториал числа 100 000 и показывает, сколько времени ушло у машины на эту задачу. При тестировании на одном ядре и с одним потоком вычисления заняли 3,4 секунды. Тогда Четан создал и запустил второй поток. Расчет факториала на двух ядрах длился 6,2 секунды. А ведь по логике скорость вычислений не должна была существенно измениться! Повторите этот эксперимент на своей машине и посмотрите, насколько медленнее будет решена задача, если вы добавите thread2.\n",
    "\n",
    "Глобальный шлюз  — наследие времён, когда программисты боролись за достойную реализацию многозадачности и у них не очень получалось. Но зачем он сегодня, когда есть много- и очень многоядерные процессоры? Как объяснил Гвидо ван Россум, без GIL не будут нормально работать C-расширения для Python. Ещё упадёт производительность однопоточных приложений: Python 3 станет медленнее, чем Python 2, а это никому не нужно."
   ]
  },
  {
   "cell_type": "markdown",
   "metadata": {},
   "source": [
    "## Обход GIL"
   ]
  },
  {
   "cell_type": "markdown",
   "metadata": {},
   "source": [
    "Шлюз можно временно отключить. Для этого интерпретатор Python нужно отвлечь вызовом функции из внешней библиотеки или обращением к операционной системе. Например, шлюз выключится на время сохранения или открытия файла. Помните наш пример с записью строк в файлы? Как только вызванная функция возвратит управление коду Python или интерфейсу Python C API, GIL снова включается.\n",
    "\n",
    "Как вариант, для параллельных вычислений можно использовать процессы, которые работают изолированно и неподвластны GIL. Но это большая отдельная тема. Сейчас нам важнее найти решение для многопоточности.\n",
    "\n",
    "Если вы собираетесь использовать Python для сложных научных расчётов, обойти скоростную проблему GIL помогут библиотеки Numba, NumPy, SciPy и др. Опишу некоторые  из них в двух словах, чтобы вы поняли, стоит ли разведывать это направление дальше."
   ]
  },
  {
   "cell_type": "markdown",
   "metadata": {},
   "source": [
    "**Numba  для математики**\n",
    "\n",
    "Numba — динамически, «на лету» компилирует Python-код, превращая его в машинный код для исполнения на CPU и GPU. Такая технология компиляции называется JIT — “Just in time”. Она помогает оптимизировать производительность программ за счет ускорения работы циклов и компиляции функций при первом запуске.\n",
    "\n",
    "Суть в том, что вы ставите аннотации (декораторы) в узких местах кода, где вам нужно ускорить работу функций.\n",
    "\n",
    "Для математических расчётов библиотеку удобно использовать в связке c NumPy.  Допустим, нужно сложить одномерные массивы — элемент за элементом."
   ]
  },
  {
   "cell_type": "code",
   "execution_count": 7,
   "metadata": {},
   "outputs": [],
   "source": [
    "def arr_sum(x, y):\n",
    "    result_arr = np.empty_like(x)\n",
    "    for i in range(len(x)):\n",
    "        result_arr[i] = x[i] + y[i]\n",
    "    return result_arr"
   ]
  },
  {
   "cell_type": "code",
   "execution_count": 17,
   "metadata": {},
   "outputs": [],
   "source": [
    "N = 10000000\n",
    "x = np.random.randn(N)\n",
    "y = np.random.randn(N)"
   ]
  },
  {
   "cell_type": "code",
   "execution_count": 18,
   "metadata": {},
   "outputs": [
    {
     "name": "stdout",
     "output_type": "stream",
     "text": [
      "Wall time: 2.83 s\n"
     ]
    }
   ],
   "source": [
    "%%time\n",
    "z = arr_sum(x=x, y=y)"
   ]
  },
  {
   "cell_type": "markdown",
   "metadata": {},
   "source": [
    "Метод __nupmy.empty_like()__ принимает массив и возвращает (но не инициализирует!) другой  — соответствующий исходному по форме и типу. Чтобы ускорить выполнение кода, импортируем класс __jit__ из модуля __numba__ и добавляем в начало кода аннотацию __@jit__:"
   ]
  },
  {
   "cell_type": "code",
   "execution_count": 20,
   "metadata": {},
   "outputs": [],
   "source": [
    "from numba import jit"
   ]
  },
  {
   "cell_type": "code",
   "execution_count": 23,
   "metadata": {},
   "outputs": [],
   "source": [
    "@jit\n",
    "def arr_sum(x,y):\n",
    "    result_arr = np.empty_like(x)\n",
    "    for i in range(len(x)):\n",
    "        result_arr[i] = x[i] + y[i]\n",
    "    return result_arr"
   ]
  },
  {
   "cell_type": "code",
   "execution_count": 24,
   "metadata": {},
   "outputs": [
    {
     "name": "stdout",
     "output_type": "stream",
     "text": [
      "Wall time: 155 ms\n"
     ]
    }
   ],
   "source": [
    "%%time\n",
    "z = arr_sum(x=x, y=y)"
   ]
  },
  {
   "cell_type": "markdown",
   "metadata": {},
   "source": [
    "Это скромное дополнение способно ускорить выполнение операции более чем в 100 раз! Если интересно, посмотрите [замеры скорости](https://habr.com/ru/post/336684/) математических расчётов при использовании разных библиотек для Python."
   ]
  }
 ],
 "metadata": {
  "hide_input": false,
  "kernelspec": {
   "display_name": "Python 3",
   "language": "python",
   "name": "python3"
  },
  "language_info": {
   "codemirror_mode": {
    "name": "ipython",
    "version": 3
   },
   "file_extension": ".py",
   "mimetype": "text/x-python",
   "name": "python",
   "nbconvert_exporter": "python",
   "pygments_lexer": "ipython3",
   "version": "3.7.4"
  },
  "toc": {
   "base_numbering": 1,
   "nav_menu": {},
   "number_sections": false,
   "sideBar": true,
   "skip_h1_title": false,
   "title_cell": "Table of Contents",
   "title_sidebar": "Contents",
   "toc_cell": false,
   "toc_position": {},
   "toc_section_display": true,
   "toc_window_display": true
  },
  "varInspector": {
   "cols": {
    "lenName": 16,
    "lenType": 16,
    "lenVar": 40
   },
   "kernels_config": {
    "python": {
     "delete_cmd_postfix": "",
     "delete_cmd_prefix": "del ",
     "library": "var_list.py",
     "varRefreshCmd": "print(var_dic_list())"
    },
    "r": {
     "delete_cmd_postfix": ") ",
     "delete_cmd_prefix": "rm(",
     "library": "var_list.r",
     "varRefreshCmd": "cat(var_dic_list()) "
    }
   },
   "position": {
    "height": "863px",
    "left": "1546px",
    "right": "20px",
    "top": "68px",
    "width": "359px"
   },
   "types_to_exclude": [
    "module",
    "function",
    "builtin_function_or_method",
    "instance",
    "_Feature"
   ],
   "window_display": true
  }
 },
 "nbformat": 4,
 "nbformat_minor": 2
}
