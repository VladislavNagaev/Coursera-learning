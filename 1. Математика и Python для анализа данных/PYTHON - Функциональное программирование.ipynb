{
 "cells": [
  {
   "cell_type": "markdown",
   "metadata": {},
   "source": [
    "## 2.3 Функциональное программирование (lambda, map, filter, reduce, zip)\n",
    "\n",
    "_Раздел дискретной математики и парадигма программирования, в которой процесс вычисления трактуется как вычисление значений функций в математическом понимании последних (в отличие от функций как подпрограмм в процедурном программировании)_"
   ]
  },
  {
   "cell_type": "markdown",
   "metadata": {},
   "source": [
    "### 2.3.1 Функция map()\n",
    "\n",
    "Функция __`map()`__ позволяет обрабатывать одну или несколько последовательностей с помощью переданной в качестве аргумента функции:\n",
    "\n",
    "В Python функция map принимает два аргумента: функцию и аргумент составного типа данных, например, список. map применяет к каждому элементу списка переданную функцию. \n",
    "\n",
    "Например, вы прочитали из файла список чисел, изначально все эти числа имеют строковый тип данных, чтобы работать с ними - нужно превратить их в целое число\n",
    "\n",
    "или\n",
    "\n",
    "Необходимо вывести список квадратов чисел диапазона от 1 до 10\n"
   ]
  },
  {
   "cell_type": "code",
   "execution_count": 1,
   "metadata": {},
   "outputs": [
    {
     "name": "stdout",
     "output_type": "stream",
     "text": [
      "[1, 2, 3, 4, 5, 6, 7]\n"
     ]
    }
   ],
   "source": [
    "old_list = ['1', '2', '3', '4', '5', '6', '7']\n",
    "new_list = list(map(int, old_list))\n",
    "print (new_list)"
   ]
  },
  {
   "cell_type": "code",
   "execution_count": 2,
   "metadata": {
    "scrolled": false
   },
   "outputs": [
    {
     "name": "stdout",
     "output_type": "stream",
     "text": [
      "[0, 1, 4, 9, 16, 25, 36, 49, 64, 81]\n"
     ]
    }
   ],
   "source": [
    "def sq(x):\n",
    "    return x ** 2\n",
    "\n",
    "n = list(map(sq, range(10)))\n",
    "print(n)"
   ]
  },
  {
   "cell_type": "code",
   "execution_count": 3,
   "metadata": {},
   "outputs": [
    {
     "name": "stdout",
     "output_type": "stream",
     "text": [
      "[0, 1, 4, 9, 16, 25, 36, 49, 64, 81]\n"
     ]
    }
   ],
   "source": [
    "print(list(map(lambda x: x**2, range(10))))"
   ]
  },
  {
   "cell_type": "markdown",
   "metadata": {},
   "source": [
    "Функция __`map()`__ может быть так же применена для нескольких списков, в таком случае функция-аргумент должна принимать количество аргументов, соответствующее количеству списков:"
   ]
  },
  {
   "cell_type": "code",
   "execution_count": 4,
   "metadata": {},
   "outputs": [
    {
     "name": "stdout",
     "output_type": "stream",
     "text": [
      "[5, 7, 9]\n"
     ]
    }
   ],
   "source": [
    "l1 = [1,2,3]\n",
    "l2 = [4,5,6]\n",
    " \n",
    "new_list = list(map(lambda x,y: x + y, l1, l2))\n",
    "print (new_list)"
   ]
  },
  {
   "cell_type": "markdown",
   "metadata": {},
   "source": [
    "Если же количество элементов в списках совпадать не будет, то выполнение закончится на минимальном списке:"
   ]
  },
  {
   "cell_type": "code",
   "execution_count": 5,
   "metadata": {},
   "outputs": [
    {
     "name": "stdout",
     "output_type": "stream",
     "text": [
      "[4, 5]\n"
     ]
    }
   ],
   "source": [
    "l1 = [1,2,3]\n",
    "l2 = [4,5]\n",
    " \n",
    "new_list = list(map(lambda x,y:  + y, l1, l2))\n",
    "print (new_list)"
   ]
  },
  {
   "cell_type": "markdown",
   "metadata": {},
   "source": [
    "### 2.3.2 Lambda выражение\n",
    "\n",
    "__`lambda оператор`__ или __`lambda функция`__ в Python - это способ создать анонимную функцию, то есть функцию без имени. Такие функции можно назвать одноразовыми, они используются только при создании.\n",
    "\n",
    "`lambda arguments: expression`\n",
    "\n",
    "В качестве arguments передается список аргументов, разделенных запятой, после чего над переданными аргументами выполняется expression. Если присвоить lambda-функцию переменной, то получим поведение как в обычной функции (делаем мы это исключительно в целях демонстрации)"
   ]
  },
  {
   "cell_type": "code",
   "execution_count": 9,
   "metadata": {},
   "outputs": [
    {
     "name": "stdout",
     "output_type": "stream",
     "text": [
      "42\n"
     ]
    }
   ],
   "source": [
    "multiply = lambda x,y: x * y\n",
    "print(multiply(21, 2))"
   ]
  },
  {
   "cell_type": "markdown",
   "metadata": {},
   "source": [
    "### 2.3.3 Функция filter()\n",
    "\n",
    "Функция __`filter`__ предлагает элегантный вариант фильтрации элементов последовательности. Принимает в качестве аргументов функцию и последовательность, которую необходимо отфильтровать. Функция, передаваемая в filter должна возвращать значение True / False, чтобы элементы корректно отфильтровались"
   ]
  },
  {
   "cell_type": "code",
   "execution_count": 10,
   "metadata": {},
   "outputs": [
    {
     "name": "stdout",
     "output_type": "stream",
     "text": [
      "['мак', 'мак', 'мак', 'мак', 'мак']\n"
     ]
    }
   ],
   "source": [
    "mixed = ['мак', 'просо', 'мак', 'мак', 'просо', 'мак', 'просо', 'просо', 'просо', 'мак']\n",
    "zolushka = list(filter(lambda x: x == 'мак', mixed))\n",
    "\n",
    "print (zolushka)"
   ]
  },
  {
   "cell_type": "markdown",
   "metadata": {},
   "source": [
    "### 2.3.4 Функция reduce()"
   ]
  },
  {
   "cell_type": "markdown",
   "metadata": {},
   "source": [
    "В Python 3 функция __`reduce()`__ была перемещена в модуль functools"
   ]
  },
  {
   "cell_type": "code",
   "execution_count": 11,
   "metadata": {},
   "outputs": [],
   "source": [
    "from functools import reduce"
   ]
  },
  {
   "cell_type": "markdown",
   "metadata": {},
   "source": [
    "Функция __`reduce()`__ принимает 2 аргумента: функцию и последовательность. __`reduce()`__ последовательно применяет функцию-аргумент к элементам списка, возвращает единичное значение. \n",
    "\n",
    "Вычисление суммы всех элементов списка при помощи reduce:"
   ]
  },
  {
   "cell_type": "code",
   "execution_count": 12,
   "metadata": {},
   "outputs": [
    {
     "name": "stdout",
     "output_type": "stream",
     "text": [
      "15\n"
     ]
    }
   ],
   "source": [
    "items = [1,2,3,4,5]\n",
    "sum_all = reduce(lambda a,x: a + x, items)\n",
    "\n",
    "print (sum_all)"
   ]
  },
  {
   "cell_type": "markdown",
   "metadata": {},
   "source": [
    "`x` – текущий пункт, `а` – аккумулятор. Это значение, которое возвращает выполнение `lambda` на предыдущем пункте. __`reduce()`__ перебирает все значения, и запускает для каждого `lambda` на текущих значениях `а` и `х`, и возвращает результат в `а` для следующей итерации.\n",
    "\n",
    "А чему равно `а` в первой итерации? Оно равно первому элементу коллекции, и __`reduce()`__ начинает работать со второго элемента. То есть, первый `х` будет равен второму предмету набора."
   ]
  },
  {
   "cell_type": "markdown",
   "metadata": {},
   "source": [
    "Вычисление наибольшего элемента в списке при помощи __`reduce()`__:"
   ]
  },
  {
   "cell_type": "code",
   "execution_count": 13,
   "metadata": {},
   "outputs": [
    {
     "name": "stdout",
     "output_type": "stream",
     "text": [
      "32\n"
     ]
    }
   ],
   "source": [
    "items = [1, 24, 17, 14, 9, 32, 2]\n",
    "all_max = reduce(lambda a,b: a if (a > b) else b, items)\n",
    " \n",
    "print (all_max)"
   ]
  },
  {
   "cell_type": "markdown",
   "metadata": {},
   "source": [
    "### 2.3.5 Функция zip()\n",
    "\n",
    "Функция __`zip()`__ объединяет в кортежи элементы из последовательностей переданных в качестве аргументов. \n",
    "\n",
    "__`zip()`__ прекращает выполнение, как только достигнут конец самого короткого списка."
   ]
  },
  {
   "cell_type": "code",
   "execution_count": 14,
   "metadata": {},
   "outputs": [
    {
     "name": "stdout",
     "output_type": "stream",
     "text": [
      "[(1, 'x', None), (2, 'y', True)]\n"
     ]
    }
   ],
   "source": [
    "a = [1,2,3]\n",
    "b = \"xyz\"\n",
    "c = (None, True)\n",
    " \n",
    "res = list(zip(a, b, c))\n",
    "print (res)"
   ]
  }
 ],
 "metadata": {
  "kernelspec": {
   "display_name": "Python 3",
   "language": "python",
   "name": "python3"
  },
  "language_info": {
   "codemirror_mode": {
    "name": "ipython",
    "version": 3
   },
   "file_extension": ".py",
   "mimetype": "text/x-python",
   "name": "python",
   "nbconvert_exporter": "python",
   "pygments_lexer": "ipython3",
   "version": "3.7.4"
  }
 },
 "nbformat": 4,
 "nbformat_minor": 2
}
