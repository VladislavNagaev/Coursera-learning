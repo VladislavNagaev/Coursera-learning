{
 "cells": [
  {
   "cell_type": "markdown",
   "metadata": {},
   "source": [
    "## 2.1 Типы данных Python"
   ]
  },
  {
   "cell_type": "markdown",
   "metadata": {},
   "source": [
    "### 2.1.1 Числовые"
   ]
  },
  {
   "cell_type": "code",
   "execution_count": 1,
   "metadata": {},
   "outputs": [
    {
     "name": "stdout",
     "output_type": "stream",
     "text": [
      "Целые <class 'int'>\n"
     ]
    }
   ],
   "source": [
    "x = 3\n",
    "print('Целые', type(x))"
   ]
  },
  {
   "cell_type": "code",
   "execution_count": 2,
   "metadata": {},
   "outputs": [
    {
     "name": "stdout",
     "output_type": "stream",
     "text": [
      "Вещественные <class 'float'>\n"
     ]
    }
   ],
   "source": [
    "x = 3.1\n",
    "print('Вещественные', type(x))"
   ]
  },
  {
   "cell_type": "code",
   "execution_count": 3,
   "metadata": {},
   "outputs": [
    {
     "name": "stdout",
     "output_type": "stream",
     "text": [
      "Булевы (логические) <class 'bool'>\n"
     ]
    }
   ],
   "source": [
    "a = True\n",
    "b = False\n",
    "print('Булевы (логические)', type(a))"
   ]
  },
  {
   "cell_type": "markdown",
   "metadata": {},
   "source": [
    "### 2.1.2 None"
   ]
  },
  {
   "cell_type": "code",
   "execution_count": 4,
   "metadata": {},
   "outputs": [
    {
     "name": "stdout",
     "output_type": "stream",
     "text": [
      "<class 'NoneType'>\n"
     ]
    }
   ],
   "source": [
    "z = None\n",
    "print(type(z))"
   ]
  },
  {
   "cell_type": "markdown",
   "metadata": {},
   "source": [
    "### 2.1.3 Строковые"
   ]
  },
  {
   "cell_type": "code",
   "execution_count": 5,
   "metadata": {},
   "outputs": [
    {
     "name": "stdout",
     "output_type": "stream",
     "text": [
      "Строковые <class 'str'>\n"
     ]
    }
   ],
   "source": [
    "x = 'abc'\n",
    "print('Строковые', type(x))"
   ]
  },
  {
   "cell_type": "markdown",
   "metadata": {},
   "source": [
    "#### 2.1.3.1 Методы работы со строковыеми переменными \n",
    "\n",
    "Методы __`.upper()`__ и __`.lower()`__ переводят все символы строковой переменной в верхни и нижний регистр соотвественно."
   ]
  },
  {
   "cell_type": "code",
   "execution_count": 6,
   "metadata": {},
   "outputs": [
    {
     "name": "stdout",
     "output_type": "stream",
     "text": [
      "Ivan заглавными символами:  IVAN\n",
      "Ivan сточными символами:  ivan\n"
     ]
    }
   ],
   "source": [
    "a = 'Ivan'\n",
    "print('Ivan заглавными символами: ', a.upper())\n",
    "print('Ivan сточными символами: ', a.lower())"
   ]
  },
  {
   "cell_type": "markdown",
   "metadata": {},
   "source": [
    "Метод __`.split(' ')`__ позволяет разбить переменную выбранным символом\n",
    "\n",
    "Метод __`\" \".join()`__ позволяет склеить переменные при помощи выбранного символа"
   ]
  },
  {
   "cell_type": "code",
   "execution_count": 7,
   "metadata": {},
   "outputs": [
    {
     "name": "stdout",
     "output_type": "stream",
     "text": [
      "Hello,_world!\n"
     ]
    }
   ],
   "source": [
    "print('_'.join(('Hello, world!'.split(' ')))) # заменить в строке 'Hello, world!' пробел на нижнее подчеркивание"
   ]
  },
  {
   "cell_type": "markdown",
   "metadata": {},
   "source": [
    "### 2.1.4 unicode"
   ]
  },
  {
   "cell_type": "code",
   "execution_count": 8,
   "metadata": {},
   "outputs": [
    {
     "name": "stdout",
     "output_type": "stream",
     "text": [
      "Элеонора Михайловна\n",
      "\n",
      "encode to utf-8:  b'\\xd0\\xad\\xd0\\xbb\\xd0\\xb5\\xd0\\xbe\\xd0\\xbd\\xd0\\xbe\\xd1\\x80\\xd0\\xb0 \\xd0\\x9c\\xd0\\xb8\\xd1\\x85\\xd0\\xb0\\xd0\\xb9\\xd0\\xbb\\xd0\\xbe\\xd0\\xb2\\xd0\\xbd\\xd0\\xb0'\n",
      "\n",
      "decode from utf-8:  Элеонора Михайловна\n",
      "\n",
      "decode from cp1251:  Р­Р»РµРѕРЅРѕСЂР° РњРёС…Р°Р№Р»РѕРІРЅР°\n"
     ]
    }
   ],
   "source": [
    "x = 'Элеонора Михайловна'\n",
    "print(x)\n",
    "\n",
    "# Шифровать на utf-8\n",
    "y = x.encode('utf-8')\n",
    "print('\\nencode to utf-8: ', y)\n",
    "\n",
    "# Расшифровать с utf-8\n",
    "z = y.decode('utf-8')\n",
    "print('\\ndecode from utf-8: ', z)\n",
    "\n",
    "# Расшифровать с cp1251\n",
    "q = y.decode('cp1251')\n",
    "print('\\ndecode from cp1251: ', q)"
   ]
  },
  {
   "cell_type": "markdown",
   "metadata": {},
   "source": [
    "### 2.1.5 range"
   ]
  },
  {
   "cell_type": "code",
   "execution_count": 9,
   "metadata": {},
   "outputs": [
    {
     "name": "stdout",
     "output_type": "stream",
     "text": [
      "<class 'range'>\n"
     ]
    }
   ],
   "source": [
    "print(type(range(5)))"
   ]
  },
  {
   "cell_type": "markdown",
   "metadata": {},
   "source": [
    "### 2.1.6 generator"
   ]
  },
  {
   "cell_type": "code",
   "execution_count": 10,
   "metadata": {},
   "outputs": [
    {
     "name": "stdout",
     "output_type": "stream",
     "text": [
      "Генератор <class 'generator'>\n"
     ]
    }
   ],
   "source": [
    "w = (x ** 2 for x in range(1,11) if x % 2 == 0) # В данном случае будет создан генератор\n",
    "print('Генератор', type(w))"
   ]
  },
  {
   "cell_type": "markdown",
   "metadata": {},
   "source": [
    "### 2.1.7 Список (list)\n",
    "\n",
    "Список Python - динамический гетерогенный изменяемый массив пронумерованных с нуля (упорядоченных) данных."
   ]
  },
  {
   "cell_type": "code",
   "execution_count": 11,
   "metadata": {},
   "outputs": [
    {
     "name": "stdout",
     "output_type": "stream",
     "text": [
      "[] [1, 2, 3] []\n"
     ]
    }
   ],
   "source": [
    "l_1 = list()\n",
    "l_2 = [1,2,3]\n",
    "l_3 = []\n",
    "\n",
    "print(l_1, l_2, l_3)"
   ]
  },
  {
   "cell_type": "markdown",
   "metadata": {},
   "source": [
    "Функция __`len()`__ возвращает размер объекта\n",
    "\n",
    "Функция __`del`__ удаляет объет по индексу (`del features[-2]`)\n",
    "\n",
    "Метод __`.append()`__ добавляет объект в конце существующего списка\n",
    "\n",
    "Метод __`.remove()`__ удаляет первое вхождение объекта\n",
    "\n",
    "Метод __`.pop()`__ удаляет объект по индексу (начиная с 0)\n",
    "\n",
    "Метод __`.extend()`__ добавляет все элементы объекта к списку\n",
    "\n",
    "Метод __`.insert(x,y)`__ вставляет объект в существующий список перед индексом, указанным в первом аргументе (не позволяет добавлять объект вконце списка) (x - индекс объекта, перед которым будет выполнена вставка, y - значение (объект) для вставки)"
   ]
  },
  {
   "cell_type": "markdown",
   "metadata": {},
   "source": [
    "__Списки нельзя копировать методом присвоения__. Только методом __`.copy()`__. При использовании оператора присвоения оба объекта будут ссылаться на один и тот же список, и изменяя список для обдного объекта, будет изменяться список для другого, т.к. они ссылаются на один общий список."
   ]
  },
  {
   "cell_type": "markdown",
   "metadata": {},
   "source": [
    "Положительная индексация списков идет с нуля (элементы слева направо), отрицательная с -1 (элементы справа налево). Последний объект всегда имеет индекс -1."
   ]
  },
  {
   "cell_type": "markdown",
   "metadata": {},
   "source": [
    "Вывод заданных элементов списка (срез): `letters[start:stop:step]`"
   ]
  },
  {
   "cell_type": "markdown",
   "metadata": {},
   "source": [
    "`''.join(name[0:3])` - превращает выбранный диапазон списка name в строку"
   ]
  },
  {
   "cell_type": "markdown",
   "metadata": {},
   "source": [
    "Функция __`sorted()`__ позволяет выполнить сортировку"
   ]
  },
  {
   "cell_type": "markdown",
   "metadata": {},
   "source": [
    "#### 2.1.7.1 list comprehension (конструктор списка)\n",
    "\n",
    "Конструктор списка позволяет удобно и компактно задавать списки\n",
    "\n",
    "Вывод квадратов четных чисел диапазона от 1 до 10:"
   ]
  },
  {
   "cell_type": "code",
   "execution_count": 12,
   "metadata": {},
   "outputs": [
    {
     "name": "stdout",
     "output_type": "stream",
     "text": [
      "<class 'list'>\n",
      "<class 'generator'>\n"
     ]
    }
   ],
   "source": [
    "w = [x ** 2 for x in range(1,11) if x % 2 == 0] # В данном случае будет создан список\n",
    "print(type(w))\n",
    "\n",
    "w = (x ** 2 for x in range(1,11) if x % 2 == 0) # В данном случае будет создан генератор\n",
    "print(type(w))"
   ]
  },
  {
   "cell_type": "markdown",
   "metadata": {},
   "source": [
    "### 2.1.8 Кортеж (tuple)\n",
    "\n",
    "Кортеж Python - гетерогенный неизменяемый (после создания) массив пронумерованных с нуля (упорядоченных) данных."
   ]
  },
  {
   "cell_type": "code",
   "execution_count": 13,
   "metadata": {},
   "outputs": [
    {
     "name": "stdout",
     "output_type": "stream",
     "text": [
      "() (1, 2, 3) () (1,)\n",
      "<class 'tuple'>\n"
     ]
    }
   ],
   "source": [
    "t_1 = tuple()\n",
    "t_2 = (1,2,3)\n",
    "t_3 = ()\n",
    "t_4 = (1,) #Для создания кортежа с одним объектом использзуется запятая, иначе будет создана строковая перенная\n",
    "\n",
    "print(t_1, t_2, t_3, t_4)\n",
    "print(type(t_4))"
   ]
  },
  {
   "cell_type": "markdown",
   "metadata": {},
   "source": [
    "### 2.1.9 Словарь (dict)\n",
    "\n",
    "Словарь Python - динамическое гетерогенное изменяемое неупорядоченное множество пар ключ/значениею.\n",
    "Значением может быть любой объект, ключом - только неизменяемая структура."
   ]
  },
  {
   "cell_type": "code",
   "execution_count": 14,
   "metadata": {},
   "outputs": [
    {
     "name": "stdout",
     "output_type": "stream",
     "text": [
      "{} {'first': 1, 'second': 2, 'third': 3} {}\n"
     ]
    }
   ],
   "source": [
    "d_1 = dict()\n",
    "d_2 = {'first':1, 'second':2, 'third':3}\n",
    "d_3 = {}\n",
    "\n",
    "print(d_1, d_2, d_3)"
   ]
  },
  {
   "cell_type": "markdown",
   "metadata": {},
   "source": [
    "Для доступа к данным в словаре используется ключ:"
   ]
  },
  {
   "cell_type": "code",
   "execution_count": 15,
   "metadata": {},
   "outputs": [
    {
     "name": "stdout",
     "output_type": "stream",
     "text": [
      "2\n"
     ]
    }
   ],
   "source": [
    "print(d_2['second'])"
   ]
  },
  {
   "cell_type": "markdown",
   "metadata": {},
   "source": [
    "Ввод новых значений в словарь:"
   ]
  },
  {
   "cell_type": "code",
   "execution_count": 16,
   "metadata": {},
   "outputs": [],
   "source": [
    "d_2['fourth']=4"
   ]
  },
  {
   "cell_type": "markdown",
   "metadata": {},
   "source": [
    "Функция __`sorted()`__ позволяет выполнить сортировку"
   ]
  },
  {
   "cell_type": "markdown",
   "metadata": {},
   "source": [
    "Метод __`.items()`__ возвращает две переменные цикла"
   ]
  },
  {
   "cell_type": "code",
   "execution_count": 17,
   "metadata": {},
   "outputs": [
    {
     "name": "stdout",
     "output_type": "stream",
     "text": [
      "first was found 1 time(s)\n",
      "second was found 2 time(s)\n",
      "third was found 3 time(s)\n"
     ]
    }
   ],
   "source": [
    "found = {'first':1, 'second':2, 'third':3}\n",
    "\n",
    "for k,v in sorted(found.items()):\n",
    "    print(k, 'was found', v, 'time(s)')"
   ]
  },
  {
   "cell_type": "markdown",
   "metadata": {},
   "source": [
    "Метод __`.setdefault()`__ позволяет динамически добавлять в словарь значения.\n",
    "\n",
    "Заменяет двухстрочную инструкцию `if / not in`. Гарантирует, что ключ всегда будет инициализирован до использования."
   ]
  },
  {
   "cell_type": "code",
   "execution_count": null,
   "metadata": {},
   "outputs": [],
   "source": [
    "if 'pears' not in fruits:\n",
    "    fruits['pears'] = 0"
   ]
  },
  {
   "cell_type": "code",
   "execution_count": null,
   "metadata": {},
   "outputs": [],
   "source": [
    "fruits.setdefault('pears', 0) # Аналог функции выше"
   ]
  },
  {
   "cell_type": "markdown",
   "metadata": {},
   "source": [
    "### 2.1.10 Множество (set)\n",
    "\n",
    "Список Python - динамический гетерогенный изменяемый неупорядоченный набор неповторяющихся объектов."
   ]
  },
  {
   "cell_type": "code",
   "execution_count": 20,
   "metadata": {},
   "outputs": [
    {
     "name": "stdout",
     "output_type": "stream",
     "text": [
      "set() {1, 2, 3} set()\n"
     ]
    }
   ],
   "source": [
    "s_1 = set()\n",
    "s_2 = {1,2,3}\n",
    "s_3 = set()\n",
    "\n",
    "print(s_1, s_2, s_3)"
   ]
  },
  {
   "cell_type": "markdown",
   "metadata": {},
   "source": [
    "Более быстрые алгоритмы поиска множест делают их более предпочтительными, чем списки для реализации задач поиска."
   ]
  },
  {
   "cell_type": "markdown",
   "metadata": {},
   "source": [
    "Множества поддерживают такие операции, как _разность, пересечение, объединение_."
   ]
  },
  {
   "cell_type": "markdown",
   "metadata": {},
   "source": [
    "Метод __`.union()`__ позволяет объединять множества.\n",
    "\n",
    "Метод __`.difference()`__ сообщает какие объекты присутствуют в одном множесте, но отсутствуют в другом.\n",
    "\n",
    "Для `d = vowels.difference(set(word))` метод __.difference()__ сравнивает объекты из множества `vowels` с объектами множества `set(word)`, затем возвращает новое множество объектов `d`, которые содержатся в `vowels` и не содержатся в `set(word)`.\n",
    "\n",
    "Метод __`.intersection()`__ выделяет общие объекты.\n",
    "\n",
    "Метод __`.add()`__ позволяет добавлять объекты.\n",
    "\n",
    "Метод __`.remove()`__ позволяет удалять объекты."
   ]
  }
 ],
 "metadata": {
  "kernelspec": {
   "display_name": "Python 3",
   "language": "python",
   "name": "python3"
  },
  "language_info": {
   "codemirror_mode": {
    "name": "ipython",
    "version": 3
   },
   "file_extension": ".py",
   "mimetype": "text/x-python",
   "name": "python",
   "nbconvert_exporter": "python",
   "pygments_lexer": "ipython3",
   "version": "3.7.4"
  }
 },
 "nbformat": 4,
 "nbformat_minor": 2
}
